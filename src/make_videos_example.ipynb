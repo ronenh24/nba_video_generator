{
 "cells": [
  {
   "cell_type": "code",
   "execution_count": 1,
   "id": "05f52c2d",
   "metadata": {},
   "outputs": [],
   "source": [
    "from IPython.display import Video\n",
    "from nba_video_generator.search import generate_video, make_video"
   ]
  },
  {
   "cell_type": "markdown",
   "id": "4ebf8468",
   "metadata": {},
   "source": [
    "# Simple Example"
   ]
  },
  {
   "cell_type": "markdown",
   "id": "2476e529",
   "metadata": {},
   "source": [
    "Trae Young All Assists and Turnovers in first week of November."
   ]
  },
  {
   "cell_type": "code",
   "execution_count": 2,
   "id": "cdb76851",
   "metadata": {},
   "outputs": [
    {
     "name": "stdout",
     "output_type": "stream",
     "text": [
      "https://www.nba.com/game/sac-vs-atl-0022400135/box-score#box-score\n",
      "[1] Video URL: https://videos.nba.com/nba/pbp/media/2024/11/01/0022400135/224/c3132ed1-746b-8f7d-bf86-d5410acdce05_1280x720.mp4\n",
      "[2] Video URL: https://videos.nba.com/nba/pbp/media/2024/11/01/0022400135/227/4a523fcd-ca09-bcf9-0d6c-1e5feebacbb7_1280x720.mp4\n",
      "[3] Video URL: https://videos.nba.com/nba/pbp/media/2024/11/01/0022400135/243/ca0265c1-0fe5-c388-7fdf-07e7f270360a_1280x720.mp4\n",
      "[4] Video URL: https://videos.nba.com/nba/pbp/media/2024/11/01/0022400135/291/219b9468-daf1-e5c1-dd42-e063b95e64db_1280x720.mp4\n",
      "[5] Video URL: https://videos.nba.com/nba/pbp/media/2024/11/01/0022400135/386/179195ea-0e62-8740-15d1-402078b44b40_1280x720.mp4\n",
      "[6] Video URL: https://videos.nba.com/nba/pbp/media/2024/11/01/0022400135/391/47013e0f-871d-250e-64ec-2bde84f48fe3_1280x720.mp4\n",
      "[7] Video URL: https://videos.nba.com/nba/pbp/media/2024/11/01/0022400135/414/d32ed4d7-4628-c5c7-1f74-e65261ed0156_1280x720.mp4\n",
      "[8] Video URL: https://videos.nba.com/nba/pbp/media/2024/11/01/0022400135/528/68df2673-50ac-edfb-9b0f-f1c5ac041ad4_1280x720.mp4\n",
      "[9] Video URL: https://videos.nba.com/nba/pbp/media/2024/11/01/0022400135/587/77882258-08c7-1528-f6b0-9c7f2cec6c1a_1280x720.mp4\n",
      "[10] Video URL: https://videos.nba.com/nba/pbp/media/2024/11/01/0022400135/595/cf519c29-a630-dfe6-9913-0ac27584b3cf_1280x720.mp4\n",
      "[11] Video URL: https://videos.nba.com/nba/pbp/media/2024/11/01/0022400135/628/9debf457-4f66-4a65-c358-4978838f7327_1280x720.mp4\n",
      "[12] Video URL: https://videos.nba.com/nba/pbp/media/2024/11/01/0022400135/658/cee9d72a-0c64-2110-4c5d-bcad20b9abe5_1280x720.mp4\n",
      "[1] Video URL: https://videos.nba.com/nba/pbp/media/2024/11/01/0022400135/99/9330ec3a-45ba-4f2a-77cc-ade4b87de2e0_1280x720.mp4\n",
      "[2] Video URL: https://videos.nba.com/nba/pbp/media/2024/11/01/0022400135/398/a046efaa-ecef-5f4c-2b5b-d81dcc1b0601_1280x720.mp4\n",
      "[3] Video URL: https://videos.nba.com/nba/pbp/media/2024/11/01/0022400135/441/48f08a96-2966-e0e3-547c-de0620603c07_1280x720.mp4\n",
      "[4] Video URL: https://videos.nba.com/nba/pbp/media/2024/11/01/0022400135/618/0b6945f8-57de-2e24-1835-a99676cedf74_1280x720.mp4\n",
      "[5] Video URL: https://videos.nba.com/nba/pbp/media/2024/11/01/0022400135/638/2bb96810-e3a2-844d-14cf-fe582dcc2503_1280x720.mp4\n",
      "\n",
      "https://www.nba.com/game/atl-vs-nop-0022400152/box-score#box-score\n",
      "[1] Video URL: https://videos.nba.com/nba/pbp/media/2024/11/03/0022400152/31/d1680299-b476-39cd-2717-0a2bde0e1ecc_1280x720.mp4\n",
      "[2] Video URL: https://videos.nba.com/nba/pbp/media/2024/11/03/0022400152/45/87f00c65-99e2-2e8c-c708-b650789fe91a_1280x720.mp4\n",
      "[3] Video URL: https://videos.nba.com/nba/pbp/media/2024/11/03/0022400152/56/0f826d44-ac4c-854a-afb0-e1dc7509069b_1280x720.mp4\n",
      "[4] Video URL: https://videos.nba.com/nba/pbp/media/2024/11/03/0022400152/258/b2fb3825-6ad1-ab72-0b33-3d726a742f78_1280x720.mp4\n",
      "[5] Video URL: https://videos.nba.com/nba/pbp/media/2024/11/03/0022400152/317/d5374f39-0bb0-ea62-376c-b4ded8fa4fb1_1280x720.mp4\n",
      "[6] Video URL: https://videos.nba.com/nba/pbp/media/2024/11/03/0022400152/356/2dde4d27-7f23-3b28-b6e7-e15ea99bd41e_1280x720.mp4\n",
      "[7] Video URL: https://videos.nba.com/nba/pbp/media/2024/11/03/0022400152/359/527185af-544c-2d33-b01f-0b8caca5aa1c_1280x720.mp4\n",
      "[8] Video URL: https://videos.nba.com/nba/pbp/media/2024/11/03/0022400152/369/c2a1e783-598b-2a95-441b-9e03eabe11e1_1280x720.mp4\n",
      "[9] Video URL: https://videos.nba.com/nba/pbp/media/2024/11/03/0022400152/409/e9049195-72e2-38cc-3e3f-a90c1f2f596a_1280x720.mp4\n",
      "[10] Video URL: https://videos.nba.com/nba/pbp/media/2024/11/03/0022400152/421/2bfa4d75-96a0-696b-d50e-4ad697d4f124_1280x720.mp4\n",
      "[11] Video URL: https://videos.nba.com/nba/pbp/media/2024/11/03/0022400152/427/a220522f-d691-b425-8270-5716c90d90a7_1280x720.mp4\n",
      "[12] Video URL: https://videos.nba.com/nba/pbp/media/2024/11/03/0022400152/568/c3a8b19e-0cd5-7514-44b3-5536d58e02a2_1280x720.mp4\n",
      "[1] Video URL: https://videos.nba.com/nba/pbp/media/2024/11/03/0022400152/389/45a9d6e2-4169-798d-d6e6-10d2269068a7_1280x720.mp4\n",
      "[2] Video URL: https://videos.nba.com/nba/pbp/media/2024/11/03/0022400152/455/ff6bfeb7-3fd1-5cd7-aba4-0e0fd50eacf4_1280x720.mp4\n",
      "\n",
      "https://www.nba.com/game/bos-vs-atl-0022400157/box-score#box-score\n",
      "[1] Video URL: https://videos.nba.com/nba/pbp/media/2024/11/04/0022400157/67/d3ef7925-08db-5bac-6150-a28068e40abc_1280x720.mp4\n",
      "[2] Video URL: https://videos.nba.com/nba/pbp/media/2024/11/04/0022400157/232/4d59e4d5-7076-80e8-da11-28f1aae44ac5_1280x720.mp4\n",
      "[3] Video URL: https://videos.nba.com/nba/pbp/media/2024/11/04/0022400157/253/93c972b8-a830-dc56-cd2a-1461f1813bb7_1280x720.mp4\n",
      "[4] Video URL: https://videos.nba.com/nba/pbp/media/2024/11/04/0022400157/299/c4ff229c-f4b0-8ccc-55a6-73661b9fbade_1280x720.mp4\n",
      "[5] Video URL: https://videos.nba.com/nba/pbp/media/2024/11/04/0022400157/378/294c476b-b7ac-685f-0624-58c02fb0e253_1280x720.mp4\n",
      "[6] Video URL: https://videos.nba.com/nba/pbp/media/2024/11/04/0022400157/414/344b9e6e-15ef-1c99-bfbf-56f1ea879b5e_1280x720.mp4\n",
      "[1] Video URL: https://videos.nba.com/nba/pbp/media/2024/11/04/0022400157/288/b6fe0423-9465-41f0-35cc-6f477a370787_1280x720.mp4\n",
      "[2] Video URL: https://videos.nba.com/nba/pbp/media/2024/11/04/0022400157/395/c5c1128f-250c-e4ba-99f1-1a0a7d4dc1b9_1280x720.mp4\n",
      "[3] Video URL: https://videos.nba.com/nba/pbp/media/2024/11/04/0022400157/427/5fb1ba13-3de4-d79d-6e18-7d9ea9b20dcb_1280x720.mp4\n",
      "\n",
      "https://www.nba.com/game/nyk-vs-atl-0022400171/box-score#box-score\n",
      "[1] Video URL: https://videos.nba.com/nba/pbp/media/2024/11/06/0022400171/25/809b1fdf-388b-d7c3-d5c6-9794cdc228bd_1280x720.mp4\n",
      "[2] Video URL: https://videos.nba.com/nba/pbp/media/2024/11/06/0022400171/45/c8a18b6a-b605-0686-5292-45738c5164e5_1280x720.mp4\n",
      "[3] Video URL: https://videos.nba.com/nba/pbp/media/2024/11/06/0022400171/49/39406761-8fd3-ef34-abb2-6bbef0353cb7_1280x720.mp4\n",
      "[4] Video URL: https://videos.nba.com/nba/pbp/media/2024/11/06/0022400171/61/190eeca1-940c-910a-0f73-98d0c0f62abd_1280x720.mp4\n",
      "[5] Video URL: https://videos.nba.com/nba/pbp/media/2024/11/06/0022400171/90/efeb8096-9cd5-f835-a634-cf992ee047c0_1280x720.mp4\n",
      "[6] Video URL: https://videos.nba.com/nba/pbp/media/2024/11/06/0022400171/295/094b52ae-570a-7246-79a3-ea7d61203226_1280x720.mp4\n",
      "[7] Video URL: https://videos.nba.com/nba/pbp/media/2024/11/06/0022400171/336/217695d0-810f-d3ec-8559-8663ed52f04c_1280x720.mp4\n",
      "[8] Video URL: https://videos.nba.com/nba/pbp/media/2024/11/06/0022400171/363/55c895fe-7613-0ed8-350c-d04b9a6f1623_1280x720.mp4\n",
      "[9] Video URL: https://videos.nba.com/nba/pbp/media/2024/11/06/0022400171/600/9e11f297-90bb-8ac0-0ef5-3add55bd2bdb_1280x720.mp4\n",
      "[10] Video URL: https://videos.nba.com/nba/pbp/media/2024/11/06/0022400171/615/4426efe7-6bcb-9de5-0690-3a7e66c6a5a2_1280x720.mp4\n",
      "[1] Video URL: https://videos.nba.com/nba/pbp/media/2024/11/06/0022400171/42/b68e4fce-9068-33d9-fa14-bd0a5f5f7aa3_1280x720.mp4\n",
      "[2] Video URL: https://videos.nba.com/nba/pbp/media/2024/11/06/0022400171/84/f8942ab7-88f6-2cb5-1e1a-c5dd58d6eda3_1280x720.mp4\n",
      "\n",
      "https://www.nba.com/game/atl-vs-det-0022400185/box-score#box-score\n",
      "[1] Video URL: https://videos.nba.com/nba/pbp/media/2024/11/08/0022400185/25/86ad4cb9-84d9-5140-03a7-2a188938a57c_1280x720.mp4\n",
      "[2] Video URL: https://videos.nba.com/nba/pbp/media/2024/11/08/0022400185/33/2ef2c0f7-880d-f876-2a2e-5ea58b113f75_1280x720.mp4\n",
      "[3] Video URL: https://videos.nba.com/nba/pbp/media/2024/11/08/0022400185/385/778abdb4-06fe-140b-f956-ae3543eb5317_1280x720.mp4\n",
      "[4] Video URL: https://videos.nba.com/nba/pbp/media/2024/11/08/0022400185/493/4745f664-bceb-2a91-dcdc-18e73c2e9e6f_1280x720.mp4\n",
      "[5] Video URL: https://videos.nba.com/nba/pbp/media/2024/11/08/0022400185/510/16ada4a7-9514-7995-fe5b-346f9d02fa41_1280x720.mp4\n",
      "[6] Video URL: https://videos.nba.com/nba/pbp/media/2024/11/08/0022400185/521/862e656d-138e-00d5-a099-76a009646924_1280x720.mp4\n",
      "[7] Video URL: https://videos.nba.com/nba/pbp/media/2024/11/08/0022400185/605/efbbc2a1-f040-a89f-6d54-72e757d8b568_1280x720.mp4\n",
      "[8] Video URL: https://videos.nba.com/nba/pbp/media/2024/11/08/0022400185/637/13f8a8e1-9506-97f7-79fe-ef86cc5a397a_1280x720.mp4\n",
      "[9] Video URL: https://videos.nba.com/nba/pbp/media/2024/11/08/0022400185/641/790398d6-2a90-3947-268e-e093a16f6f3f_1280x720.mp4\n",
      "[10] Video URL: https://videos.nba.com/nba/pbp/media/2024/11/08/0022400185/645/230e283a-8a47-5dcb-bfad-1347f230458e_1280x720.mp4\n",
      "[11] Video URL: https://videos.nba.com/nba/pbp/media/2024/11/08/0022400185/670/a063bd31-2f43-9f02-abd8-74b4bd9c8a88_1280x720.mp4\n",
      "[12] Video URL: https://videos.nba.com/nba/pbp/media/2024/11/08/0022400185/699/fe39fb75-858e-70c3-6556-c0bff7af3742_1280x720.mp4\n",
      "[13] Video URL: https://videos.nba.com/nba/pbp/media/2024/11/08/0022400185/727/58b2437b-e8bd-294f-1535-346a78e8baa3_1280x720.mp4\n",
      "[1] Video URL: https://videos.nba.com/nba/pbp/media/2024/11/08/0022400185/30/aed62914-f520-b1ce-677d-bc172481e29a_1280x720.mp4\n",
      "[2] Video URL: https://videos.nba.com/nba/pbp/media/2024/11/08/0022400185/359/257d7cc1-fd8e-ddb1-6d13-565c9f522878_1280x720.mp4\n",
      "[3] Video URL: https://videos.nba.com/nba/pbp/media/2024/11/08/0022400185/678/74e4c573-2039-26cf-5bd5-2d45af295c05_1280x720.mp4\n",
      "\n"
     ]
    }
   ],
   "source": [
    "trae_young_assists_urls = generate_video(\n",
    "    player_name=\"Trae Young\", date_start=\"2024-11-01\", date_end=\"2024-11-08\", team=\"atl\",\n",
    "    FGM=False, FGA=False, ThreePM=False, ThreePA=False, OREB=False, DREB=False,\n",
    "    REB=False, AST=True, STL=False, BLK=False, TO=True, PF=False\n",
    ")"
   ]
  },
  {
   "cell_type": "code",
   "execution_count": 3,
   "id": "9b8ff2f2",
   "metadata": {},
   "outputs": [
    {
     "data": {
      "text/plain": [
       "{'2024-11-01': [('https://videos.nba.com/nba/pbp/media/2024/11/01/0022400135/99/9330ec3a-45ba-4f2a-77cc-ade4b87de2e0_1280x720.mp4',\n",
       "   '1',\n",
       "   '4:54'),\n",
       "  ('https://videos.nba.com/nba/pbp/media/2024/11/01/0022400135/224/c3132ed1-746b-8f7d-bf86-d5410acdce05_1280x720.mp4',\n",
       "   '2',\n",
       "   '8:57'),\n",
       "  ('https://videos.nba.com/nba/pbp/media/2024/11/01/0022400135/227/4a523fcd-ca09-bcf9-0d6c-1e5feebacbb7_1280x720.mp4',\n",
       "   '2',\n",
       "   '8:29'),\n",
       "  ('https://videos.nba.com/nba/pbp/media/2024/11/01/0022400135/243/ca0265c1-0fe5-c388-7fdf-07e7f270360a_1280x720.mp4',\n",
       "   '2',\n",
       "   '7:32'),\n",
       "  ('https://videos.nba.com/nba/pbp/media/2024/11/01/0022400135/291/219b9468-daf1-e5c1-dd42-e063b95e64db_1280x720.mp4',\n",
       "   '2',\n",
       "   '4:09'),\n",
       "  ('https://videos.nba.com/nba/pbp/media/2024/11/01/0022400135/386/179195ea-0e62-8740-15d1-402078b44b40_1280x720.mp4',\n",
       "   '3',\n",
       "   '10:07'),\n",
       "  ('https://videos.nba.com/nba/pbp/media/2024/11/01/0022400135/391/47013e0f-871d-250e-64ec-2bde84f48fe3_1280x720.mp4',\n",
       "   '3',\n",
       "   '9:44'),\n",
       "  ('https://videos.nba.com/nba/pbp/media/2024/11/01/0022400135/398/a046efaa-ecef-5f4c-2b5b-d81dcc1b0601_1280x720.mp4',\n",
       "   '3',\n",
       "   '9:22'),\n",
       "  ('https://videos.nba.com/nba/pbp/media/2024/11/01/0022400135/414/d32ed4d7-4628-c5c7-1f74-e65261ed0156_1280x720.mp4',\n",
       "   '3',\n",
       "   '7:47'),\n",
       "  ('https://videos.nba.com/nba/pbp/media/2024/11/01/0022400135/441/48f08a96-2966-e0e3-547c-de0620603c07_1280x720.mp4',\n",
       "   '3',\n",
       "   '5:22'),\n",
       "  ('https://videos.nba.com/nba/pbp/media/2024/11/01/0022400135/528/68df2673-50ac-edfb-9b0f-f1c5ac041ad4_1280x720.mp4',\n",
       "   '4',\n",
       "   '11:21'),\n",
       "  ('https://videos.nba.com/nba/pbp/media/2024/11/01/0022400135/587/77882258-08c7-1528-f6b0-9c7f2cec6c1a_1280x720.mp4',\n",
       "   '4',\n",
       "   '7:15'),\n",
       "  ('https://videos.nba.com/nba/pbp/media/2024/11/01/0022400135/595/cf519c29-a630-dfe6-9913-0ac27584b3cf_1280x720.mp4',\n",
       "   '4',\n",
       "   '6:22'),\n",
       "  ('https://videos.nba.com/nba/pbp/media/2024/11/01/0022400135/618/0b6945f8-57de-2e24-1835-a99676cedf74_1280x720.mp4',\n",
       "   '4',\n",
       "   '4:27'),\n",
       "  ('https://videos.nba.com/nba/pbp/media/2024/11/01/0022400135/628/9debf457-4f66-4a65-c358-4978838f7327_1280x720.mp4',\n",
       "   '4',\n",
       "   '3:44'),\n",
       "  ('https://videos.nba.com/nba/pbp/media/2024/11/01/0022400135/638/2bb96810-e3a2-844d-14cf-fe582dcc2503_1280x720.mp4',\n",
       "   '4',\n",
       "   '2:37'),\n",
       "  ('https://videos.nba.com/nba/pbp/media/2024/11/01/0022400135/658/cee9d72a-0c64-2110-4c5d-bcad20b9abe5_1280x720.mp4',\n",
       "   '4',\n",
       "   '1:09')],\n",
       " '2024-11-03': [('https://videos.nba.com/nba/pbp/media/2024/11/03/0022400152/31/d1680299-b476-39cd-2717-0a2bde0e1ecc_1280x720.mp4',\n",
       "   '1',\n",
       "   '9:47'),\n",
       "  ('https://videos.nba.com/nba/pbp/media/2024/11/03/0022400152/45/87f00c65-99e2-2e8c-c708-b650789fe91a_1280x720.mp4',\n",
       "   '1',\n",
       "   '8:03'),\n",
       "  ('https://videos.nba.com/nba/pbp/media/2024/11/03/0022400152/56/0f826d44-ac4c-854a-afb0-e1dc7509069b_1280x720.mp4',\n",
       "   '1',\n",
       "   '7:04'),\n",
       "  ('https://videos.nba.com/nba/pbp/media/2024/11/03/0022400152/258/b2fb3825-6ad1-ab72-0b33-3d726a742f78_1280x720.mp4',\n",
       "   '2',\n",
       "   '5:58'),\n",
       "  ('https://videos.nba.com/nba/pbp/media/2024/11/03/0022400152/317/d5374f39-0bb0-ea62-376c-b4ded8fa4fb1_1280x720.mp4',\n",
       "   '2',\n",
       "   '2:01'),\n",
       "  ('https://videos.nba.com/nba/pbp/media/2024/11/03/0022400152/356/2dde4d27-7f23-3b28-b6e7-e15ea99bd41e_1280x720.mp4',\n",
       "   '3',\n",
       "   '11:43'),\n",
       "  ('https://videos.nba.com/nba/pbp/media/2024/11/03/0022400152/359/527185af-544c-2d33-b01f-0b8caca5aa1c_1280x720.mp4',\n",
       "   '3',\n",
       "   '11:17'),\n",
       "  ('https://videos.nba.com/nba/pbp/media/2024/11/03/0022400152/369/c2a1e783-598b-2a95-441b-9e03eabe11e1_1280x720.mp4',\n",
       "   '3',\n",
       "   '10:09'),\n",
       "  ('https://videos.nba.com/nba/pbp/media/2024/11/03/0022400152/389/45a9d6e2-4169-798d-d6e6-10d2269068a7_1280x720.mp4',\n",
       "   '3',\n",
       "   '8:07'),\n",
       "  ('https://videos.nba.com/nba/pbp/media/2024/11/03/0022400152/409/e9049195-72e2-38cc-3e3f-a90c1f2f596a_1280x720.mp4',\n",
       "   '3',\n",
       "   '6:17'),\n",
       "  ('https://videos.nba.com/nba/pbp/media/2024/11/03/0022400152/421/2bfa4d75-96a0-696b-d50e-4ad697d4f124_1280x720.mp4',\n",
       "   '3',\n",
       "   '5:40'),\n",
       "  ('https://videos.nba.com/nba/pbp/media/2024/11/03/0022400152/427/a220522f-d691-b425-8270-5716c90d90a7_1280x720.mp4',\n",
       "   '3',\n",
       "   '5:13'),\n",
       "  ('https://videos.nba.com/nba/pbp/media/2024/11/03/0022400152/455/ff6bfeb7-3fd1-5cd7-aba4-0e0fd50eacf4_1280x720.mp4',\n",
       "   '3',\n",
       "   '3:25'),\n",
       "  ('https://videos.nba.com/nba/pbp/media/2024/11/03/0022400152/568/c3a8b19e-0cd5-7514-44b3-5536d58e02a2_1280x720.mp4',\n",
       "   '4',\n",
       "   '5:20')],\n",
       " '2024-11-04': [('https://videos.nba.com/nba/pbp/media/2024/11/04/0022400157/67/d3ef7925-08db-5bac-6150-a28068e40abc_1280x720.mp4',\n",
       "   '1',\n",
       "   '6:01'),\n",
       "  ('https://videos.nba.com/nba/pbp/media/2024/11/04/0022400157/232/4d59e4d5-7076-80e8-da11-28f1aae44ac5_1280x720.mp4',\n",
       "   '2',\n",
       "   '6:54'),\n",
       "  ('https://videos.nba.com/nba/pbp/media/2024/11/04/0022400157/253/93c972b8-a830-dc56-cd2a-1461f1813bb7_1280x720.mp4',\n",
       "   '2',\n",
       "   '5:37'),\n",
       "  ('https://videos.nba.com/nba/pbp/media/2024/11/04/0022400157/288/b6fe0423-9465-41f0-35cc-6f477a370787_1280x720.mp4',\n",
       "   '2',\n",
       "   '3:01'),\n",
       "  ('https://videos.nba.com/nba/pbp/media/2024/11/04/0022400157/299/c4ff229c-f4b0-8ccc-55a6-73661b9fbade_1280x720.mp4',\n",
       "   '2',\n",
       "   '2:37'),\n",
       "  ('https://videos.nba.com/nba/pbp/media/2024/11/04/0022400157/378/294c476b-b7ac-685f-0624-58c02fb0e253_1280x720.mp4',\n",
       "   '3',\n",
       "   '7:50'),\n",
       "  ('https://videos.nba.com/nba/pbp/media/2024/11/04/0022400157/395/c5c1128f-250c-e4ba-99f1-1a0a7d4dc1b9_1280x720.mp4',\n",
       "   '3',\n",
       "   '6:31'),\n",
       "  ('https://videos.nba.com/nba/pbp/media/2024/11/04/0022400157/414/344b9e6e-15ef-1c99-bfbf-56f1ea879b5e_1280x720.mp4',\n",
       "   '3',\n",
       "   '5:12'),\n",
       "  ('https://videos.nba.com/nba/pbp/media/2024/11/04/0022400157/427/5fb1ba13-3de4-d79d-6e18-7d9ea9b20dcb_1280x720.mp4',\n",
       "   '3',\n",
       "   '4:17')],\n",
       " '2024-11-06': [('https://videos.nba.com/nba/pbp/media/2024/11/06/0022400171/25/809b1fdf-388b-d7c3-d5c6-9794cdc228bd_1280x720.mp4',\n",
       "   '1',\n",
       "   '10:25'),\n",
       "  ('https://videos.nba.com/nba/pbp/media/2024/11/06/0022400171/42/b68e4fce-9068-33d9-fa14-bd0a5f5f7aa3_1280x720.mp4',\n",
       "   '1',\n",
       "   '8:55'),\n",
       "  ('https://videos.nba.com/nba/pbp/media/2024/11/06/0022400171/45/c8a18b6a-b605-0686-5292-45738c5164e5_1280x720.mp4',\n",
       "   '1',\n",
       "   '8:14'),\n",
       "  ('https://videos.nba.com/nba/pbp/media/2024/11/06/0022400171/49/39406761-8fd3-ef34-abb2-6bbef0353cb7_1280x720.mp4',\n",
       "   '1',\n",
       "   '7:46'),\n",
       "  ('https://videos.nba.com/nba/pbp/media/2024/11/06/0022400171/61/190eeca1-940c-910a-0f73-98d0c0f62abd_1280x720.mp4',\n",
       "   '1',\n",
       "   '6:48'),\n",
       "  ('https://videos.nba.com/nba/pbp/media/2024/11/06/0022400171/84/f8942ab7-88f6-2cb5-1e1a-c5dd58d6eda3_1280x720.mp4',\n",
       "   '1',\n",
       "   '5:24'),\n",
       "  ('https://videos.nba.com/nba/pbp/media/2024/11/06/0022400171/90/efeb8096-9cd5-f835-a634-cf992ee047c0_1280x720.mp4',\n",
       "   '1',\n",
       "   '5:01'),\n",
       "  ('https://videos.nba.com/nba/pbp/media/2024/11/06/0022400171/295/094b52ae-570a-7246-79a3-ea7d61203226_1280x720.mp4',\n",
       "   '2',\n",
       "   '1:58'),\n",
       "  ('https://videos.nba.com/nba/pbp/media/2024/11/06/0022400171/336/217695d0-810f-d3ec-8559-8663ed52f04c_1280x720.mp4',\n",
       "   '3',\n",
       "   '10:04'),\n",
       "  ('https://videos.nba.com/nba/pbp/media/2024/11/06/0022400171/363/55c895fe-7613-0ed8-350c-d04b9a6f1623_1280x720.mp4',\n",
       "   '3',\n",
       "   '7:58'),\n",
       "  ('https://videos.nba.com/nba/pbp/media/2024/11/06/0022400171/600/9e11f297-90bb-8ac0-0ef5-3add55bd2bdb_1280x720.mp4',\n",
       "   '4',\n",
       "   '1:31'),\n",
       "  ('https://videos.nba.com/nba/pbp/media/2024/11/06/0022400171/615/4426efe7-6bcb-9de5-0690-3a7e66c6a5a2_1280x720.mp4',\n",
       "   '4',\n",
       "   '0:47')],\n",
       " '2024-11-08': [('https://videos.nba.com/nba/pbp/media/2024/11/08/0022400185/25/86ad4cb9-84d9-5140-03a7-2a188938a57c_1280x720.mp4',\n",
       "   '1',\n",
       "   '9:52'),\n",
       "  ('https://videos.nba.com/nba/pbp/media/2024/11/08/0022400185/30/aed62914-f520-b1ce-677d-bc172481e29a_1280x720.mp4',\n",
       "   '1',\n",
       "   '9:32'),\n",
       "  ('https://videos.nba.com/nba/pbp/media/2024/11/08/0022400185/33/2ef2c0f7-880d-f876-2a2e-5ea58b113f75_1280x720.mp4',\n",
       "   '1',\n",
       "   '9:00'),\n",
       "  ('https://videos.nba.com/nba/pbp/media/2024/11/08/0022400185/359/257d7cc1-fd8e-ddb1-6d13-565c9f522878_1280x720.mp4',\n",
       "   '2',\n",
       "   '2:04'),\n",
       "  ('https://videos.nba.com/nba/pbp/media/2024/11/08/0022400185/385/778abdb4-06fe-140b-f956-ae3543eb5317_1280x720.mp4',\n",
       "   '2',\n",
       "   '0:06'),\n",
       "  ('https://videos.nba.com/nba/pbp/media/2024/11/08/0022400185/493/4745f664-bceb-2a91-dcdc-18e73c2e9e6f_1280x720.mp4',\n",
       "   '3',\n",
       "   '4:34'),\n",
       "  ('https://videos.nba.com/nba/pbp/media/2024/11/08/0022400185/510/16ada4a7-9514-7995-fe5b-346f9d02fa41_1280x720.mp4',\n",
       "   '3',\n",
       "   '3:44'),\n",
       "  ('https://videos.nba.com/nba/pbp/media/2024/11/08/0022400185/521/862e656d-138e-00d5-a099-76a009646924_1280x720.mp4',\n",
       "   '3',\n",
       "   '2:54'),\n",
       "  ('https://videos.nba.com/nba/pbp/media/2024/11/08/0022400185/605/efbbc2a1-f040-a89f-6d54-72e757d8b568_1280x720.mp4',\n",
       "   '4',\n",
       "   '9:37'),\n",
       "  ('https://videos.nba.com/nba/pbp/media/2024/11/08/0022400185/637/13f8a8e1-9506-97f7-79fe-ef86cc5a397a_1280x720.mp4',\n",
       "   '4',\n",
       "   '7:24'),\n",
       "  ('https://videos.nba.com/nba/pbp/media/2024/11/08/0022400185/641/790398d6-2a90-3947-268e-e093a16f6f3f_1280x720.mp4',\n",
       "   '4',\n",
       "   '7:02'),\n",
       "  ('https://videos.nba.com/nba/pbp/media/2024/11/08/0022400185/645/230e283a-8a47-5dcb-bfad-1347f230458e_1280x720.mp4',\n",
       "   '4',\n",
       "   '6:30'),\n",
       "  ('https://videos.nba.com/nba/pbp/media/2024/11/08/0022400185/670/a063bd31-2f43-9f02-abd8-74b4bd9c8a88_1280x720.mp4',\n",
       "   '4',\n",
       "   '5:34'),\n",
       "  ('https://videos.nba.com/nba/pbp/media/2024/11/08/0022400185/678/74e4c573-2039-26cf-5bd5-2d45af295c05_1280x720.mp4',\n",
       "   '4',\n",
       "   '4:51'),\n",
       "  ('https://videos.nba.com/nba/pbp/media/2024/11/08/0022400185/699/fe39fb75-858e-70c3-6556-c0bff7af3742_1280x720.mp4',\n",
       "   '4',\n",
       "   '2:55'),\n",
       "  ('https://videos.nba.com/nba/pbp/media/2024/11/08/0022400185/727/58b2437b-e8bd-294f-1535-346a78e8baa3_1280x720.mp4',\n",
       "   '4',\n",
       "   '0:42')]}"
      ]
     },
     "execution_count": 3,
     "metadata": {},
     "output_type": "execute_result"
    }
   ],
   "source": [
    "trae_young_assists_urls"
   ]
  },
  {
   "cell_type": "code",
   "execution_count": 4,
   "id": "b40b04c4",
   "metadata": {},
   "outputs": [
    {
     "name": "stdout",
     "output_type": "stream",
     "text": [
      "MoviePy - Building video example_20241101.mp4.\n",
      "MoviePy - Writing audio in example_20241101TEMP_MPY_wvf_snd.mp3\n"
     ]
    },
    {
     "name": "stderr",
     "output_type": "stream",
     "text": [
      "                                                                      \r"
     ]
    },
    {
     "name": "stdout",
     "output_type": "stream",
     "text": [
      "MoviePy - Done.\n",
      "MoviePy - Writing video example_20241101.mp4\n",
      "\n"
     ]
    },
    {
     "name": "stderr",
     "output_type": "stream",
     "text": [
      "frame_index:  45%|████▌     | 2321/5123 [00:50<01:05, 42.55it/s, now=None]C:\\Users\\ronen\\AppData\\Local\\Packages\\PythonSoftwareFoundation.Python.3.11_qbz5n2kfra8p0\\LocalCache\\local-packages\\Python311\\site-packages\\moviepy\\video\\io\\ffmpeg_reader.py:190: UserWarning: In file https://videos.nba.com/nba/pbp/media/2024/11/01/0022400135/398/a046efaa-ecef-5f4c-2b5b-d81dcc1b0601_1280x720.mp4, 2764800 bytes wanted but 0 bytes read at frame index 649 (out of a total 649 frames), at time 10.82/10.82 sec. Using the last valid frame instead.\n",
      "  warnings.warn(\n",
      "frame_index:  69%|██████▊   | 3519/5123 [01:15<00:32, 49.22it/s, now=None]C:\\Users\\ronen\\AppData\\Local\\Packages\\PythonSoftwareFoundation.Python.3.11_qbz5n2kfra8p0\\LocalCache\\local-packages\\Python311\\site-packages\\moviepy\\video\\io\\ffmpeg_reader.py:190: UserWarning: In file https://videos.nba.com/nba/pbp/media/2024/11/01/0022400135/587/77882258-08c7-1528-f6b0-9c7f2cec6c1a_1280x720.mp4, 2764800 bytes wanted but 0 bytes read at frame index 547 (out of a total 547 frames), at time 9.12/9.12 sec. Using the last valid frame instead.\n",
      "  warnings.warn(\n",
      "                                                                          \r"
     ]
    },
    {
     "name": "stdout",
     "output_type": "stream",
     "text": [
      "MoviePy - Done !\n",
      "MoviePy - video ready example_20241101.mp4\n",
      "MoviePy - Building video example_20241103.mp4.\n",
      "MoviePy - Writing audio in example_20241103TEMP_MPY_wvf_snd.mp3\n"
     ]
    },
    {
     "name": "stderr",
     "output_type": "stream",
     "text": [
      "                                                                      \r"
     ]
    },
    {
     "name": "stdout",
     "output_type": "stream",
     "text": [
      "MoviePy - Done.\n",
      "MoviePy - Writing video example_20241103.mp4\n",
      "\n"
     ]
    },
    {
     "name": "stderr",
     "output_type": "stream",
     "text": [
      "                                                                          \r"
     ]
    },
    {
     "name": "stdout",
     "output_type": "stream",
     "text": [
      "MoviePy - Done !\n",
      "MoviePy - video ready example_20241103.mp4\n",
      "MoviePy - Building video example_20241104.mp4.\n",
      "MoviePy - Writing audio in example_20241104TEMP_MPY_wvf_snd.mp3\n"
     ]
    },
    {
     "name": "stderr",
     "output_type": "stream",
     "text": [
      "                                                                      \r"
     ]
    },
    {
     "name": "stdout",
     "output_type": "stream",
     "text": [
      "MoviePy - Done.\n",
      "MoviePy - Writing video example_20241104.mp4\n",
      "\n"
     ]
    },
    {
     "name": "stderr",
     "output_type": "stream",
     "text": [
      "frame_index:  70%|███████   | 1998/2838 [00:41<00:22, 37.85it/s, now=None]C:\\Users\\ronen\\AppData\\Local\\Packages\\PythonSoftwareFoundation.Python.3.11_qbz5n2kfra8p0\\LocalCache\\local-packages\\Python311\\site-packages\\moviepy\\video\\io\\ffmpeg_reader.py:190: UserWarning: In file https://videos.nba.com/nba/pbp/media/2024/11/04/0022400157/378/294c476b-b7ac-685f-0624-58c02fb0e253_1280x720.mp4, 2764800 bytes wanted but 0 bytes read at frame index 673 (out of a total 673 frames), at time 11.22/11.22 sec. Using the last valid frame instead.\n",
      "  warnings.warn(\n",
      "                                                                          \r"
     ]
    },
    {
     "name": "stdout",
     "output_type": "stream",
     "text": [
      "MoviePy - Done !\n",
      "MoviePy - video ready example_20241104.mp4\n",
      "MoviePy - Building video example_20241106.mp4.\n",
      "MoviePy - Writing audio in example_20241106TEMP_MPY_wvf_snd.mp3\n"
     ]
    },
    {
     "name": "stderr",
     "output_type": "stream",
     "text": [
      "                                                                      \r"
     ]
    },
    {
     "name": "stdout",
     "output_type": "stream",
     "text": [
      "MoviePy - Done.\n",
      "MoviePy - Writing video example_20241106.mp4\n",
      "\n"
     ]
    },
    {
     "name": "stderr",
     "output_type": "stream",
     "text": [
      "frame_index:  17%|█▋        | 689/3992 [00:13<01:06, 49.79it/s, now=None]C:\\Users\\ronen\\AppData\\Local\\Packages\\PythonSoftwareFoundation.Python.3.11_qbz5n2kfra8p0\\LocalCache\\local-packages\\Python311\\site-packages\\moviepy\\video\\io\\ffmpeg_reader.py:190: UserWarning: In file https://videos.nba.com/nba/pbp/media/2024/11/06/0022400171/42/b68e4fce-9068-33d9-fa14-bd0a5f5f7aa3_1280x720.mp4, 2764800 bytes wanted but 0 bytes read at frame index 481 (out of a total 481 frames), at time 8.02/8.02 sec. Using the last valid frame instead.\n",
      "  warnings.warn(\n",
      "                                                                          \r"
     ]
    },
    {
     "name": "stdout",
     "output_type": "stream",
     "text": [
      "MoviePy - Done !\n",
      "MoviePy - video ready example_20241106.mp4\n",
      "MoviePy - Building video example_20241108.mp4.\n",
      "MoviePy - Writing audio in example_20241108TEMP_MPY_wvf_snd.mp3\n"
     ]
    },
    {
     "name": "stderr",
     "output_type": "stream",
     "text": [
      "                                                                      \r"
     ]
    },
    {
     "name": "stdout",
     "output_type": "stream",
     "text": [
      "MoviePy - Done.\n",
      "MoviePy - Writing video example_20241108.mp4\n",
      "\n"
     ]
    },
    {
     "name": "stderr",
     "output_type": "stream",
     "text": [
      "frame_index:  56%|█████▌    | 2969/5284 [01:01<00:51, 45.15it/s, now=None]C:\\Users\\ronen\\AppData\\Local\\Packages\\PythonSoftwareFoundation.Python.3.11_qbz5n2kfra8p0\\LocalCache\\local-packages\\Python311\\site-packages\\moviepy\\video\\io\\ffmpeg_reader.py:190: UserWarning: In file https://videos.nba.com/nba/pbp/media/2024/11/08/0022400185/605/efbbc2a1-f040-a89f-6d54-72e757d8b568_1280x720.mp4, 2764800 bytes wanted but 0 bytes read at frame index 817 (out of a total 817 frames), at time 13.62/13.62 sec. Using the last valid frame instead.\n",
      "  warnings.warn(\n",
      "                                                                          "
     ]
    },
    {
     "name": "stdout",
     "output_type": "stream",
     "text": [
      "MoviePy - Done !\n",
      "MoviePy - video ready example_20241108.mp4\n"
     ]
    },
    {
     "name": "stderr",
     "output_type": "stream",
     "text": [
      "\r"
     ]
    }
   ],
   "source": [
    "make_video(\n",
    "    video_urls=trae_young_assists_urls,\n",
    "    base_name=\"example\",\n",
    "    fps=30,\n",
    "    preset=\"ultrafast\",\n",
    "    segment=\"Game\"\n",
    ")"
   ]
  },
  {
   "cell_type": "code",
   "execution_count": 5,
   "id": "e4298c8b",
   "metadata": {},
   "outputs": [
    {
     "data": {
      "text/html": [
       "<video src=\"example_20241101.mp4\" controls  >\n",
       "      Your browser does not support the <code>video</code> element.\n",
       "    </video>"
      ],
      "text/plain": [
       "<IPython.core.display.Video object>"
      ]
     },
     "execution_count": 5,
     "metadata": {},
     "output_type": "execute_result"
    }
   ],
   "source": [
    "Video(\"example_20241101.mp4\")"
   ]
  },
  {
   "cell_type": "code",
   "execution_count": 6,
   "id": "a79756a9",
   "metadata": {},
   "outputs": [
    {
     "data": {
      "text/html": [
       "<video src=\"example_20241103.mp4\" controls  >\n",
       "      Your browser does not support the <code>video</code> element.\n",
       "    </video>"
      ],
      "text/plain": [
       "<IPython.core.display.Video object>"
      ]
     },
     "execution_count": 6,
     "metadata": {},
     "output_type": "execute_result"
    }
   ],
   "source": [
    "Video(\"example_20241103.mp4\")"
   ]
  },
  {
   "cell_type": "code",
   "execution_count": 7,
   "id": "e0bba7e7",
   "metadata": {},
   "outputs": [
    {
     "data": {
      "text/html": [
       "<video src=\"example_20241104.mp4\" controls  >\n",
       "      Your browser does not support the <code>video</code> element.\n",
       "    </video>"
      ],
      "text/plain": [
       "<IPython.core.display.Video object>"
      ]
     },
     "execution_count": 7,
     "metadata": {},
     "output_type": "execute_result"
    }
   ],
   "source": [
    "Video(\"example_20241104.mp4\")"
   ]
  },
  {
   "cell_type": "code",
   "execution_count": 8,
   "id": "b2682dd1",
   "metadata": {},
   "outputs": [
    {
     "data": {
      "text/html": [
       "<video src=\"example_20241106.mp4\" controls  >\n",
       "      Your browser does not support the <code>video</code> element.\n",
       "    </video>"
      ],
      "text/plain": [
       "<IPython.core.display.Video object>"
      ]
     },
     "execution_count": 8,
     "metadata": {},
     "output_type": "execute_result"
    }
   ],
   "source": [
    "Video(\"example_20241106.mp4\")"
   ]
  },
  {
   "cell_type": "code",
   "execution_count": 9,
   "id": "911ecf4e",
   "metadata": {},
   "outputs": [
    {
     "data": {
      "text/html": [
       "<video src=\"example_20241108.mp4\" controls  >\n",
       "      Your browser does not support the <code>video</code> element.\n",
       "    </video>"
      ],
      "text/plain": [
       "<IPython.core.display.Video object>"
      ]
     },
     "execution_count": 9,
     "metadata": {},
     "output_type": "execute_result"
    }
   ],
   "source": [
    "Video(\"example_20241108.mp4\")"
   ]
  },
  {
   "cell_type": "markdown",
   "id": "fd741f0b",
   "metadata": {},
   "source": [
    "# Another Simple Example"
   ]
  },
  {
   "cell_type": "markdown",
   "id": "28c33b61",
   "metadata": {},
   "source": [
    "Victor Wembanyama All STOCKS and Fouls in last week of January."
   ]
  },
  {
   "cell_type": "code",
   "execution_count": 10,
   "id": "0836b6d5",
   "metadata": {},
   "outputs": [
    {
     "name": "stdout",
     "output_type": "stream",
     "text": [
      "https://www.nba.com/game/sas-vs-ind-0022400621/box-score#box-score\n",
      "[1] Video URL: https://videos.nba.com/nba/pbp/media/2025/01/23/0022400621/20/a26a5737-ab0a-9a98-0fe6-95010be6ee99_1280x720.mp4\n",
      "[2] Video URL: https://videos.nba.com/nba/pbp/media/2025/01/23/0022400621/24/6e706451-3fdb-ae5a-15ef-eae48f454a18_1280x720.mp4\n",
      "[3] Video URL: https://videos.nba.com/nba/pbp/media/2025/01/23/0022400621/30/5c8ae942-405d-ff76-85a9-9e07ca1e74dc_1280x720.mp4\n",
      "[4] Video URL: https://videos.nba.com/nba/pbp/media/2025/01/23/0022400621/145/b85ed767-5e40-004e-5630-f16f05ff4aeb_1280x720.mp4\n",
      "[5] Video URL: https://videos.nba.com/nba/pbp/media/2025/01/23/0022400621/177/a91874a0-d8ed-dec6-8afe-14bdbc7fdaf5_1280x720.mp4\n",
      "[6] Video URL: https://videos.nba.com/nba/pbp/media/2025/01/23/0022400621/342/093c52a7-7a94-53e0-c302-c4e26200460e_1280x720.mp4\n",
      "[7] Video URL: https://videos.nba.com/nba/pbp/media/2025/01/23/0022400621/356/dc5118b0-af08-224f-3654-93d6f31c7bc5_1280x720.mp4\n",
      "[8] Video URL: https://videos.nba.com/nba/pbp/media/2025/01/23/0022400621/367/ecd6e25f-9c09-fca2-8a23-864773bf3ceb_1280x720.mp4\n",
      "[9] Video URL: https://videos.nba.com/nba/pbp/media/2025/01/23/0022400621/462/15201e68-3da1-fbe9-7d16-213368ab4e1c_1280x720.mp4\n",
      "[10] Video URL: https://videos.nba.com/nba/pbp/media/2025/01/23/0022400621/481/b5899e95-fe60-9395-9037-3461bf1a7f94_1280x720.mp4\n",
      "[1] Video URL: https://videos.nba.com/nba/pbp/media/2025/01/23/0022400621/574/2bb166bc-e185-9bee-19d1-5b1de1813166_1280x720.mp4\n",
      "[1] Video URL: https://videos.nba.com/nba/pbp/media/2025/01/23/0022400621/14/a01baffe-9c9d-55ff-e750-e92a65f31593_1280x720.mp4\n",
      "[2] Video URL: https://videos.nba.com/nba/pbp/media/2025/01/23/0022400621/365/0f122860-677d-face-1188-250ca4b7a7c4_1280x720.mp4\n",
      "[3] Video URL: https://videos.nba.com/nba/pbp/media/2025/01/23/0022400621/460/567826af-fce0-9812-975c-d6da52993770_1280x720.mp4\n",
      "[5] Video URL: https://videos.nba.com/nba/pbp/media/2025/01/23/0022400621/470/904c4b04-e590-1708-3ab4-64eb8ee9045f_1280x720.mp4\n",
      "https://www.espn.com/nba/playbyplay/_/gameId/401705187\n",
      "\n",
      "https://www.nba.com/game/ind-vs-sas-0022400633/box-score#box-score\n",
      "[1] Video URL: https://videos.nba.com/nba/pbp/media/2025/01/25/0022400633/162/68d47750-78e9-ca95-6d16-3ed081a74709_1280x720.mp4\n",
      "[2] Video URL: https://videos.nba.com/nba/pbp/media/2025/01/25/0022400633/210/a6c60885-0b2d-41a2-fb71-067c28fae8af_1280x720.mp4\n",
      "[3] Video URL: https://videos.nba.com/nba/pbp/media/2025/01/25/0022400633/237/ec4605e4-2da4-578d-e79c-20167282b42c_1280x720.mp4\n",
      "[4] Video URL: https://videos.nba.com/nba/pbp/media/2025/01/25/0022400633/345/96032441-62ba-508c-8e14-bb7c6e2f826e_1280x720.mp4\n",
      "[5] Video URL: https://videos.nba.com/nba/pbp/media/2025/01/25/0022400633/354/b9aca960-62de-f2b6-222f-74f798dd70bc_1280x720.mp4\n",
      "[6] Video URL: https://videos.nba.com/nba/pbp/media/2025/01/25/0022400633/368/01379f9f-e788-c119-82b2-e2dd9bfbe072_1280x720.mp4\n",
      "[7] Video URL: https://videos.nba.com/nba/pbp/media/2025/01/25/0022400633/374/981a5ab2-f86a-2962-9c9d-a618b3363ae6_1280x720.mp4\n",
      "[8] Video URL: https://videos.nba.com/nba/pbp/media/2025/01/25/0022400633/441/b1b7b982-3ced-3a9a-db2f-4eba0b1c6505_1280x720.mp4\n",
      "[9] Video URL: https://videos.nba.com/nba/pbp/media/2025/01/25/0022400633/451/fa0c0021-bff2-6060-bcf5-0a8856f0d113_1280x720.mp4\n",
      "[10] Video URL: https://videos.nba.com/nba/pbp/media/2025/01/25/0022400633/464/6dcbd7a0-a123-0b81-a357-cec811dcc51b_1280x720.mp4\n",
      "[11] Video URL: https://videos.nba.com/nba/pbp/media/2025/01/25/0022400633/647/c19947d4-2c88-e7bf-b6f4-e3d987c85231_1280x720.mp4\n",
      "[1] Video URL: https://videos.nba.com/nba/pbp/media/2025/01/25/0022400633/181/99c6076c-1a13-2403-089d-5a9c9096875e_1280x720.mp4\n",
      "[2] Video URL: https://videos.nba.com/nba/pbp/media/2025/01/25/0022400633/420/84bb8f9a-268a-ee35-2331-fa4e3f5aa11f_1280x720.mp4\n",
      "[1] Video URL: https://videos.nba.com/nba/pbp/media/2025/01/25/0022400633/173/da95121d-92d2-0ae7-3fab-9073951b54b3_1280x720.mp4\n",
      "https://www.espn.com/nba/playbyplay/_/gameId/401705199\n",
      "[1] Video URL: https://videos.nba.com/nba/pbp/media/2025/01/25/0022400633/407/e3bd49a8-54c9-642b-ffae-0c549883721c_1280x720.mp4\n",
      "\n",
      "https://www.nba.com/game/lac-vs-sas-0022400671/box-score#box-score\n",
      "[1] Video URL: https://videos.nba.com/nba/pbp/media/2025/01/29/0022400671/44/3a9c4062-ae88-b606-e1ce-152ab8bce12d_1280x720.mp4\n",
      "[2] Video URL: https://videos.nba.com/nba/pbp/media/2025/01/29/0022400671/129/f969fed0-468c-49ab-1352-ab62ef1c9ae0_1280x720.mp4\n",
      "[3] Video URL: https://videos.nba.com/nba/pbp/media/2025/01/29/0022400671/194/5499c4ad-2d28-3867-2662-ca864f51db28_1280x720.mp4\n",
      "[4] Video URL: https://videos.nba.com/nba/pbp/media/2025/01/29/0022400671/227/e38363b7-d30a-8d62-5554-664bd5938c9c_1280x720.mp4\n",
      "[5] Video URL: https://videos.nba.com/nba/pbp/media/2025/01/29/0022400671/393/649c6c88-b11a-4d97-ab60-2da5e849ba2b_1280x720.mp4\n",
      "[6] Video URL: https://videos.nba.com/nba/pbp/media/2025/01/29/0022400671/408/5a90412c-52fd-25f4-f263-b2c4356be506_1280x720.mp4\n",
      "[7] Video URL: https://videos.nba.com/nba/pbp/media/2025/01/29/0022400671/412/4ad65176-b044-4e0c-6bcb-9ed54a9b688b_1280x720.mp4\n",
      "[8] Video URL: https://videos.nba.com/nba/pbp/media/2025/01/29/0022400671/449/76d0bd72-701c-26b1-26b0-e845cc2236da_1280x720.mp4\n",
      "[9] Video URL: https://videos.nba.com/nba/pbp/media/2025/01/29/0022400671/556/76fc366e-d7f8-2cdc-52ec-1b59e9340c4b_1280x720.mp4\n",
      "[10] Video URL: https://videos.nba.com/nba/pbp/media/2025/01/29/0022400671/560/d968cbba-254a-d36c-ad77-ed625a31a649_1280x720.mp4\n",
      "[11] Video URL: https://videos.nba.com/nba/pbp/media/2025/01/29/0022400671/577/ade39aff-38a1-be9d-422c-bb0394d6a209_1280x720.mp4\n",
      "[1] Video URL: https://videos.nba.com/nba/pbp/media/2025/01/29/0022400671/16/b005dca2-1b3c-0b9f-91ea-3dff58fb8e98_1280x720.mp4\n",
      "[2] Video URL: https://videos.nba.com/nba/pbp/media/2025/01/29/0022400671/173/003a191e-e98b-aead-461b-14f0b84387a4_1280x720.mp4\n",
      "[1] Video URL: https://videos.nba.com/nba/pbp/media/2025/01/29/0022400671/9/3e49532c-afd0-643e-87a2-302e58691d70_1280x720.mp4\n",
      "[2] Video URL: https://videos.nba.com/nba/pbp/media/2025/01/29/0022400671/419/d633dc38-31ac-5606-b656-a943c0fc00a4_1280x720.mp4\n",
      "[3] Video URL: https://videos.nba.com/nba/pbp/media/2025/01/29/0022400671/424/a57f6fb7-da1c-c6ac-ffe4-4f95ffc227d1_1280x720.mp4\n",
      "https://www.espn.com/nba/playbyplay/_/gameId/401705237\n",
      "[1] Video URL: https://videos.nba.com/nba/pbp/media/2025/01/29/0022400671/14/10cb0ec9-7586-e2a2-75c0-f532fdfeb07b_1280x720.mp4\n",
      "[2] Video URL: https://videos.nba.com/nba/pbp/media/2025/01/29/0022400671/190/9669f25f-b399-51f8-9a9f-4d18b2840695_1280x720.mp4\n",
      "[3] Video URL: https://videos.nba.com/nba/pbp/media/2025/01/29/0022400671/376/f78e93ee-bc88-393c-86f1-f20e77024171_1280x720.mp4\n",
      "[4] Video URL: https://videos.nba.com/nba/pbp/media/2025/01/29/0022400671/585/c05e8661-097d-f423-951c-3bedc98b336b_1280x720.mp4\n",
      "[5] Video URL: https://videos.nba.com/nba/pbp/media/2025/01/29/0022400671/601/467b9c6d-1ec7-8231-5e9a-cc4553c8bcfb_1280x720.mp4\n",
      "\n",
      "https://www.nba.com/game/mil-vs-sas-0022400684/box-score#box-score\n",
      "[1] Video URL: https://videos.nba.com/nba/pbp/media/2025/01/31/0022400684/21/7c21dd2b-48c2-a17a-2a61-87801f931563_1280x720.mp4\n",
      "[2] Video URL: https://videos.nba.com/nba/pbp/media/2025/01/31/0022400684/32/fe9cd130-7da9-0f1e-0de4-7066900dd328_1280x720.mp4\n",
      "[3] Video URL: https://videos.nba.com/nba/pbp/media/2025/01/31/0022400684/71/d768c986-a3da-baed-5a06-e0550a378a31_1280x720.mp4\n",
      "[4] Video URL: https://videos.nba.com/nba/pbp/media/2025/01/31/0022400684/150/2984aabe-0325-c9ea-54fe-1374bb2a56bf_1280x720.mp4\n",
      "[5] Video URL: https://videos.nba.com/nba/pbp/media/2025/01/31/0022400684/268/649e9e0d-90d0-2b95-10a6-775615740e5d_1280x720.mp4\n",
      "[6] Video URL: https://videos.nba.com/nba/pbp/media/2025/01/31/0022400684/296/cedbbeba-965d-07b9-afbf-554b72ad990f_1280x720.mp4\n",
      "[7] Video URL: https://videos.nba.com/nba/pbp/media/2025/01/31/0022400684/370/742c1f2f-9994-7686-5782-28150cd0f888_1280x720.mp4\n",
      "[8] Video URL: https://videos.nba.com/nba/pbp/media/2025/01/31/0022400684/423/cbda5f7d-0f9c-e723-d568-735f07828a7f_1280x720.mp4\n",
      "[9] Video URL: https://videos.nba.com/nba/pbp/media/2025/01/31/0022400684/484/279347d1-002b-7a71-43a6-2efdeeed8ff2_1280x720.mp4\n",
      "[10] Video URL: https://videos.nba.com/nba/pbp/media/2025/01/31/0022400684/593/f9b1f71a-f9b8-2e9c-8164-3dc536498395_1280x720.mp4\n",
      "[11] Video URL: https://videos.nba.com/nba/pbp/media/2025/01/31/0022400684/623/4db9d5c9-6e0c-e703-34a7-ce124a281ed8_1280x720.mp4\n",
      "[12] Video URL: https://videos.nba.com/nba/pbp/media/2025/01/31/0022400684/630/6c7ae4e6-63b6-ffd5-f147-5fc1e3356044_1280x720.mp4\n",
      "[1] Video URL: https://videos.nba.com/nba/pbp/media/2025/01/31/0022400684/19/55573d75-ffea-65e5-4a68-695711a36a8e_1280x720.mp4\n",
      "[2] Video URL: https://videos.nba.com/nba/pbp/media/2025/01/31/0022400684/24/1a2d5819-8148-0ff9-42bc-48c934a94ff1_1280x720.mp4\n",
      "[3] Video URL: https://videos.nba.com/nba/pbp/media/2025/01/31/0022400684/133/1d28d79e-deed-abcd-3f26-f202b15edbad_1280x720.mp4\n",
      "[4] Video URL: https://videos.nba.com/nba/pbp/media/2025/01/31/0022400684/327/7945b79d-38c1-1419-1a77-9cb388c4804d_1280x720.mp4\n",
      "[5] Video URL: https://videos.nba.com/nba/pbp/media/2025/01/31/0022400684/422/e9f7d794-9f89-82a4-36a8-8031b7406d68_1280x720.mp4\n",
      "[6] Video URL: https://videos.nba.com/nba/pbp/media/2025/01/31/0022400684/428/3aea5b08-d320-39a3-c88a-35ca7ae07151_1280x720.mp4\n",
      "https://www.espn.com/nba/playbyplay/_/gameId/401705250\n",
      "[1] Video URL: https://videos.nba.com/nba/pbp/media/2025/01/31/0022400684/98/ede99f4b-a747-7c08-639c-2c6c5c66180e_1280x720.mp4\n",
      "[2] Video URL: https://videos.nba.com/nba/pbp/media/2025/01/31/0022400684/501/b740dec1-b365-76eb-1559-98851690a9e1_1280x720.mp4\n",
      "[3] Video URL: https://videos.nba.com/nba/pbp/media/2025/01/31/0022400684/614/b9b7c610-f00a-7a35-6f5f-57196c2cb2fa_1280x720.mp4\n",
      "\n"
     ]
    }
   ],
   "source": [
    "wemby_stocks_urls = generate_video(\n",
    "    player_name=\"Victor Wembanyama\", date_start=\"2025-01-23\", date_end=\"2025-01-31\", team=\"sas\",\n",
    "    FGM=False, FGA=False, ThreePM=False, ThreePA=False, OREB=False, DREB=True,\n",
    "    REB=False, AST=False, STL=True, BLK=True, TO=False, PF=True\n",
    ")"
   ]
  },
  {
   "cell_type": "code",
   "execution_count": 11,
   "id": "cd1ac8fe",
   "metadata": {},
   "outputs": [
    {
     "data": {
      "text/plain": [
       "{'2025-01-23': [('https://videos.nba.com/nba/pbp/media/2025/01/23/0022400621/14/a01baffe-9c9d-55ff-e750-e92a65f31593_1280x720.mp4',\n",
       "   '1',\n",
       "   '10:27'),\n",
       "  ('https://videos.nba.com/nba/pbp/media/2025/01/23/0022400621/20/a26a5737-ab0a-9a98-0fe6-95010be6ee99_1280x720.mp4',\n",
       "   '1',\n",
       "   '10:03'),\n",
       "  ('https://videos.nba.com/nba/pbp/media/2025/01/23/0022400621/24/6e706451-3fdb-ae5a-15ef-eae48f454a18_1280x720.mp4',\n",
       "   '1',\n",
       "   '9:30'),\n",
       "  ('https://videos.nba.com/nba/pbp/media/2025/01/23/0022400621/30/5c8ae942-405d-ff76-85a9-9e07ca1e74dc_1280x720.mp4',\n",
       "   '1',\n",
       "   '8:39'),\n",
       "  ('https://videos.nba.com/nba/pbp/media/2025/01/23/0022400621/145/b85ed767-5e40-004e-5630-f16f05ff4aeb_1280x720.mp4',\n",
       "   '1',\n",
       "   '0:51'),\n",
       "  ('https://videos.nba.com/nba/pbp/media/2025/01/23/0022400621/177/a91874a0-d8ed-dec6-8afe-14bdbc7fdaf5_1280x720.mp4',\n",
       "   '2',\n",
       "   '11:31'),\n",
       "  ('https://videos.nba.com/nba/pbp/media/2025/01/23/0022400621/342/093c52a7-7a94-53e0-c302-c4e26200460e_1280x720.mp4',\n",
       "   '3',\n",
       "   '10:06'),\n",
       "  ('https://videos.nba.com/nba/pbp/media/2025/01/23/0022400621/356/dc5118b0-af08-224f-3654-93d6f31c7bc5_1280x720.mp4',\n",
       "   '3',\n",
       "   '9:28'),\n",
       "  ('https://videos.nba.com/nba/pbp/media/2025/01/23/0022400621/365/0f122860-677d-face-1188-250ca4b7a7c4_1280x720.mp4',\n",
       "   '3',\n",
       "   '8:35'),\n",
       "  ('https://videos.nba.com/nba/pbp/media/2025/01/23/0022400621/367/ecd6e25f-9c09-fca2-8a23-864773bf3ceb_1280x720.mp4',\n",
       "   '3',\n",
       "   '8:34'),\n",
       "  ('https://videos.nba.com/nba/pbp/media/2025/01/23/0022400621/460/567826af-fce0-9812-975c-d6da52993770_1280x720.mp4',\n",
       "   '3',\n",
       "   '2:07'),\n",
       "  ('https://videos.nba.com/nba/pbp/media/2025/01/23/0022400621/462/15201e68-3da1-fbe9-7d16-213368ab4e1c_1280x720.mp4',\n",
       "   '3',\n",
       "   '2:06'),\n",
       "  ('https://videos.nba.com/nba/pbp/media/2025/01/23/0022400621/470/904c4b04-e590-1708-3ab4-64eb8ee9045f_1280x720.mp4',\n",
       "   '3',\n",
       "   '1:08'),\n",
       "  ('https://videos.nba.com/nba/pbp/media/2025/01/23/0022400621/481/b5899e95-fe60-9395-9037-3461bf1a7f94_1280x720.mp4',\n",
       "   '3',\n",
       "   '0:13'),\n",
       "  ('https://videos.nba.com/nba/pbp/media/2025/01/23/0022400621/574/2bb166bc-e185-9bee-19d1-5b1de1813166_1280x720.mp4',\n",
       "   '4',\n",
       "   '6:36')],\n",
       " '2025-01-25': [('https://videos.nba.com/nba/pbp/media/2025/01/25/0022400633/162/68d47750-78e9-ca95-6d16-3ed081a74709_1280x720.mp4',\n",
       "   '2',\n",
       "   '11:36'),\n",
       "  ('https://videos.nba.com/nba/pbp/media/2025/01/25/0022400633/173/da95121d-92d2-0ae7-3fab-9073951b54b3_1280x720.mp4',\n",
       "   '2',\n",
       "   '10:03'),\n",
       "  ('https://videos.nba.com/nba/pbp/media/2025/01/25/0022400633/181/99c6076c-1a13-2403-089d-5a9c9096875e_1280x720.mp4',\n",
       "   '2',\n",
       "   '9:35'),\n",
       "  ('https://videos.nba.com/nba/pbp/media/2025/01/25/0022400633/210/a6c60885-0b2d-41a2-fb71-067c28fae8af_1280x720.mp4',\n",
       "   '2',\n",
       "   '8:00'),\n",
       "  ('https://videos.nba.com/nba/pbp/media/2025/01/25/0022400633/237/ec4605e4-2da4-578d-e79c-20167282b42c_1280x720.mp4',\n",
       "   '2',\n",
       "   '5:51'),\n",
       "  ('https://videos.nba.com/nba/pbp/media/2025/01/25/0022400633/345/96032441-62ba-508c-8e14-bb7c6e2f826e_1280x720.mp4',\n",
       "   '3',\n",
       "   '11:01'),\n",
       "  ('https://videos.nba.com/nba/pbp/media/2025/01/25/0022400633/354/b9aca960-62de-f2b6-222f-74f798dd70bc_1280x720.mp4',\n",
       "   '3',\n",
       "   '10:37'),\n",
       "  ('https://videos.nba.com/nba/pbp/media/2025/01/25/0022400633/368/01379f9f-e788-c119-82b2-e2dd9bfbe072_1280x720.mp4',\n",
       "   '3',\n",
       "   '9:53'),\n",
       "  ('https://videos.nba.com/nba/pbp/media/2025/01/25/0022400633/374/981a5ab2-f86a-2962-9c9d-a618b3363ae6_1280x720.mp4',\n",
       "   '3',\n",
       "   '9:29'),\n",
       "  ('https://videos.nba.com/nba/pbp/media/2025/01/25/0022400633/407/e3bd49a8-54c9-642b-ffae-0c549883721c_1280x720.mp4',\n",
       "   '3',\n",
       "   '7:27'),\n",
       "  ('https://videos.nba.com/nba/pbp/media/2025/01/25/0022400633/420/84bb8f9a-268a-ee35-2331-fa4e3f5aa11f_1280x720.mp4',\n",
       "   '3',\n",
       "   '6:55'),\n",
       "  ('https://videos.nba.com/nba/pbp/media/2025/01/25/0022400633/441/b1b7b982-3ced-3a9a-db2f-4eba0b1c6505_1280x720.mp4',\n",
       "   '3',\n",
       "   '5:58'),\n",
       "  ('https://videos.nba.com/nba/pbp/media/2025/01/25/0022400633/451/fa0c0021-bff2-6060-bcf5-0a8856f0d113_1280x720.mp4',\n",
       "   '3',\n",
       "   '5:08'),\n",
       "  ('https://videos.nba.com/nba/pbp/media/2025/01/25/0022400633/464/6dcbd7a0-a123-0b81-a357-cec811dcc51b_1280x720.mp4',\n",
       "   '3',\n",
       "   '3:52'),\n",
       "  ('https://videos.nba.com/nba/pbp/media/2025/01/25/0022400633/647/c19947d4-2c88-e7bf-b6f4-e3d987c85231_1280x720.mp4',\n",
       "   '4',\n",
       "   '4:11')],\n",
       " '2025-01-29': [('https://videos.nba.com/nba/pbp/media/2025/01/29/0022400671/9/3e49532c-afd0-643e-87a2-302e58691d70_1280x720.mp4',\n",
       "   '1',\n",
       "   '11:21'),\n",
       "  ('https://videos.nba.com/nba/pbp/media/2025/01/29/0022400671/14/10cb0ec9-7586-e2a2-75c0-f532fdfeb07b_1280x720.mp4',\n",
       "   '1',\n",
       "   '11:07'),\n",
       "  ('https://videos.nba.com/nba/pbp/media/2025/01/29/0022400671/16/b005dca2-1b3c-0b9f-91ea-3dff58fb8e98_1280x720.mp4',\n",
       "   '1',\n",
       "   '11:00'),\n",
       "  ('https://videos.nba.com/nba/pbp/media/2025/01/29/0022400671/44/3a9c4062-ae88-b606-e1ce-152ab8bce12d_1280x720.mp4',\n",
       "   '1',\n",
       "   '8:21'),\n",
       "  ('https://videos.nba.com/nba/pbp/media/2025/01/29/0022400671/129/f969fed0-468c-49ab-1352-ab62ef1c9ae0_1280x720.mp4',\n",
       "   '1',\n",
       "   '1:27'),\n",
       "  ('https://videos.nba.com/nba/pbp/media/2025/01/29/0022400671/173/003a191e-e98b-aead-461b-14f0b84387a4_1280x720.mp4',\n",
       "   '2',\n",
       "   '11:16'),\n",
       "  ('https://videos.nba.com/nba/pbp/media/2025/01/29/0022400671/190/9669f25f-b399-51f8-9a9f-4d18b2840695_1280x720.mp4',\n",
       "   '2',\n",
       "   '10:01'),\n",
       "  ('https://videos.nba.com/nba/pbp/media/2025/01/29/0022400671/194/5499c4ad-2d28-3867-2662-ca864f51db28_1280x720.mp4',\n",
       "   '2',\n",
       "   '9:47'),\n",
       "  ('https://videos.nba.com/nba/pbp/media/2025/01/29/0022400671/227/e38363b7-d30a-8d62-5554-664bd5938c9c_1280x720.mp4',\n",
       "   '2',\n",
       "   '7:20'),\n",
       "  ('https://videos.nba.com/nba/pbp/media/2025/01/29/0022400671/376/f78e93ee-bc88-393c-86f1-f20e77024171_1280x720.mp4',\n",
       "   '3',\n",
       "   '9:15'),\n",
       "  ('https://videos.nba.com/nba/pbp/media/2025/01/29/0022400671/393/649c6c88-b11a-4d97-ab60-2da5e849ba2b_1280x720.mp4',\n",
       "   '3',\n",
       "   '7:45'),\n",
       "  ('https://videos.nba.com/nba/pbp/media/2025/01/29/0022400671/408/5a90412c-52fd-25f4-f263-b2c4356be506_1280x720.mp4',\n",
       "   '3',\n",
       "   '6:10'),\n",
       "  ('https://videos.nba.com/nba/pbp/media/2025/01/29/0022400671/412/4ad65176-b044-4e0c-6bcb-9ed54a9b688b_1280x720.mp4',\n",
       "   '3',\n",
       "   '5:40'),\n",
       "  ('https://videos.nba.com/nba/pbp/media/2025/01/29/0022400671/419/d633dc38-31ac-5606-b656-a943c0fc00a4_1280x720.mp4',\n",
       "   '3',\n",
       "   '5:07'),\n",
       "  ('https://videos.nba.com/nba/pbp/media/2025/01/29/0022400671/424/a57f6fb7-da1c-c6ac-ffe4-4f95ffc227d1_1280x720.mp4',\n",
       "   '3',\n",
       "   '4:49'),\n",
       "  ('https://videos.nba.com/nba/pbp/media/2025/01/29/0022400671/449/76d0bd72-701c-26b1-26b0-e845cc2236da_1280x720.mp4',\n",
       "   '3',\n",
       "   '3:45'),\n",
       "  ('https://videos.nba.com/nba/pbp/media/2025/01/29/0022400671/556/76fc366e-d7f8-2cdc-52ec-1b59e9340c4b_1280x720.mp4',\n",
       "   '4',\n",
       "   '7:21'),\n",
       "  ('https://videos.nba.com/nba/pbp/media/2025/01/29/0022400671/560/d968cbba-254a-d36c-ad77-ed625a31a649_1280x720.mp4',\n",
       "   '4',\n",
       "   '6:57'),\n",
       "  ('https://videos.nba.com/nba/pbp/media/2025/01/29/0022400671/577/ade39aff-38a1-be9d-422c-bb0394d6a209_1280x720.mp4',\n",
       "   '4',\n",
       "   '5:43'),\n",
       "  ('https://videos.nba.com/nba/pbp/media/2025/01/29/0022400671/585/c05e8661-097d-f423-951c-3bedc98b336b_1280x720.mp4',\n",
       "   '4',\n",
       "   '4:39'),\n",
       "  ('https://videos.nba.com/nba/pbp/media/2025/01/29/0022400671/601/467b9c6d-1ec7-8231-5e9a-cc4553c8bcfb_1280x720.mp4',\n",
       "   '4',\n",
       "   '3:59')],\n",
       " '2025-01-31': [('https://videos.nba.com/nba/pbp/media/2025/01/31/0022400684/19/55573d75-ffea-65e5-4a68-695711a36a8e_1280x720.mp4',\n",
       "   '1',\n",
       "   '10:28'),\n",
       "  ('https://videos.nba.com/nba/pbp/media/2025/01/31/0022400684/21/7c21dd2b-48c2-a17a-2a61-87801f931563_1280x720.mp4',\n",
       "   '1',\n",
       "   '10:25'),\n",
       "  ('https://videos.nba.com/nba/pbp/media/2025/01/31/0022400684/24/1a2d5819-8148-0ff9-42bc-48c934a94ff1_1280x720.mp4',\n",
       "   '1',\n",
       "   '10:14'),\n",
       "  ('https://videos.nba.com/nba/pbp/media/2025/01/31/0022400684/32/fe9cd130-7da9-0f1e-0de4-7066900dd328_1280x720.mp4',\n",
       "   '1',\n",
       "   '9:35'),\n",
       "  ('https://videos.nba.com/nba/pbp/media/2025/01/31/0022400684/71/d768c986-a3da-baed-5a06-e0550a378a31_1280x720.mp4',\n",
       "   '1',\n",
       "   '6:40'),\n",
       "  ('https://videos.nba.com/nba/pbp/media/2025/01/31/0022400684/98/ede99f4b-a747-7c08-639c-2c6c5c66180e_1280x720.mp4',\n",
       "   '1',\n",
       "   '5:04'),\n",
       "  ('https://videos.nba.com/nba/pbp/media/2025/01/31/0022400684/133/1d28d79e-deed-abcd-3f26-f202b15edbad_1280x720.mp4',\n",
       "   '1',\n",
       "   '2:42'),\n",
       "  ('https://videos.nba.com/nba/pbp/media/2025/01/31/0022400684/150/2984aabe-0325-c9ea-54fe-1374bb2a56bf_1280x720.mp4',\n",
       "   '1',\n",
       "   '1:17'),\n",
       "  ('https://videos.nba.com/nba/pbp/media/2025/01/31/0022400684/268/649e9e0d-90d0-2b95-10a6-775615740e5d_1280x720.mp4',\n",
       "   '2',\n",
       "   '5:24'),\n",
       "  ('https://videos.nba.com/nba/pbp/media/2025/01/31/0022400684/296/cedbbeba-965d-07b9-afbf-554b72ad990f_1280x720.mp4',\n",
       "   '2',\n",
       "   '3:08'),\n",
       "  ('https://videos.nba.com/nba/pbp/media/2025/01/31/0022400684/327/7945b79d-38c1-1419-1a77-9cb388c4804d_1280x720.mp4',\n",
       "   '2',\n",
       "   '0:52'),\n",
       "  ('https://videos.nba.com/nba/pbp/media/2025/01/31/0022400684/370/742c1f2f-9994-7686-5782-28150cd0f888_1280x720.mp4',\n",
       "   '3',\n",
       "   '10:37'),\n",
       "  ('https://videos.nba.com/nba/pbp/media/2025/01/31/0022400684/422/e9f7d794-9f89-82a4-36a8-8031b7406d68_1280x720.mp4',\n",
       "   '3',\n",
       "   '5:30'),\n",
       "  ('https://videos.nba.com/nba/pbp/media/2025/01/31/0022400684/423/cbda5f7d-0f9c-e723-d568-735f07828a7f_1280x720.mp4',\n",
       "   '3',\n",
       "   '5:27'),\n",
       "  ('https://videos.nba.com/nba/pbp/media/2025/01/31/0022400684/428/3aea5b08-d320-39a3-c88a-35ca7ae07151_1280x720.mp4',\n",
       "   '3',\n",
       "   '5:05'),\n",
       "  ('https://videos.nba.com/nba/pbp/media/2025/01/31/0022400684/484/279347d1-002b-7a71-43a6-2efdeeed8ff2_1280x720.mp4',\n",
       "   '3',\n",
       "   '1:59'),\n",
       "  ('https://videos.nba.com/nba/pbp/media/2025/01/31/0022400684/501/b740dec1-b365-76eb-1559-98851690a9e1_1280x720.mp4',\n",
       "   '3',\n",
       "   '0:42'),\n",
       "  ('https://videos.nba.com/nba/pbp/media/2025/01/31/0022400684/593/f9b1f71a-f9b8-2e9c-8164-3dc536498395_1280x720.mp4',\n",
       "   '4',\n",
       "   '7:22'),\n",
       "  ('https://videos.nba.com/nba/pbp/media/2025/01/31/0022400684/614/b9b7c610-f00a-7a35-6f5f-57196c2cb2fa_1280x720.mp4',\n",
       "   '4',\n",
       "   '5:42'),\n",
       "  ('https://videos.nba.com/nba/pbp/media/2025/01/31/0022400684/623/4db9d5c9-6e0c-e703-34a7-ce124a281ed8_1280x720.mp4',\n",
       "   '4',\n",
       "   '5:39'),\n",
       "  ('https://videos.nba.com/nba/pbp/media/2025/01/31/0022400684/630/6c7ae4e6-63b6-ffd5-f147-5fc1e3356044_1280x720.mp4',\n",
       "   '4',\n",
       "   '4:58')]}"
      ]
     },
     "execution_count": 11,
     "metadata": {},
     "output_type": "execute_result"
    }
   ],
   "source": [
    "wemby_stocks_urls"
   ]
  },
  {
   "cell_type": "code",
   "execution_count": 12,
   "id": "4b39a543",
   "metadata": {},
   "outputs": [
    {
     "name": "stdout",
     "output_type": "stream",
     "text": [
      "MoviePy - Building video example2_20250123q1.mp4.\n",
      "MoviePy - Writing audio in example2_20250123q1TEMP_MPY_wvf_snd.mp3\n"
     ]
    },
    {
     "name": "stderr",
     "output_type": "stream",
     "text": [
      "                                                                      \r"
     ]
    },
    {
     "name": "stdout",
     "output_type": "stream",
     "text": [
      "MoviePy - Done.\n",
      "MoviePy - Writing video example2_20250123q1.mp4\n",
      "\n"
     ]
    },
    {
     "name": "stderr",
     "output_type": "stream",
     "text": [
      "                                                                          \r"
     ]
    },
    {
     "name": "stdout",
     "output_type": "stream",
     "text": [
      "MoviePy - Done !\n",
      "MoviePy - video ready example2_20250123q1.mp4\n",
      "MoviePy - Building video example2_20250123q2.mp4.\n",
      "MoviePy - Writing audio in example2_20250123q2TEMP_MPY_wvf_snd.mp3\n"
     ]
    },
    {
     "name": "stderr",
     "output_type": "stream",
     "text": [
      "                                                                   \r"
     ]
    },
    {
     "name": "stdout",
     "output_type": "stream",
     "text": [
      "MoviePy - Done.\n",
      "MoviePy - Writing video example2_20250123q2.mp4\n",
      "\n"
     ]
    },
    {
     "name": "stderr",
     "output_type": "stream",
     "text": [
      "                                                                         \r"
     ]
    },
    {
     "name": "stdout",
     "output_type": "stream",
     "text": [
      "MoviePy - Done !\n",
      "MoviePy - video ready example2_20250123q2.mp4\n",
      "MoviePy - Building video example2_20250123q3.mp4.\n",
      "MoviePy - Writing audio in example2_20250123q3TEMP_MPY_wvf_snd.mp3\n"
     ]
    },
    {
     "name": "stderr",
     "output_type": "stream",
     "text": [
      "                                                                      \r"
     ]
    },
    {
     "name": "stdout",
     "output_type": "stream",
     "text": [
      "MoviePy - Done.\n",
      "MoviePy - Writing video example2_20250123q3.mp4\n",
      "\n"
     ]
    },
    {
     "name": "stderr",
     "output_type": "stream",
     "text": [
      "frame_index:  23%|██▎       | 563/2421 [00:03<00:12, 148.96it/s, now=None]C:\\Users\\ronen\\AppData\\Local\\Packages\\PythonSoftwareFoundation.Python.3.11_qbz5n2kfra8p0\\LocalCache\\local-packages\\Python311\\site-packages\\moviepy\\video\\io\\ffmpeg_reader.py:190: UserWarning: In file https://videos.nba.com/nba/pbp/media/2025/01/23/0022400621/356/dc5118b0-af08-224f-3654-93d6f31c7bc5_1280x720.mp4, 2764800 bytes wanted but 0 bytes read at frame index 543 (out of a total 543 frames), at time 9.05/9.05 sec. Using the last valid frame instead.\n",
      "  warnings.warn(\n",
      "                                                                           \r"
     ]
    },
    {
     "name": "stdout",
     "output_type": "stream",
     "text": [
      "MoviePy - Done !\n",
      "MoviePy - video ready example2_20250123q3.mp4\n",
      "MoviePy - Building video example2_20250125q2.mp4.\n",
      "MoviePy - Writing audio in example2_20250125q2TEMP_MPY_wvf_snd.mp3\n"
     ]
    },
    {
     "name": "stderr",
     "output_type": "stream",
     "text": [
      "                                                                     \r"
     ]
    },
    {
     "name": "stdout",
     "output_type": "stream",
     "text": [
      "MoviePy - Done.\n",
      "MoviePy - Writing video example2_20250125q2.mp4\n",
      "\n"
     ]
    },
    {
     "name": "stderr",
     "output_type": "stream",
     "text": [
      "frame_index:  42%|████▏     | 594/1424 [00:11<00:20, 40.16it/s, now=None]C:\\Users\\ronen\\AppData\\Local\\Packages\\PythonSoftwareFoundation.Python.3.11_qbz5n2kfra8p0\\LocalCache\\local-packages\\Python311\\site-packages\\moviepy\\video\\io\\ffmpeg_reader.py:190: UserWarning: In file https://videos.nba.com/nba/pbp/media/2025/01/25/0022400633/173/da95121d-92d2-0ae7-3fab-9073951b54b3_1280x720.mp4, 2764800 bytes wanted but 0 bytes read at frame index 529 (out of a total 529 frames), at time 8.82/8.82 sec. Using the last valid frame instead.\n",
      "  warnings.warn(\n",
      "                                                                          \r"
     ]
    },
    {
     "name": "stdout",
     "output_type": "stream",
     "text": [
      "MoviePy - Done !\n",
      "MoviePy - video ready example2_20250125q2.mp4\n",
      "MoviePy - Building video example2_20250125q3.mp4.\n",
      "MoviePy - Writing audio in example2_20250125q3TEMP_MPY_wvf_snd.mp3\n"
     ]
    },
    {
     "name": "stderr",
     "output_type": "stream",
     "text": [
      "                                                                      \r"
     ]
    },
    {
     "name": "stdout",
     "output_type": "stream",
     "text": [
      "MoviePy - Done.\n",
      "MoviePy - Writing video example2_20250125q3.mp4\n",
      "\n"
     ]
    },
    {
     "name": "stderr",
     "output_type": "stream",
     "text": [
      "frame_index:  23%|██▎       | 507/2253 [00:03<00:10, 162.05it/s, now=None]C:\\Users\\ronen\\AppData\\Local\\Packages\\PythonSoftwareFoundation.Python.3.11_qbz5n2kfra8p0\\LocalCache\\local-packages\\Python311\\site-packages\\moviepy\\video\\io\\ffmpeg_reader.py:190: UserWarning: In file https://videos.nba.com/nba/pbp/media/2025/01/25/0022400633/354/b9aca960-62de-f2b6-222f-74f798dd70bc_1280x720.mp4, 2764800 bytes wanted but 0 bytes read at frame index 481 (out of a total 481 frames), at time 8.02/8.02 sec. Using the last valid frame instead.\n",
      "  warnings.warn(\n",
      "                                                                           \r"
     ]
    },
    {
     "name": "stdout",
     "output_type": "stream",
     "text": [
      "MoviePy - Done !\n",
      "MoviePy - video ready example2_20250125q3.mp4\n",
      "MoviePy - Building video example2_20250129q1.mp4.\n",
      "MoviePy - Writing audio in example2_20250129q1TEMP_MPY_wvf_snd.mp3\n"
     ]
    },
    {
     "name": "stderr",
     "output_type": "stream",
     "text": [
      "                                                                      \r"
     ]
    },
    {
     "name": "stdout",
     "output_type": "stream",
     "text": [
      "MoviePy - Done.\n",
      "MoviePy - Writing video example2_20250129q1.mp4\n",
      "\n"
     ]
    },
    {
     "name": "stderr",
     "output_type": "stream",
     "text": [
      "                                                                          \r"
     ]
    },
    {
     "name": "stdout",
     "output_type": "stream",
     "text": [
      "MoviePy - Done !\n",
      "MoviePy - video ready example2_20250129q1.mp4\n",
      "MoviePy - Building video example2_20250129q2.mp4.\n",
      "MoviePy - Writing audio in example2_20250129q2TEMP_MPY_wvf_snd.mp3\n"
     ]
    },
    {
     "name": "stderr",
     "output_type": "stream",
     "text": [
      "                                                                    \r"
     ]
    },
    {
     "name": "stdout",
     "output_type": "stream",
     "text": [
      "MoviePy - Done.\n",
      "MoviePy - Writing video example2_20250129q2.mp4\n",
      "\n"
     ]
    },
    {
     "name": "stderr",
     "output_type": "stream",
     "text": [
      "                                                                           \r"
     ]
    },
    {
     "name": "stdout",
     "output_type": "stream",
     "text": [
      "MoviePy - Done !\n",
      "MoviePy - video ready example2_20250129q2.mp4\n",
      "MoviePy - Building video example2_20250129q3.mp4.\n",
      "MoviePy - Writing audio in example2_20250129q3TEMP_MPY_wvf_snd.mp3\n"
     ]
    },
    {
     "name": "stderr",
     "output_type": "stream",
     "text": [
      "                                                                      \r"
     ]
    },
    {
     "name": "stdout",
     "output_type": "stream",
     "text": [
      "MoviePy - Done.\n",
      "MoviePy - Writing video example2_20250129q3.mp4\n",
      "\n"
     ]
    },
    {
     "name": "stderr",
     "output_type": "stream",
     "text": [
      "frame_index:  27%|██▋       | 561/2113 [00:04<00:10, 152.35it/s, now=None]C:\\Users\\ronen\\AppData\\Local\\Packages\\PythonSoftwareFoundation.Python.3.11_qbz5n2kfra8p0\\LocalCache\\local-packages\\Python311\\site-packages\\moviepy\\video\\io\\ffmpeg_reader.py:190: UserWarning: In file https://videos.nba.com/nba/pbp/media/2025/01/29/0022400671/393/649c6c88-b11a-4d97-ab60-2da5e849ba2b_1280x720.mp4, 2764800 bytes wanted but 0 bytes read at frame index 589 (out of a total 589 frames), at time 9.82/9.82 sec. Using the last valid frame instead.\n",
      "  warnings.warn(\n",
      "                                                                           \r"
     ]
    },
    {
     "name": "stdout",
     "output_type": "stream",
     "text": [
      "MoviePy - Done !\n",
      "MoviePy - video ready example2_20250129q3.mp4\n",
      "MoviePy - Building video example2_20250131q1.mp4.\n",
      "MoviePy - Writing audio in example2_20250131q1TEMP_MPY_wvf_snd.mp3\n"
     ]
    },
    {
     "name": "stderr",
     "output_type": "stream",
     "text": [
      "                                                                     \r"
     ]
    },
    {
     "name": "stdout",
     "output_type": "stream",
     "text": [
      "MoviePy - Done.\n",
      "MoviePy - Writing video example2_20250131q1.mp4\n",
      "\n"
     ]
    },
    {
     "name": "stderr",
     "output_type": "stream",
     "text": [
      "                                                                          \r"
     ]
    },
    {
     "name": "stdout",
     "output_type": "stream",
     "text": [
      "MoviePy - Done !\n",
      "MoviePy - video ready example2_20250131q1.mp4\n",
      "MoviePy - Building video example2_20250131q2.mp4.\n",
      "MoviePy - Writing audio in example2_20250131q2TEMP_MPY_wvf_snd.mp3\n"
     ]
    },
    {
     "name": "stderr",
     "output_type": "stream",
     "text": [
      "                                                                    \r"
     ]
    },
    {
     "name": "stdout",
     "output_type": "stream",
     "text": [
      "MoviePy - Done.\n",
      "MoviePy - Writing video example2_20250131q2.mp4\n",
      "\n"
     ]
    },
    {
     "name": "stderr",
     "output_type": "stream",
     "text": [
      "                                                                         \r"
     ]
    },
    {
     "name": "stdout",
     "output_type": "stream",
     "text": [
      "MoviePy - Done !\n",
      "MoviePy - video ready example2_20250131q2.mp4\n",
      "MoviePy - Building video example2_20250131q3.mp4.\n",
      "MoviePy - Writing audio in example2_20250131q3TEMP_MPY_wvf_snd.mp3\n"
     ]
    },
    {
     "name": "stderr",
     "output_type": "stream",
     "text": [
      "                                                                      \r"
     ]
    },
    {
     "name": "stdout",
     "output_type": "stream",
     "text": [
      "MoviePy - Done.\n",
      "MoviePy - Writing video example2_20250131q3.mp4\n",
      "\n"
     ]
    },
    {
     "name": "stderr",
     "output_type": "stream",
     "text": [
      "frame_index:  32%|███▏      | 530/1669 [00:03<00:07, 149.68it/s, now=None]C:\\Users\\ronen\\AppData\\Local\\Packages\\PythonSoftwareFoundation.Python.3.11_qbz5n2kfra8p0\\LocalCache\\local-packages\\Python311\\site-packages\\moviepy\\video\\io\\ffmpeg_reader.py:190: UserWarning: In file https://videos.nba.com/nba/pbp/media/2025/01/31/0022400684/422/e9f7d794-9f89-82a4-36a8-8031b7406d68_1280x720.mp4, 2764800 bytes wanted but 0 bytes read at frame index 583 (out of a total 583 frames), at time 9.72/9.72 sec. Using the last valid frame instead.\n",
      "  warnings.warn(\n",
      "                                                                           \r"
     ]
    },
    {
     "name": "stdout",
     "output_type": "stream",
     "text": [
      "MoviePy - Done !\n",
      "MoviePy - video ready example2_20250131q3.mp4\n"
     ]
    }
   ],
   "source": [
    "make_video(wemby_stocks_urls, \"example2\", 30, \"ultrafast\", \"Quarter\")"
   ]
  },
  {
   "cell_type": "code",
   "execution_count": 16,
   "id": "42baa162",
   "metadata": {},
   "outputs": [
    {
     "data": {
      "text/html": [
       "<video src=\"example2_20250123q1.mp4\" controls  >\n",
       "      Your browser does not support the <code>video</code> element.\n",
       "    </video>"
      ],
      "text/plain": [
       "<IPython.core.display.Video object>"
      ]
     },
     "execution_count": 16,
     "metadata": {},
     "output_type": "execute_result"
    }
   ],
   "source": [
    "Video(\"example2_20250123q1.mp4\")"
   ]
  },
  {
   "cell_type": "code",
   "execution_count": 18,
   "id": "cf67424a",
   "metadata": {},
   "outputs": [
    {
     "data": {
      "text/html": [
       "<video src=\"example2_20250123q2.mp4\" controls  >\n",
       "      Your browser does not support the <code>video</code> element.\n",
       "    </video>"
      ],
      "text/plain": [
       "<IPython.core.display.Video object>"
      ]
     },
     "execution_count": 18,
     "metadata": {},
     "output_type": "execute_result"
    }
   ],
   "source": [
    "Video(\"example2_20250123q2.mp4\")"
   ]
  },
  {
   "cell_type": "code",
   "execution_count": 19,
   "id": "e8b91f4c",
   "metadata": {},
   "outputs": [
    {
     "data": {
      "text/html": [
       "<video src=\"example2_20250123q3.mp4\" controls  >\n",
       "      Your browser does not support the <code>video</code> element.\n",
       "    </video>"
      ],
      "text/plain": [
       "<IPython.core.display.Video object>"
      ]
     },
     "execution_count": 19,
     "metadata": {},
     "output_type": "execute_result"
    }
   ],
   "source": [
    "Video(\"example2_20250123q3.mp4\")"
   ]
  },
  {
   "cell_type": "code",
   "execution_count": 20,
   "id": "9f54bc2e",
   "metadata": {},
   "outputs": [
    {
     "data": {
      "text/html": [
       "<video src=\"example2_20250125q2.mp4\" controls  >\n",
       "      Your browser does not support the <code>video</code> element.\n",
       "    </video>"
      ],
      "text/plain": [
       "<IPython.core.display.Video object>"
      ]
     },
     "execution_count": 20,
     "metadata": {},
     "output_type": "execute_result"
    }
   ],
   "source": [
    "Video(\"example2_20250125q2.mp4\")"
   ]
  },
  {
   "cell_type": "code",
   "execution_count": 21,
   "id": "af2a0614",
   "metadata": {},
   "outputs": [
    {
     "data": {
      "text/html": [
       "<video src=\"example2_20250125q3.mp4\" controls  >\n",
       "      Your browser does not support the <code>video</code> element.\n",
       "    </video>"
      ],
      "text/plain": [
       "<IPython.core.display.Video object>"
      ]
     },
     "execution_count": 21,
     "metadata": {},
     "output_type": "execute_result"
    }
   ],
   "source": [
    "Video(\"example2_20250125q3.mp4\")"
   ]
  },
  {
   "cell_type": "code",
   "execution_count": 22,
   "id": "04b30a54",
   "metadata": {},
   "outputs": [
    {
     "data": {
      "text/html": [
       "<video src=\"example2_20250129q1.mp4\" controls  >\n",
       "      Your browser does not support the <code>video</code> element.\n",
       "    </video>"
      ],
      "text/plain": [
       "<IPython.core.display.Video object>"
      ]
     },
     "execution_count": 22,
     "metadata": {},
     "output_type": "execute_result"
    }
   ],
   "source": [
    "Video(\"example2_20250129q1.mp4\")"
   ]
  },
  {
   "cell_type": "code",
   "execution_count": 23,
   "id": "8207b3f7",
   "metadata": {},
   "outputs": [
    {
     "data": {
      "text/html": [
       "<video src=\"example2_20250129q2.mp4\" controls  >\n",
       "      Your browser does not support the <code>video</code> element.\n",
       "    </video>"
      ],
      "text/plain": [
       "<IPython.core.display.Video object>"
      ]
     },
     "execution_count": 23,
     "metadata": {},
     "output_type": "execute_result"
    }
   ],
   "source": [
    "Video(\"example2_20250129q2.mp4\")"
   ]
  },
  {
   "cell_type": "code",
   "execution_count": 24,
   "id": "ab2fc99f",
   "metadata": {},
   "outputs": [
    {
     "data": {
      "text/html": [
       "<video src=\"example2_20250129q3.mp4\" controls  >\n",
       "      Your browser does not support the <code>video</code> element.\n",
       "    </video>"
      ],
      "text/plain": [
       "<IPython.core.display.Video object>"
      ]
     },
     "execution_count": 24,
     "metadata": {},
     "output_type": "execute_result"
    }
   ],
   "source": [
    "Video(\"example2_20250129q3.mp4\")"
   ]
  },
  {
   "cell_type": "code",
   "execution_count": 25,
   "id": "b2cf826e",
   "metadata": {},
   "outputs": [
    {
     "data": {
      "text/html": [
       "<video src=\"example2_20250131q1.mp4\" controls  >\n",
       "      Your browser does not support the <code>video</code> element.\n",
       "    </video>"
      ],
      "text/plain": [
       "<IPython.core.display.Video object>"
      ]
     },
     "execution_count": 25,
     "metadata": {},
     "output_type": "execute_result"
    }
   ],
   "source": [
    "Video(\"example2_20250131q1.mp4\")"
   ]
  },
  {
   "cell_type": "code",
   "execution_count": 26,
   "id": "ded03627",
   "metadata": {},
   "outputs": [
    {
     "data": {
      "text/html": [
       "<video src=\"example2_20250131q2.mp4\" controls  >\n",
       "      Your browser does not support the <code>video</code> element.\n",
       "    </video>"
      ],
      "text/plain": [
       "<IPython.core.display.Video object>"
      ]
     },
     "execution_count": 26,
     "metadata": {},
     "output_type": "execute_result"
    }
   ],
   "source": [
    "Video(\"example2_20250131q2.mp4\")"
   ]
  },
  {
   "cell_type": "code",
   "execution_count": 27,
   "id": "3bf214b7",
   "metadata": {},
   "outputs": [
    {
     "data": {
      "text/html": [
       "<video src=\"example2_20250131q3.mp4\" controls  >\n",
       "      Your browser does not support the <code>video</code> element.\n",
       "    </video>"
      ],
      "text/plain": [
       "<IPython.core.display.Video object>"
      ]
     },
     "execution_count": 27,
     "metadata": {},
     "output_type": "execute_result"
    }
   ],
   "source": [
    "Video(\"example2_20250131q3.mp4\")"
   ]
  }
 ],
 "metadata": {
  "kernelspec": {
   "display_name": "Python 3",
   "language": "python",
   "name": "python3"
  },
  "language_info": {
   "codemirror_mode": {
    "name": "ipython",
    "version": 3
   },
   "file_extension": ".py",
   "mimetype": "text/x-python",
   "name": "python",
   "nbconvert_exporter": "python",
   "pygments_lexer": "ipython3",
   "version": "3.11.9"
  }
 },
 "nbformat": 4,
 "nbformat_minor": 5
}
