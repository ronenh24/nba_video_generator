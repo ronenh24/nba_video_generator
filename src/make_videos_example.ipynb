{
 "cells": [
  {
   "cell_type": "code",
   "execution_count": 1,
   "id": "05f52c2d",
   "metadata": {},
   "outputs": [],
   "source": [
    "from IPython.display import Video\n",
    "from nba_video_generator.search import generate_video, make_video"
   ]
  },
  {
   "cell_type": "markdown",
   "id": "4ebf8468",
   "metadata": {},
   "source": [
    "# Simple Example"
   ]
  },
  {
   "cell_type": "markdown",
   "id": "2476e529",
   "metadata": {},
   "source": [
    "Trae Young All Assists and Turnovers in first week of November."
   ]
  },
  {
   "cell_type": "code",
   "execution_count": 2,
   "id": "cdb76851",
   "metadata": {},
   "outputs": [
    {
     "name": "stdout",
     "output_type": "stream",
     "text": [
      "https://www.nba.com/game/sac-vs-atl-0022400135/box-score#box-score\n",
      "[1] Video URL: https://videos.nba.com/nba/pbp/media/2024/11/01/0022400135/224/c3132ed1-746b-8f7d-bf86-d5410acdce05_1280x720.mp4\n",
      "[2] Video URL: https://videos.nba.com/nba/pbp/media/2024/11/01/0022400135/227/4a523fcd-ca09-bcf9-0d6c-1e5feebacbb7_1280x720.mp4\n",
      "[3] Video URL: https://videos.nba.com/nba/pbp/media/2024/11/01/0022400135/243/ca0265c1-0fe5-c388-7fdf-07e7f270360a_1280x720.mp4\n",
      "[4] Video URL: https://videos.nba.com/nba/pbp/media/2024/11/01/0022400135/291/219b9468-daf1-e5c1-dd42-e063b95e64db_1280x720.mp4\n",
      "[5] Video URL: https://videos.nba.com/nba/pbp/media/2024/11/01/0022400135/386/179195ea-0e62-8740-15d1-402078b44b40_1280x720.mp4\n",
      "[6] Video URL: https://videos.nba.com/nba/pbp/media/2024/11/01/0022400135/391/47013e0f-871d-250e-64ec-2bde84f48fe3_1280x720.mp4\n",
      "[7] Video URL: https://videos.nba.com/nba/pbp/media/2024/11/01/0022400135/414/d32ed4d7-4628-c5c7-1f74-e65261ed0156_1280x720.mp4\n",
      "[8] Video URL: https://videos.nba.com/nba/pbp/media/2024/11/01/0022400135/528/68df2673-50ac-edfb-9b0f-f1c5ac041ad4_1280x720.mp4\n",
      "[9] Video URL: https://videos.nba.com/nba/pbp/media/2024/11/01/0022400135/587/77882258-08c7-1528-f6b0-9c7f2cec6c1a_1280x720.mp4\n",
      "[10] Video URL: https://videos.nba.com/nba/pbp/media/2024/11/01/0022400135/595/cf519c29-a630-dfe6-9913-0ac27584b3cf_1280x720.mp4\n",
      "[11] Video URL: https://videos.nba.com/nba/pbp/media/2024/11/01/0022400135/628/9debf457-4f66-4a65-c358-4978838f7327_1280x720.mp4\n",
      "[12] Video URL: https://videos.nba.com/nba/pbp/media/2024/11/01/0022400135/658/cee9d72a-0c64-2110-4c5d-bcad20b9abe5_1280x720.mp4\n",
      "[1] Video URL: https://videos.nba.com/nba/pbp/media/2024/11/01/0022400135/99/9330ec3a-45ba-4f2a-77cc-ade4b87de2e0_1280x720.mp4\n",
      "[2] Video URL: https://videos.nba.com/nba/pbp/media/2024/11/01/0022400135/398/a046efaa-ecef-5f4c-2b5b-d81dcc1b0601_1280x720.mp4\n",
      "[3] Video URL: https://videos.nba.com/nba/pbp/media/2024/11/01/0022400135/441/48f08a96-2966-e0e3-547c-de0620603c07_1280x720.mp4\n",
      "[4] Video URL: https://videos.nba.com/nba/pbp/media/2024/11/01/0022400135/618/0b6945f8-57de-2e24-1835-a99676cedf74_1280x720.mp4\n",
      "[5] Video URL: https://videos.nba.com/nba/pbp/media/2024/11/01/0022400135/638/2bb96810-e3a2-844d-14cf-fe582dcc2503_1280x720.mp4\n",
      "\n",
      "https://www.nba.com/game/atl-vs-nop-0022400152/box-score#box-score\n",
      "[1] Video URL: https://videos.nba.com/nba/pbp/media/2024/11/03/0022400152/31/d1680299-b476-39cd-2717-0a2bde0e1ecc_1280x720.mp4\n",
      "[2] Video URL: https://videos.nba.com/nba/pbp/media/2024/11/03/0022400152/45/87f00c65-99e2-2e8c-c708-b650789fe91a_1280x720.mp4\n",
      "[3] Video URL: https://videos.nba.com/nba/pbp/media/2024/11/03/0022400152/56/0f826d44-ac4c-854a-afb0-e1dc7509069b_1280x720.mp4\n",
      "[4] Video URL: https://videos.nba.com/nba/pbp/media/2024/11/03/0022400152/258/b2fb3825-6ad1-ab72-0b33-3d726a742f78_1280x720.mp4\n",
      "[5] Video URL: https://videos.nba.com/nba/pbp/media/2024/11/03/0022400152/317/d5374f39-0bb0-ea62-376c-b4ded8fa4fb1_1280x720.mp4\n",
      "[6] Video URL: https://videos.nba.com/nba/pbp/media/2024/11/03/0022400152/356/2dde4d27-7f23-3b28-b6e7-e15ea99bd41e_1280x720.mp4\n",
      "[7] Video URL: https://videos.nba.com/nba/pbp/media/2024/11/03/0022400152/359/527185af-544c-2d33-b01f-0b8caca5aa1c_1280x720.mp4\n",
      "[8] Video URL: https://videos.nba.com/nba/pbp/media/2024/11/03/0022400152/369/c2a1e783-598b-2a95-441b-9e03eabe11e1_1280x720.mp4\n",
      "[9] Video URL: https://videos.nba.com/nba/pbp/media/2024/11/03/0022400152/409/e9049195-72e2-38cc-3e3f-a90c1f2f596a_1280x720.mp4\n",
      "[10] Video URL: https://videos.nba.com/nba/pbp/media/2024/11/03/0022400152/421/2bfa4d75-96a0-696b-d50e-4ad697d4f124_1280x720.mp4\n",
      "[11] Video URL: https://videos.nba.com/nba/pbp/media/2024/11/03/0022400152/427/a220522f-d691-b425-8270-5716c90d90a7_1280x720.mp4\n",
      "[12] Video URL: https://videos.nba.com/nba/pbp/media/2024/11/03/0022400152/568/c3a8b19e-0cd5-7514-44b3-5536d58e02a2_1280x720.mp4\n",
      "[1] Video URL: https://videos.nba.com/nba/pbp/media/2024/11/03/0022400152/389/45a9d6e2-4169-798d-d6e6-10d2269068a7_1280x720.mp4\n",
      "[2] Video URL: https://videos.nba.com/nba/pbp/media/2024/11/03/0022400152/455/ff6bfeb7-3fd1-5cd7-aba4-0e0fd50eacf4_1280x720.mp4\n",
      "\n",
      "https://www.nba.com/game/bos-vs-atl-0022400157/box-score#box-score\n",
      "[1] Video URL: https://videos.nba.com/nba/pbp/media/2024/11/04/0022400157/67/d3ef7925-08db-5bac-6150-a28068e40abc_1280x720.mp4\n",
      "[2] Video URL: https://videos.nba.com/nba/pbp/media/2024/11/04/0022400157/232/4d59e4d5-7076-80e8-da11-28f1aae44ac5_1280x720.mp4\n",
      "[3] Video URL: https://videos.nba.com/nba/pbp/media/2024/11/04/0022400157/253/93c972b8-a830-dc56-cd2a-1461f1813bb7_1280x720.mp4\n",
      "[4] Video URL: https://videos.nba.com/nba/pbp/media/2024/11/04/0022400157/299/c4ff229c-f4b0-8ccc-55a6-73661b9fbade_1280x720.mp4\n",
      "[5] Video URL: https://videos.nba.com/nba/pbp/media/2024/11/04/0022400157/378/294c476b-b7ac-685f-0624-58c02fb0e253_1280x720.mp4\n",
      "[6] Video URL: https://videos.nba.com/nba/pbp/media/2024/11/04/0022400157/414/344b9e6e-15ef-1c99-bfbf-56f1ea879b5e_1280x720.mp4\n",
      "[1] Video URL: https://videos.nba.com/nba/pbp/media/2024/11/04/0022400157/288/b6fe0423-9465-41f0-35cc-6f477a370787_1280x720.mp4\n",
      "[2] Video URL: https://videos.nba.com/nba/pbp/media/2024/11/04/0022400157/395/c5c1128f-250c-e4ba-99f1-1a0a7d4dc1b9_1280x720.mp4\n",
      "[3] Video URL: https://videos.nba.com/nba/pbp/media/2024/11/04/0022400157/427/5fb1ba13-3de4-d79d-6e18-7d9ea9b20dcb_1280x720.mp4\n",
      "\n",
      "https://www.nba.com/game/nyk-vs-atl-0022400171/box-score#box-score\n",
      "[1] Video URL: https://videos.nba.com/nba/pbp/media/2024/11/06/0022400171/25/809b1fdf-388b-d7c3-d5c6-9794cdc228bd_1280x720.mp4\n",
      "[2] Video URL: https://videos.nba.com/nba/pbp/media/2024/11/06/0022400171/45/c8a18b6a-b605-0686-5292-45738c5164e5_1280x720.mp4\n",
      "[3] Video URL: https://videos.nba.com/nba/pbp/media/2024/11/06/0022400171/49/39406761-8fd3-ef34-abb2-6bbef0353cb7_1280x720.mp4\n",
      "[4] Video URL: https://videos.nba.com/nba/pbp/media/2024/11/06/0022400171/61/190eeca1-940c-910a-0f73-98d0c0f62abd_1280x720.mp4\n",
      "[5] Video URL: https://videos.nba.com/nba/pbp/media/2024/11/06/0022400171/90/efeb8096-9cd5-f835-a634-cf992ee047c0_1280x720.mp4\n",
      "[6] Video URL: https://videos.nba.com/nba/pbp/media/2024/11/06/0022400171/295/094b52ae-570a-7246-79a3-ea7d61203226_1280x720.mp4\n",
      "[7] Video URL: https://videos.nba.com/nba/pbp/media/2024/11/06/0022400171/336/217695d0-810f-d3ec-8559-8663ed52f04c_1280x720.mp4\n",
      "[8] Video URL: https://videos.nba.com/nba/pbp/media/2024/11/06/0022400171/363/55c895fe-7613-0ed8-350c-d04b9a6f1623_1280x720.mp4\n",
      "[9] Video URL: https://videos.nba.com/nba/pbp/media/2024/11/06/0022400171/600/9e11f297-90bb-8ac0-0ef5-3add55bd2bdb_1280x720.mp4\n",
      "[10] Video URL: https://videos.nba.com/nba/pbp/media/2024/11/06/0022400171/615/4426efe7-6bcb-9de5-0690-3a7e66c6a5a2_1280x720.mp4\n",
      "[1] Video URL: https://videos.nba.com/nba/pbp/media/2024/11/06/0022400171/42/b68e4fce-9068-33d9-fa14-bd0a5f5f7aa3_1280x720.mp4\n",
      "[2] Video URL: https://videos.nba.com/nba/pbp/media/2024/11/06/0022400171/84/f8942ab7-88f6-2cb5-1e1a-c5dd58d6eda3_1280x720.mp4\n",
      "\n",
      "https://www.nba.com/game/atl-vs-det-0022400185/box-score#box-score\n",
      "[1] Video URL: https://videos.nba.com/nba/pbp/media/2024/11/08/0022400185/25/86ad4cb9-84d9-5140-03a7-2a188938a57c_1280x720.mp4\n",
      "[2] Video URL: https://videos.nba.com/nba/pbp/media/2024/11/08/0022400185/33/2ef2c0f7-880d-f876-2a2e-5ea58b113f75_1280x720.mp4\n",
      "[3] Video URL: https://videos.nba.com/nba/pbp/media/2024/11/08/0022400185/385/778abdb4-06fe-140b-f956-ae3543eb5317_1280x720.mp4\n",
      "[4] Video URL: https://videos.nba.com/nba/pbp/media/2024/11/08/0022400185/493/4745f664-bceb-2a91-dcdc-18e73c2e9e6f_1280x720.mp4\n",
      "[5] Video URL: https://videos.nba.com/nba/pbp/media/2024/11/08/0022400185/510/16ada4a7-9514-7995-fe5b-346f9d02fa41_1280x720.mp4\n",
      "[6] Video URL: https://videos.nba.com/nba/pbp/media/2024/11/08/0022400185/521/862e656d-138e-00d5-a099-76a009646924_1280x720.mp4\n",
      "[7] Video URL: https://videos.nba.com/nba/pbp/media/2024/11/08/0022400185/605/efbbc2a1-f040-a89f-6d54-72e757d8b568_1280x720.mp4\n",
      "[8] Video URL: https://videos.nba.com/nba/pbp/media/2024/11/08/0022400185/637/13f8a8e1-9506-97f7-79fe-ef86cc5a397a_1280x720.mp4\n",
      "[9] Video URL: https://videos.nba.com/nba/pbp/media/2024/11/08/0022400185/641/790398d6-2a90-3947-268e-e093a16f6f3f_1280x720.mp4\n",
      "[10] Video URL: https://videos.nba.com/nba/pbp/media/2024/11/08/0022400185/645/230e283a-8a47-5dcb-bfad-1347f230458e_1280x720.mp4\n",
      "[11] Video URL: https://videos.nba.com/nba/pbp/media/2024/11/08/0022400185/670/a063bd31-2f43-9f02-abd8-74b4bd9c8a88_1280x720.mp4\n",
      "[12] Video URL: https://videos.nba.com/nba/pbp/media/2024/11/08/0022400185/699/fe39fb75-858e-70c3-6556-c0bff7af3742_1280x720.mp4\n",
      "[13] Video URL: https://videos.nba.com/nba/pbp/media/2024/11/08/0022400185/727/58b2437b-e8bd-294f-1535-346a78e8baa3_1280x720.mp4\n",
      "[1] Video URL: https://videos.nba.com/nba/pbp/media/2024/11/08/0022400185/30/aed62914-f520-b1ce-677d-bc172481e29a_1280x720.mp4\n",
      "[2] Video URL: https://videos.nba.com/nba/pbp/media/2024/11/08/0022400185/359/257d7cc1-fd8e-ddb1-6d13-565c9f522878_1280x720.mp4\n",
      "[3] Video URL: https://videos.nba.com/nba/pbp/media/2024/11/08/0022400185/678/74e4c573-2039-26cf-5bd5-2d45af295c05_1280x720.mp4\n",
      "\n"
     ]
    }
   ],
   "source": [
    "trae_young_assists_urls = generate_video(\n",
    "    player_name=\"Trae Young\", date_start=\"2024-11-01\", date_end=\"2024-11-08\", team=\"atl\",\n",
    "    FGM=False, FGA=False, ThreePM=False, ThreePA=False, OREB=False, DREB=False,\n",
    "    REB=False, AST=True, STL=False, BLK=False, TO=True, PF=False\n",
    ")"
   ]
  },
  {
   "cell_type": "code",
   "execution_count": 3,
   "id": "9b8ff2f2",
   "metadata": {},
   "outputs": [
    {
     "data": {
      "text/plain": [
       "{'2024-11-01': [('https://videos.nba.com/nba/pbp/media/2024/11/01/0022400135/99/9330ec3a-45ba-4f2a-77cc-ade4b87de2e0_1280x720.mp4',\n",
       "   'DeRozan STEAL (2 STL)',\n",
       "   '1',\n",
       "   '4:54'),\n",
       "  ('https://videos.nba.com/nba/pbp/media/2024/11/01/0022400135/224/c3132ed1-746b-8f7d-bf86-d5410acdce05_1280x720.mp4',\n",
       "   \"Roddy 25' 3PT Jump Shot (6 PTS) (Young 1 AST)\",\n",
       "   '2',\n",
       "   '8:57'),\n",
       "  ('https://videos.nba.com/nba/pbp/media/2024/11/01/0022400135/227/4a523fcd-ca09-bcf9-0d6c-1e5feebacbb7_1280x720.mp4',\n",
       "   \"Johnson 25' 3PT Jump Shot (3 PTS) (Young 2 AST)\",\n",
       "   '2',\n",
       "   '8:29'),\n",
       "  ('https://videos.nba.com/nba/pbp/media/2024/11/01/0022400135/243/ca0265c1-0fe5-c388-7fdf-07e7f270360a_1280x720.mp4',\n",
       "   \"Capela 2' Layup (10 PTS) (Young 3 AST)\",\n",
       "   '2',\n",
       "   '7:32'),\n",
       "  ('https://videos.nba.com/nba/pbp/media/2024/11/01/0022400135/291/219b9468-daf1-e5c1-dd42-e063b95e64db_1280x720.mp4',\n",
       "   'Okongwu Cutting Dunk Shot (8 PTS) (Young 4 AST)',\n",
       "   '2',\n",
       "   '4:09'),\n",
       "  ('https://videos.nba.com/nba/pbp/media/2024/11/01/0022400135/386/179195ea-0e62-8740-15d1-402078b44b40_1280x720.mp4',\n",
       "   \"Mathews 24' 3PT Jump Shot (3 PTS) (Young 5 AST)\",\n",
       "   '3',\n",
       "   '10:07'),\n",
       "  ('https://videos.nba.com/nba/pbp/media/2024/11/01/0022400135/391/47013e0f-871d-250e-64ec-2bde84f48fe3_1280x720.mp4',\n",
       "   \"Johnson 3' Driving Layup (10 PTS) (Young 6 AST)\",\n",
       "   '3',\n",
       "   '9:44'),\n",
       "  ('https://videos.nba.com/nba/pbp/media/2024/11/01/0022400135/398/a046efaa-ecef-5f4c-2b5b-d81dcc1b0601_1280x720.mp4',\n",
       "   'Fox STEAL (2 STL)',\n",
       "   '3',\n",
       "   '9:22'),\n",
       "  ('https://videos.nba.com/nba/pbp/media/2024/11/01/0022400135/414/d32ed4d7-4628-c5c7-1f74-e65261ed0156_1280x720.mp4',\n",
       "   \"Capela 3' Hook Shot (12 PTS) (Young 7 AST)\",\n",
       "   '3',\n",
       "   '7:47'),\n",
       "  ('https://videos.nba.com/nba/pbp/media/2024/11/01/0022400135/441/48f08a96-2966-e0e3-547c-de0620603c07_1280x720.mp4',\n",
       "   'Fox STEAL (3 STL)',\n",
       "   '3',\n",
       "   '5:22'),\n",
       "  ('https://videos.nba.com/nba/pbp/media/2024/11/01/0022400135/528/68df2673-50ac-edfb-9b0f-f1c5ac041ad4_1280x720.mp4',\n",
       "   'Wallace 3PT Jump Shot (11 PTS) (Young 8 AST)',\n",
       "   '4',\n",
       "   '11:21'),\n",
       "  ('https://videos.nba.com/nba/pbp/media/2024/11/01/0022400135/587/77882258-08c7-1528-f6b0-9c7f2cec6c1a_1280x720.mp4',\n",
       "   'Mathews 3PT Jump Shot (20 PTS) (Young 9 AST)',\n",
       "   '4',\n",
       "   '7:15'),\n",
       "  ('https://videos.nba.com/nba/pbp/media/2024/11/01/0022400135/595/cf519c29-a630-dfe6-9913-0ac27584b3cf_1280x720.mp4',\n",
       "   \"Capela 1' Cutting Dunk Shot (14 PTS) (Young 10 AST)\",\n",
       "   '4',\n",
       "   '6:22'),\n",
       "  ('https://videos.nba.com/nba/pbp/media/2024/11/01/0022400135/618/0b6945f8-57de-2e24-1835-a99676cedf74_1280x720.mp4',\n",
       "   'Young Offensive Foul Turnover (P4.T12)',\n",
       "   '4',\n",
       "   '4:27'),\n",
       "  ('https://videos.nba.com/nba/pbp/media/2024/11/01/0022400135/628/9debf457-4f66-4a65-c358-4978838f7327_1280x720.mp4',\n",
       "   \"Mathews 26' 3PT Jump Shot (23 PTS) (Young 11 AST)\",\n",
       "   '4',\n",
       "   '3:44'),\n",
       "  ('https://videos.nba.com/nba/pbp/media/2024/11/01/0022400135/638/2bb96810-e3a2-844d-14cf-fe582dcc2503_1280x720.mp4',\n",
       "   'Huerter STEAL (1 STL)',\n",
       "   '4',\n",
       "   '2:37'),\n",
       "  ('https://videos.nba.com/nba/pbp/media/2024/11/01/0022400135/658/cee9d72a-0c64-2110-4c5d-bcad20b9abe5_1280x720.mp4',\n",
       "   \"Wallace 25' 3PT Jump Shot (14 PTS) (Young 12 AST)\",\n",
       "   '4',\n",
       "   '1:09')],\n",
       " '2024-11-03': [('https://videos.nba.com/nba/pbp/media/2024/11/03/0022400152/31/d1680299-b476-39cd-2717-0a2bde0e1ecc_1280x720.mp4',\n",
       "   \"Risacher 24' 3PT Running Jump Shot (5 PTS) (Young 1 AST)\",\n",
       "   '1',\n",
       "   '9:47'),\n",
       "  ('https://videos.nba.com/nba/pbp/media/2024/11/03/0022400152/45/87f00c65-99e2-2e8c-c708-b650789fe91a_1280x720.mp4',\n",
       "   \"Johnson 21' Jump Shot (2 PTS) (Young 2 AST)\",\n",
       "   '1',\n",
       "   '8:03'),\n",
       "  ('https://videos.nba.com/nba/pbp/media/2024/11/03/0022400152/56/0f826d44-ac4c-854a-afb0-e1dc7509069b_1280x720.mp4',\n",
       "   \"Johnson 2' Running Finger Roll Layup (4 PTS) (Young 3 AST)\",\n",
       "   '1',\n",
       "   '7:04'),\n",
       "  ('https://videos.nba.com/nba/pbp/media/2024/11/03/0022400152/258/b2fb3825-6ad1-ab72-0b33-3d726a742f78_1280x720.mp4',\n",
       "   \"Nance Jr. 4' Layup (5 PTS) (Young 4 AST)\",\n",
       "   '2',\n",
       "   '5:58'),\n",
       "  ('https://videos.nba.com/nba/pbp/media/2024/11/03/0022400152/317/d5374f39-0bb0-ea62-376c-b4ded8fa4fb1_1280x720.mp4',\n",
       "   \"Daniels 24' 3PT Jump Shot (5 PTS) (Young 5 AST)\",\n",
       "   '2',\n",
       "   '2:01'),\n",
       "  ('https://videos.nba.com/nba/pbp/media/2024/11/03/0022400152/356/2dde4d27-7f23-3b28-b6e7-e15ea99bd41e_1280x720.mp4',\n",
       "   \"Capela 3' Cutting Dunk Shot (4 PTS) (Young 6 AST)\",\n",
       "   '3',\n",
       "   '11:43'),\n",
       "  ('https://videos.nba.com/nba/pbp/media/2024/11/03/0022400152/359/527185af-544c-2d33-b01f-0b8caca5aa1c_1280x720.mp4',\n",
       "   \"Daniels 2' Alley Oop Dunk (9 PTS) (Young 7 AST)\",\n",
       "   '3',\n",
       "   '11:17'),\n",
       "  ('https://videos.nba.com/nba/pbp/media/2024/11/03/0022400152/369/c2a1e783-598b-2a95-441b-9e03eabe11e1_1280x720.mp4',\n",
       "   \"Johnson 4' Driving Layup (15 PTS) (Young 8 AST)\",\n",
       "   '3',\n",
       "   '10:09'),\n",
       "  ('https://videos.nba.com/nba/pbp/media/2024/11/03/0022400152/389/45a9d6e2-4169-798d-d6e6-10d2269068a7_1280x720.mp4',\n",
       "   'Young Bad Pass Turnover (P1.T8)',\n",
       "   '3',\n",
       "   '8:07'),\n",
       "  ('https://videos.nba.com/nba/pbp/media/2024/11/03/0022400152/409/e9049195-72e2-38cc-3e3f-a90c1f2f596a_1280x720.mp4',\n",
       "   \"Capela 1' Reverse Layup (6 PTS) (Young 9 AST)\",\n",
       "   '3',\n",
       "   '6:17'),\n",
       "  ('https://videos.nba.com/nba/pbp/media/2024/11/03/0022400152/421/2bfa4d75-96a0-696b-d50e-4ad697d4f124_1280x720.mp4',\n",
       "   \"Roddy 1' Running Finger Roll Layup (5 PTS) (Young 10 AST)\",\n",
       "   '3',\n",
       "   '5:40'),\n",
       "  ('https://videos.nba.com/nba/pbp/media/2024/11/03/0022400152/427/a220522f-d691-b425-8270-5716c90d90a7_1280x720.mp4',\n",
       "   \"Capela 3' Hook Shot (8 PTS) (Young 11 AST)\",\n",
       "   '3',\n",
       "   '5:13'),\n",
       "  ('https://videos.nba.com/nba/pbp/media/2024/11/03/0022400152/455/ff6bfeb7-3fd1-5cd7-aba4-0e0fd50eacf4_1280x720.mp4',\n",
       "   'Young Bad Pass Turnover (P2.T9)',\n",
       "   '3',\n",
       "   '3:25'),\n",
       "  ('https://videos.nba.com/nba/pbp/media/2024/11/03/0022400152/568/c3a8b19e-0cd5-7514-44b3-5536d58e02a2_1280x720.mp4',\n",
       "   \"Johnson 1' Running Reverse Dunk Shot (27 PTS) (Young 12 AST)\",\n",
       "   '4',\n",
       "   '5:20')],\n",
       " '2024-11-04': [('https://videos.nba.com/nba/pbp/media/2024/11/04/0022400157/67/d3ef7925-08db-5bac-6150-a28068e40abc_1280x720.mp4',\n",
       "   \"Daniels 2' Driving Reverse Layup (6 PTS) (Young 1 AST)\",\n",
       "   '1',\n",
       "   '6:01'),\n",
       "  ('https://videos.nba.com/nba/pbp/media/2024/11/04/0022400157/232/4d59e4d5-7076-80e8-da11-28f1aae44ac5_1280x720.mp4',\n",
       "   \"Risacher 2' Driving Reverse Layup (5 PTS) (Young 2 AST)\",\n",
       "   '2',\n",
       "   '6:54'),\n",
       "  ('https://videos.nba.com/nba/pbp/media/2024/11/04/0022400157/253/93c972b8-a830-dc56-cd2a-1461f1813bb7_1280x720.mp4',\n",
       "   \"Roddy 1' Cutting Dunk Shot (2 PTS) (Young 3 AST)\",\n",
       "   '2',\n",
       "   '5:37'),\n",
       "  ('https://videos.nba.com/nba/pbp/media/2024/11/04/0022400157/288/b6fe0423-9465-41f0-35cc-6f477a370787_1280x720.mp4',\n",
       "   'Horford STEAL (1 STL)',\n",
       "   '2',\n",
       "   '3:01'),\n",
       "  ('https://videos.nba.com/nba/pbp/media/2024/11/04/0022400157/299/c4ff229c-f4b0-8ccc-55a6-73661b9fbade_1280x720.mp4',\n",
       "   \"Roddy 7' Cutting Layup Shot (4 PTS) (Young 4 AST)\",\n",
       "   '2',\n",
       "   '2:37'),\n",
       "  ('https://videos.nba.com/nba/pbp/media/2024/11/04/0022400157/378/294c476b-b7ac-685f-0624-58c02fb0e253_1280x720.mp4',\n",
       "   \"Risacher 1' Driving Reverse Layup (11 PTS) (Young 5 AST)\",\n",
       "   '3',\n",
       "   '7:50'),\n",
       "  ('https://videos.nba.com/nba/pbp/media/2024/11/04/0022400157/395/c5c1128f-250c-e4ba-99f1-1a0a7d4dc1b9_1280x720.mp4',\n",
       "   'Young Out Of Bounds - Bad Pass Turnover Turnover (P2.T13)',\n",
       "   '3',\n",
       "   '6:31'),\n",
       "  ('https://videos.nba.com/nba/pbp/media/2024/11/04/0022400157/414/344b9e6e-15ef-1c99-bfbf-56f1ea879b5e_1280x720.mp4',\n",
       "   \"Okongwu 1' Alley Oop Layup (10 PTS) (Young 6 AST)\",\n",
       "   '3',\n",
       "   '5:12'),\n",
       "  ('https://videos.nba.com/nba/pbp/media/2024/11/04/0022400157/427/5fb1ba13-3de4-d79d-6e18-7d9ea9b20dcb_1280x720.mp4',\n",
       "   'Pritchard STEAL (1 STL)',\n",
       "   '3',\n",
       "   '4:17')],\n",
       " '2024-11-06': [('https://videos.nba.com/nba/pbp/media/2024/11/06/0022400171/25/809b1fdf-388b-d7c3-d5c6-9794cdc228bd_1280x720.mp4',\n",
       "   \"Capela 1' Alley Oop Layup (2 PTS) (Young 1 AST)\",\n",
       "   '1',\n",
       "   '10:25'),\n",
       "  ('https://videos.nba.com/nba/pbp/media/2024/11/06/0022400171/42/b68e4fce-9068-33d9-fa14-bd0a5f5f7aa3_1280x720.mp4',\n",
       "   'Young Out Of Bounds - Bad Pass Turnover Turnover (P1.T1)',\n",
       "   '1',\n",
       "   '8:55'),\n",
       "  ('https://videos.nba.com/nba/pbp/media/2024/11/06/0022400171/45/c8a18b6a-b605-0686-5292-45738c5164e5_1280x720.mp4',\n",
       "   'Risacher 3PT Jump Shot (6 PTS) (Young 2 AST)',\n",
       "   '1',\n",
       "   '8:14'),\n",
       "  ('https://videos.nba.com/nba/pbp/media/2024/11/06/0022400171/49/39406761-8fd3-ef34-abb2-6bbef0353cb7_1280x720.mp4',\n",
       "   \"Johnson 2' Driving Floating Jump Shot (2 PTS) (Young 3 AST)\",\n",
       "   '1',\n",
       "   '7:46'),\n",
       "  ('https://videos.nba.com/nba/pbp/media/2024/11/06/0022400171/61/190eeca1-940c-910a-0f73-98d0c0f62abd_1280x720.mp4',\n",
       "   \"Johnson 20' Jump Shot (4 PTS) (Young 4 AST)\",\n",
       "   '1',\n",
       "   '6:48'),\n",
       "  ('https://videos.nba.com/nba/pbp/media/2024/11/06/0022400171/84/f8942ab7-88f6-2cb5-1e1a-c5dd58d6eda3_1280x720.mp4',\n",
       "   'Sims STEAL (1 STL)',\n",
       "   '1',\n",
       "   '5:24'),\n",
       "  ('https://videos.nba.com/nba/pbp/media/2024/11/06/0022400171/90/efeb8096-9cd5-f835-a634-cf992ee047c0_1280x720.mp4',\n",
       "   \"Daniels 1' Dunk (2 PTS) (Young 5 AST)\",\n",
       "   '1',\n",
       "   '5:01'),\n",
       "  ('https://videos.nba.com/nba/pbp/media/2024/11/06/0022400171/295/094b52ae-570a-7246-79a3-ea7d61203226_1280x720.mp4',\n",
       "   \"Daniels 1' Alley Oop Dunk (4 PTS) (Young 6 AST)\",\n",
       "   '2',\n",
       "   '1:58'),\n",
       "  ('https://videos.nba.com/nba/pbp/media/2024/11/06/0022400171/336/217695d0-810f-d3ec-8559-8663ed52f04c_1280x720.mp4',\n",
       "   \"Johnson 2' Cutting Layup Shot (12 PTS) (Young 7 AST)\",\n",
       "   '3',\n",
       "   '10:04'),\n",
       "  ('https://videos.nba.com/nba/pbp/media/2024/11/06/0022400171/363/55c895fe-7613-0ed8-350c-d04b9a6f1623_1280x720.mp4',\n",
       "   'Johnson Cutting Dunk Shot (14 PTS) (Young 8 AST)',\n",
       "   '3',\n",
       "   '7:58'),\n",
       "  ('https://videos.nba.com/nba/pbp/media/2024/11/06/0022400171/600/9e11f297-90bb-8ac0-0ef5-3add55bd2bdb_1280x720.mp4',\n",
       "   \"Risacher 12' Floating Jump Shot (30 PTS) (Young 9 AST)\",\n",
       "   '4',\n",
       "   '1:31'),\n",
       "  ('https://videos.nba.com/nba/pbp/media/2024/11/06/0022400171/615/4426efe7-6bcb-9de5-0690-3a7e66c6a5a2_1280x720.mp4',\n",
       "   \"Capela 1' Running Dunk (18 PTS) (Young 10 AST)\",\n",
       "   '4',\n",
       "   '0:47')],\n",
       " '2024-11-08': [('https://videos.nba.com/nba/pbp/media/2024/11/08/0022400185/25/86ad4cb9-84d9-5140-03a7-2a188938a57c_1280x720.mp4',\n",
       "   \"Johnson 7' Driving Layup (2 PTS) (Young 1 AST)\",\n",
       "   '1',\n",
       "   '9:52'),\n",
       "  ('https://videos.nba.com/nba/pbp/media/2024/11/08/0022400185/30/aed62914-f520-b1ce-677d-bc172481e29a_1280x720.mp4',\n",
       "   'Young Out Of Bounds Lost Ball Turnover (P1.T1)',\n",
       "   '1',\n",
       "   '9:32'),\n",
       "  ('https://videos.nba.com/nba/pbp/media/2024/11/08/0022400185/33/2ef2c0f7-880d-f876-2a2e-5ea58b113f75_1280x720.mp4',\n",
       "   \"Capela 2' Cutting Layup Shot (2 PTS) (Young 2 AST)\",\n",
       "   '1',\n",
       "   '9:00'),\n",
       "  ('https://videos.nba.com/nba/pbp/media/2024/11/08/0022400185/359/257d7cc1-fd8e-ddb1-6d13-565c9f522878_1280x720.mp4',\n",
       "   'Young Out Of Bounds - Bad Pass Turnover Turnover (P2.T9)',\n",
       "   '2',\n",
       "   '2:04'),\n",
       "  ('https://videos.nba.com/nba/pbp/media/2024/11/08/0022400185/385/778abdb4-06fe-140b-f956-ae3543eb5317_1280x720.mp4',\n",
       "   \"Johnson 3' Running Alley Oop Dunk Shot (8 PTS) (Young 3 AST)\",\n",
       "   '2',\n",
       "   '0:06'),\n",
       "  ('https://videos.nba.com/nba/pbp/media/2024/11/08/0022400185/493/4745f664-bceb-2a91-dcdc-18e73c2e9e6f_1280x720.mp4',\n",
       "   \"Okongwu 2' Layup (4 PTS) (Young 4 AST)\",\n",
       "   '3',\n",
       "   '4:34'),\n",
       "  ('https://videos.nba.com/nba/pbp/media/2024/11/08/0022400185/510/16ada4a7-9514-7995-fe5b-346f9d02fa41_1280x720.mp4',\n",
       "   \"Daniels 5' Driving Floating Jump Shot (13 PTS) (Young 5 AST)\",\n",
       "   '3',\n",
       "   '3:44'),\n",
       "  ('https://videos.nba.com/nba/pbp/media/2024/11/08/0022400185/521/862e656d-138e-00d5-a099-76a009646924_1280x720.mp4',\n",
       "   \"Johnson 6' Running Layup (15 PTS) (Young 6 AST)\",\n",
       "   '3',\n",
       "   '2:54'),\n",
       "  ('https://videos.nba.com/nba/pbp/media/2024/11/08/0022400185/605/efbbc2a1-f040-a89f-6d54-72e757d8b568_1280x720.mp4',\n",
       "   \"Nance Jr. 4' Cutting Dunk Shot (5 PTS) (Young 7 AST)\",\n",
       "   '4',\n",
       "   '9:37'),\n",
       "  ('https://videos.nba.com/nba/pbp/media/2024/11/08/0022400185/637/13f8a8e1-9506-97f7-79fe-ef86cc5a397a_1280x720.mp4',\n",
       "   \"Nance Jr. 27' 3PT Jump Shot (13 PTS) (Young 8 AST)\",\n",
       "   '4',\n",
       "   '7:24'),\n",
       "  ('https://videos.nba.com/nba/pbp/media/2024/11/08/0022400185/641/790398d6-2a90-3947-268e-e093a16f6f3f_1280x720.mp4',\n",
       "   \"Risacher 5' Running Layup (7 PTS) (Young 9 AST)\",\n",
       "   '4',\n",
       "   '7:02'),\n",
       "  ('https://videos.nba.com/nba/pbp/media/2024/11/08/0022400185/645/230e283a-8a47-5dcb-bfad-1347f230458e_1280x720.mp4',\n",
       "   \"Roddy 26' 3PT Jump Shot (3 PTS) (Young 10 AST)\",\n",
       "   '4',\n",
       "   '6:30'),\n",
       "  ('https://videos.nba.com/nba/pbp/media/2024/11/08/0022400185/670/a063bd31-2f43-9f02-abd8-74b4bd9c8a88_1280x720.mp4',\n",
       "   \"Okongwu 2' Alley Oop Dunk (6 PTS) (Young 11 AST)\",\n",
       "   '4',\n",
       "   '5:34'),\n",
       "  ('https://videos.nba.com/nba/pbp/media/2024/11/08/0022400185/678/74e4c573-2039-26cf-5bd5-2d45af295c05_1280x720.mp4',\n",
       "   'Young Lost Ball Turnover (P3.T18)',\n",
       "   '4',\n",
       "   '4:51'),\n",
       "  ('https://videos.nba.com/nba/pbp/media/2024/11/08/0022400185/699/fe39fb75-858e-70c3-6556-c0bff7af3742_1280x720.mp4',\n",
       "   \"Okongwu 1' Driving Dunk (8 PTS) (Young 12 AST)\",\n",
       "   '4',\n",
       "   '2:55'),\n",
       "  ('https://videos.nba.com/nba/pbp/media/2024/11/08/0022400185/727/58b2437b-e8bd-294f-1535-346a78e8baa3_1280x720.mp4',\n",
       "   'Daniels 3PT Jump Shot (18 PTS) (Young 13 AST)',\n",
       "   '4',\n",
       "   '0:42')]}"
      ]
     },
     "execution_count": 3,
     "metadata": {},
     "output_type": "execute_result"
    }
   ],
   "source": [
    "trae_young_assists_urls"
   ]
  },
  {
   "cell_type": "code",
   "execution_count": 4,
   "id": "b40b04c4",
   "metadata": {},
   "outputs": [
    {
     "name": "stdout",
     "output_type": "stream",
     "text": [
      "MoviePy - Building video example_20241101q1.mp4.\n",
      "MoviePy - Writing audio in example_20241101q1TEMP_MPY_wvf_snd.mp3\n"
     ]
    },
    {
     "name": "stderr",
     "output_type": "stream",
     "text": [
      "                                                                   \r"
     ]
    },
    {
     "name": "stdout",
     "output_type": "stream",
     "text": [
      "MoviePy - Done.\n",
      "MoviePy - Writing video example_20241101q1.mp4\n",
      "\n"
     ]
    },
    {
     "name": "stderr",
     "output_type": "stream",
     "text": [
      "                                                                        \r"
     ]
    },
    {
     "name": "stdout",
     "output_type": "stream",
     "text": [
      "MoviePy - Done !\n",
      "MoviePy - video ready example_20241101q1.mp4\n",
      "MoviePy - Building video example_20241101q2.mp4.\n",
      "MoviePy - Writing audio in example_20241101q2TEMP_MPY_wvf_snd.mp3\n"
     ]
    },
    {
     "name": "stderr",
     "output_type": "stream",
     "text": [
      "                                                                    \r"
     ]
    },
    {
     "name": "stdout",
     "output_type": "stream",
     "text": [
      "MoviePy - Done.\n",
      "MoviePy - Writing video example_20241101q2.mp4\n",
      "\n"
     ]
    },
    {
     "name": "stderr",
     "output_type": "stream",
     "text": [
      "                                                                          \r"
     ]
    },
    {
     "name": "stdout",
     "output_type": "stream",
     "text": [
      "MoviePy - Done !\n",
      "MoviePy - video ready example_20241101q2.mp4\n",
      "MoviePy - Building video example_20241101q3.mp4.\n",
      "MoviePy - Writing audio in example_20241101q3TEMP_MPY_wvf_snd.mp3\n"
     ]
    },
    {
     "name": "stderr",
     "output_type": "stream",
     "text": [
      "                                                                      \r"
     ]
    },
    {
     "name": "stdout",
     "output_type": "stream",
     "text": [
      "MoviePy - Done.\n",
      "MoviePy - Writing video example_20241101q3.mp4\n",
      "\n"
     ]
    },
    {
     "name": "stderr",
     "output_type": "stream",
     "text": [
      "                                                                          \r"
     ]
    },
    {
     "name": "stdout",
     "output_type": "stream",
     "text": [
      "MoviePy - Done !\n",
      "MoviePy - video ready example_20241101q3.mp4\n",
      "MoviePy - Building video example_20241101q4.mp4.\n",
      "MoviePy - Writing audio in example_20241101q4TEMP_MPY_wvf_snd.mp3\n"
     ]
    },
    {
     "name": "stderr",
     "output_type": "stream",
     "text": [
      "                                                                      \r"
     ]
    },
    {
     "name": "stdout",
     "output_type": "stream",
     "text": [
      "MoviePy - Done.\n",
      "MoviePy - Writing video example_20241101q4.mp4\n",
      "\n"
     ]
    },
    {
     "name": "stderr",
     "output_type": "stream",
     "text": [
      "                                                                          \r"
     ]
    },
    {
     "name": "stdout",
     "output_type": "stream",
     "text": [
      "MoviePy - Done !\n",
      "MoviePy - video ready example_20241101q4.mp4\n",
      "MoviePy - Building video example_20241103q1.mp4.\n",
      "MoviePy - Writing audio in example_20241103q1TEMP_MPY_wvf_snd.mp3\n"
     ]
    },
    {
     "name": "stderr",
     "output_type": "stream",
     "text": [
      "                                                                    \r"
     ]
    },
    {
     "name": "stdout",
     "output_type": "stream",
     "text": [
      "MoviePy - Done.\n",
      "MoviePy - Writing video example_20241103q1.mp4\n",
      "\n"
     ]
    },
    {
     "name": "stderr",
     "output_type": "stream",
     "text": [
      "                                                                        \r"
     ]
    },
    {
     "name": "stdout",
     "output_type": "stream",
     "text": [
      "MoviePy - Done !\n",
      "MoviePy - video ready example_20241103q1.mp4\n",
      "MoviePy - Building video example_20241103q2.mp4.\n",
      "MoviePy - Writing audio in example_20241103q2TEMP_MPY_wvf_snd.mp3\n"
     ]
    },
    {
     "name": "stderr",
     "output_type": "stream",
     "text": [
      "                                                                    \r"
     ]
    },
    {
     "name": "stdout",
     "output_type": "stream",
     "text": [
      "MoviePy - Done.\n",
      "MoviePy - Writing video example_20241103q2.mp4\n",
      "\n"
     ]
    },
    {
     "name": "stderr",
     "output_type": "stream",
     "text": [
      "                                                                        \r"
     ]
    },
    {
     "name": "stdout",
     "output_type": "stream",
     "text": [
      "MoviePy - Done !\n",
      "MoviePy - video ready example_20241103q2.mp4\n",
      "MoviePy - Building video example_20241103q3.mp4.\n",
      "MoviePy - Writing audio in example_20241103q3TEMP_MPY_wvf_snd.mp3\n"
     ]
    },
    {
     "name": "stderr",
     "output_type": "stream",
     "text": [
      "                                                                      \r"
     ]
    },
    {
     "name": "stdout",
     "output_type": "stream",
     "text": [
      "MoviePy - Done.\n",
      "MoviePy - Writing video example_20241103q3.mp4\n",
      "\n"
     ]
    },
    {
     "name": "stderr",
     "output_type": "stream",
     "text": [
      "                                                                          \r"
     ]
    },
    {
     "name": "stdout",
     "output_type": "stream",
     "text": [
      "MoviePy - Done !\n",
      "MoviePy - video ready example_20241103q3.mp4\n",
      "MoviePy - Building video example_20241103q4.mp4.\n",
      "MoviePy - Writing audio in example_20241103q4TEMP_MPY_wvf_snd.mp3\n"
     ]
    },
    {
     "name": "stderr",
     "output_type": "stream",
     "text": [
      "                                                                   \r"
     ]
    },
    {
     "name": "stdout",
     "output_type": "stream",
     "text": [
      "MoviePy - Done.\n",
      "MoviePy - Writing video example_20241103q4.mp4\n",
      "\n"
     ]
    },
    {
     "name": "stderr",
     "output_type": "stream",
     "text": [
      "                                                                        \r"
     ]
    },
    {
     "name": "stdout",
     "output_type": "stream",
     "text": [
      "MoviePy - Done !\n",
      "MoviePy - video ready example_20241103q4.mp4\n",
      "MoviePy - Building video example_20241104q1.mp4.\n",
      "MoviePy - Writing audio in example_20241104q1TEMP_MPY_wvf_snd.mp3\n"
     ]
    },
    {
     "name": "stderr",
     "output_type": "stream",
     "text": [
      "                                                                    \r"
     ]
    },
    {
     "name": "stdout",
     "output_type": "stream",
     "text": [
      "MoviePy - Done.\n",
      "MoviePy - Writing video example_20241104q1.mp4\n",
      "\n"
     ]
    },
    {
     "name": "stderr",
     "output_type": "stream",
     "text": [
      "                                                                        \r"
     ]
    },
    {
     "name": "stdout",
     "output_type": "stream",
     "text": [
      "MoviePy - Done !\n",
      "MoviePy - video ready example_20241104q1.mp4\n",
      "MoviePy - Building video example_20241104q2.mp4.\n",
      "MoviePy - Writing audio in example_20241104q2TEMP_MPY_wvf_snd.mp3\n"
     ]
    },
    {
     "name": "stderr",
     "output_type": "stream",
     "text": [
      "                                                                    \r"
     ]
    },
    {
     "name": "stdout",
     "output_type": "stream",
     "text": [
      "MoviePy - Done.\n",
      "MoviePy - Writing video example_20241104q2.mp4\n",
      "\n"
     ]
    },
    {
     "name": "stderr",
     "output_type": "stream",
     "text": [
      "                                                                          \r"
     ]
    },
    {
     "name": "stdout",
     "output_type": "stream",
     "text": [
      "MoviePy - Done !\n",
      "MoviePy - video ready example_20241104q2.mp4\n",
      "MoviePy - Building video example_20241104q3.mp4.\n",
      "MoviePy - Writing audio in example_20241104q3TEMP_MPY_wvf_snd.mp3\n"
     ]
    },
    {
     "name": "stderr",
     "output_type": "stream",
     "text": [
      "                                                                    \r"
     ]
    },
    {
     "name": "stdout",
     "output_type": "stream",
     "text": [
      "MoviePy - Done.\n",
      "MoviePy - Writing video example_20241104q3.mp4\n",
      "\n"
     ]
    },
    {
     "name": "stderr",
     "output_type": "stream",
     "text": [
      "                                                                          \r"
     ]
    },
    {
     "name": "stdout",
     "output_type": "stream",
     "text": [
      "MoviePy - Done !\n",
      "MoviePy - video ready example_20241104q3.mp4\n",
      "MoviePy - Building video example_20241106q1.mp4.\n",
      "MoviePy - Writing audio in example_20241106q1TEMP_MPY_wvf_snd.mp3\n"
     ]
    },
    {
     "name": "stderr",
     "output_type": "stream",
     "text": [
      "                                                                      \r"
     ]
    },
    {
     "name": "stdout",
     "output_type": "stream",
     "text": [
      "MoviePy - Done.\n",
      "MoviePy - Writing video example_20241106q1.mp4\n",
      "\n"
     ]
    },
    {
     "name": "stderr",
     "output_type": "stream",
     "text": [
      "frame_index:  32%|███▏      | 690/2133 [00:20<00:46, 30.89it/s, now=None]C:\\Users\\ronen\\AppData\\Local\\Packages\\PythonSoftwareFoundation.Python.3.11_qbz5n2kfra8p0\\LocalCache\\local-packages\\Python311\\site-packages\\moviepy\\video\\io\\ffmpeg_reader.py:190: UserWarning: In file https://videos.nba.com/nba/pbp/media/2024/11/06/0022400171/42/b68e4fce-9068-33d9-fa14-bd0a5f5f7aa3_1280x720.mp4, 2764800 bytes wanted but 0 bytes read at frame index 481 (out of a total 481 frames), at time 8.02/8.02 sec. Using the last valid frame instead.\n",
      "  warnings.warn(\n",
      "                                                                          \r"
     ]
    },
    {
     "name": "stdout",
     "output_type": "stream",
     "text": [
      "MoviePy - Done !\n",
      "MoviePy - video ready example_20241106q1.mp4\n",
      "MoviePy - Building video example_20241106q2.mp4.\n",
      "MoviePy - Writing audio in example_20241106q2TEMP_MPY_wvf_snd.mp3\n"
     ]
    },
    {
     "name": "stderr",
     "output_type": "stream",
     "text": [
      "                                                                   \r"
     ]
    },
    {
     "name": "stdout",
     "output_type": "stream",
     "text": [
      "MoviePy - Done.\n",
      "MoviePy - Writing video example_20241106q2.mp4\n",
      "\n"
     ]
    },
    {
     "name": "stderr",
     "output_type": "stream",
     "text": [
      "                                                                        \r"
     ]
    },
    {
     "name": "stdout",
     "output_type": "stream",
     "text": [
      "MoviePy - Done !\n",
      "MoviePy - video ready example_20241106q2.mp4\n",
      "MoviePy - Building video example_20241106q3.mp4.\n",
      "MoviePy - Writing audio in example_20241106q3TEMP_MPY_wvf_snd.mp3\n"
     ]
    },
    {
     "name": "stderr",
     "output_type": "stream",
     "text": [
      "                                                                   \r"
     ]
    },
    {
     "name": "stdout",
     "output_type": "stream",
     "text": [
      "MoviePy - Done.\n",
      "MoviePy - Writing video example_20241106q3.mp4\n",
      "\n"
     ]
    },
    {
     "name": "stderr",
     "output_type": "stream",
     "text": [
      "                                                                        \r"
     ]
    },
    {
     "name": "stdout",
     "output_type": "stream",
     "text": [
      "MoviePy - Done !\n",
      "MoviePy - video ready example_20241106q3.mp4\n",
      "MoviePy - Building video example_20241106q4.mp4.\n",
      "MoviePy - Writing audio in example_20241106q4TEMP_MPY_wvf_snd.mp3\n"
     ]
    },
    {
     "name": "stderr",
     "output_type": "stream",
     "text": [
      "                                                                   \r"
     ]
    },
    {
     "name": "stdout",
     "output_type": "stream",
     "text": [
      "MoviePy - Done.\n",
      "MoviePy - Writing video example_20241106q4.mp4\n",
      "\n"
     ]
    },
    {
     "name": "stderr",
     "output_type": "stream",
     "text": [
      "                                                                        \r"
     ]
    },
    {
     "name": "stdout",
     "output_type": "stream",
     "text": [
      "MoviePy - Done !\n",
      "MoviePy - video ready example_20241106q4.mp4\n",
      "MoviePy - Building video example_20241108q1.mp4.\n",
      "MoviePy - Writing audio in example_20241108q1TEMP_MPY_wvf_snd.mp3\n"
     ]
    },
    {
     "name": "stderr",
     "output_type": "stream",
     "text": [
      "                                                                    \r"
     ]
    },
    {
     "name": "stdout",
     "output_type": "stream",
     "text": [
      "MoviePy - Done.\n",
      "MoviePy - Writing video example_20241108q1.mp4\n",
      "\n"
     ]
    },
    {
     "name": "stderr",
     "output_type": "stream",
     "text": [
      "                                                                          \r"
     ]
    },
    {
     "name": "stdout",
     "output_type": "stream",
     "text": [
      "MoviePy - Done !\n",
      "MoviePy - video ready example_20241108q1.mp4\n",
      "MoviePy - Building video example_20241108q2.mp4.\n",
      "MoviePy - Writing audio in example_20241108q2TEMP_MPY_wvf_snd.mp3\n"
     ]
    },
    {
     "name": "stderr",
     "output_type": "stream",
     "text": [
      "                                                                    \r"
     ]
    },
    {
     "name": "stdout",
     "output_type": "stream",
     "text": [
      "MoviePy - Done.\n",
      "MoviePy - Writing video example_20241108q2.mp4\n",
      "\n"
     ]
    },
    {
     "name": "stderr",
     "output_type": "stream",
     "text": [
      "                                                                        \r"
     ]
    },
    {
     "name": "stdout",
     "output_type": "stream",
     "text": [
      "MoviePy - Done !\n",
      "MoviePy - video ready example_20241108q2.mp4\n",
      "MoviePy - Building video example_20241108q3.mp4.\n",
      "MoviePy - Writing audio in example_20241108q3TEMP_MPY_wvf_snd.mp3\n"
     ]
    },
    {
     "name": "stderr",
     "output_type": "stream",
     "text": [
      "                                                                    \r"
     ]
    },
    {
     "name": "stdout",
     "output_type": "stream",
     "text": [
      "MoviePy - Done.\n",
      "MoviePy - Writing video example_20241108q3.mp4\n",
      "\n"
     ]
    },
    {
     "name": "stderr",
     "output_type": "stream",
     "text": [
      "                                                                        \r"
     ]
    },
    {
     "name": "stdout",
     "output_type": "stream",
     "text": [
      "MoviePy - Done !\n",
      "MoviePy - video ready example_20241108q3.mp4\n",
      "MoviePy - Building video example_20241108q4.mp4.\n",
      "MoviePy - Writing audio in example_20241108q4TEMP_MPY_wvf_snd.mp3\n"
     ]
    },
    {
     "name": "stderr",
     "output_type": "stream",
     "text": [
      "                                                                      \r"
     ]
    },
    {
     "name": "stdout",
     "output_type": "stream",
     "text": [
      "MoviePy - Done.\n",
      "MoviePy - Writing video example_20241108q4.mp4\n",
      "\n"
     ]
    },
    {
     "name": "stderr",
     "output_type": "stream",
     "text": [
      "                                                                          "
     ]
    },
    {
     "name": "stdout",
     "output_type": "stream",
     "text": [
      "MoviePy - Done !\n",
      "MoviePy - video ready example_20241108q4.mp4\n"
     ]
    },
    {
     "name": "stderr",
     "output_type": "stream",
     "text": [
      "\r"
     ]
    }
   ],
   "source": [
    "make_video(\n",
    "    video_urls=trae_young_assists_urls,\n",
    "    base_name=\"example\",\n",
    "    fps=30,\n",
    "    preset=\"ultrafast\",\n",
    "    segment=\"Quarter\"\n",
    ")"
   ]
  },
  {
   "cell_type": "code",
   "execution_count": 8,
   "id": "98032fcf",
   "metadata": {},
   "outputs": [
    {
     "data": {
      "text/html": [
       "<video src=\"example_20241101q1.mp4\" controls  >\n",
       "      Your browser does not support the <code>video</code> element.\n",
       "    </video>"
      ],
      "text/plain": [
       "<IPython.core.display.Video object>"
      ]
     },
     "execution_count": 8,
     "metadata": {},
     "output_type": "execute_result"
    }
   ],
   "source": [
    "Video(\"example_20241101q1.mp4\")"
   ]
  },
  {
   "cell_type": "code",
   "execution_count": 9,
   "id": "157a0618",
   "metadata": {},
   "outputs": [
    {
     "data": {
      "text/html": [
       "<video src=\"example_20241101q2.mp4\" controls  >\n",
       "      Your browser does not support the <code>video</code> element.\n",
       "    </video>"
      ],
      "text/plain": [
       "<IPython.core.display.Video object>"
      ]
     },
     "execution_count": 9,
     "metadata": {},
     "output_type": "execute_result"
    }
   ],
   "source": [
    "Video(\"example_20241101q2.mp4\")"
   ]
  },
  {
   "cell_type": "code",
   "execution_count": 10,
   "id": "4d009126",
   "metadata": {},
   "outputs": [
    {
     "data": {
      "text/html": [
       "<video src=\"example_20241101q3.mp4\" controls  >\n",
       "      Your browser does not support the <code>video</code> element.\n",
       "    </video>"
      ],
      "text/plain": [
       "<IPython.core.display.Video object>"
      ]
     },
     "execution_count": 10,
     "metadata": {},
     "output_type": "execute_result"
    }
   ],
   "source": [
    "Video(\"example_20241101q3.mp4\")"
   ]
  },
  {
   "cell_type": "code",
   "execution_count": 11,
   "id": "5816bad7",
   "metadata": {},
   "outputs": [
    {
     "data": {
      "text/html": [
       "<video src=\"example_20241101q4.mp4\" controls  >\n",
       "      Your browser does not support the <code>video</code> element.\n",
       "    </video>"
      ],
      "text/plain": [
       "<IPython.core.display.Video object>"
      ]
     },
     "execution_count": 11,
     "metadata": {},
     "output_type": "execute_result"
    }
   ],
   "source": [
    "Video(\"example_20241101q4.mp4\")"
   ]
  },
  {
   "cell_type": "code",
   "execution_count": 12,
   "id": "6f207874",
   "metadata": {},
   "outputs": [
    {
     "data": {
      "text/html": [
       "<video src=\"example_20241103q1.mp4\" controls  >\n",
       "      Your browser does not support the <code>video</code> element.\n",
       "    </video>"
      ],
      "text/plain": [
       "<IPython.core.display.Video object>"
      ]
     },
     "execution_count": 12,
     "metadata": {},
     "output_type": "execute_result"
    }
   ],
   "source": [
    "Video(\"example_20241103q1.mp4\")"
   ]
  },
  {
   "cell_type": "code",
   "execution_count": 13,
   "id": "a67be983",
   "metadata": {},
   "outputs": [
    {
     "data": {
      "text/html": [
       "<video src=\"example_20241103q2.mp4\" controls  >\n",
       "      Your browser does not support the <code>video</code> element.\n",
       "    </video>"
      ],
      "text/plain": [
       "<IPython.core.display.Video object>"
      ]
     },
     "execution_count": 13,
     "metadata": {},
     "output_type": "execute_result"
    }
   ],
   "source": [
    "Video(\"example_20241103q2.mp4\")"
   ]
  },
  {
   "cell_type": "code",
   "execution_count": 14,
   "id": "c47b912b",
   "metadata": {},
   "outputs": [
    {
     "data": {
      "text/html": [
       "<video src=\"example_20241103q3.mp4\" controls  >\n",
       "      Your browser does not support the <code>video</code> element.\n",
       "    </video>"
      ],
      "text/plain": [
       "<IPython.core.display.Video object>"
      ]
     },
     "execution_count": 14,
     "metadata": {},
     "output_type": "execute_result"
    }
   ],
   "source": [
    "Video(\"example_20241103q3.mp4\")"
   ]
  },
  {
   "cell_type": "code",
   "execution_count": 15,
   "id": "09762221",
   "metadata": {},
   "outputs": [
    {
     "data": {
      "text/html": [
       "<video src=\"example_20241103q4.mp4\" controls  >\n",
       "      Your browser does not support the <code>video</code> element.\n",
       "    </video>"
      ],
      "text/plain": [
       "<IPython.core.display.Video object>"
      ]
     },
     "execution_count": 15,
     "metadata": {},
     "output_type": "execute_result"
    }
   ],
   "source": [
    "Video(\"example_20241103q4.mp4\")"
   ]
  },
  {
   "cell_type": "code",
   "execution_count": 16,
   "id": "0da85c24",
   "metadata": {},
   "outputs": [
    {
     "data": {
      "text/html": [
       "<video src=\"example_20241104q1.mp4\" controls  >\n",
       "      Your browser does not support the <code>video</code> element.\n",
       "    </video>"
      ],
      "text/plain": [
       "<IPython.core.display.Video object>"
      ]
     },
     "execution_count": 16,
     "metadata": {},
     "output_type": "execute_result"
    }
   ],
   "source": [
    "Video(\"example_20241104q1.mp4\")"
   ]
  },
  {
   "cell_type": "code",
   "execution_count": 17,
   "id": "33d9260c",
   "metadata": {},
   "outputs": [
    {
     "data": {
      "text/html": [
       "<video src=\"example_20241104q2.mp4\" controls  >\n",
       "      Your browser does not support the <code>video</code> element.\n",
       "    </video>"
      ],
      "text/plain": [
       "<IPython.core.display.Video object>"
      ]
     },
     "execution_count": 17,
     "metadata": {},
     "output_type": "execute_result"
    }
   ],
   "source": [
    "Video(\"example_20241104q2.mp4\")"
   ]
  },
  {
   "cell_type": "code",
   "execution_count": 18,
   "id": "25f82aab",
   "metadata": {},
   "outputs": [
    {
     "data": {
      "text/html": [
       "<video src=\"example_20241104q3.mp4\" controls  >\n",
       "      Your browser does not support the <code>video</code> element.\n",
       "    </video>"
      ],
      "text/plain": [
       "<IPython.core.display.Video object>"
      ]
     },
     "execution_count": 18,
     "metadata": {},
     "output_type": "execute_result"
    }
   ],
   "source": [
    "Video(\"example_20241104q3.mp4\")"
   ]
  },
  {
   "cell_type": "code",
   "execution_count": 19,
   "id": "39a3cc33",
   "metadata": {},
   "outputs": [
    {
     "data": {
      "text/html": [
       "<video src=\"example_20241106q1.mp4\" controls  >\n",
       "      Your browser does not support the <code>video</code> element.\n",
       "    </video>"
      ],
      "text/plain": [
       "<IPython.core.display.Video object>"
      ]
     },
     "execution_count": 19,
     "metadata": {},
     "output_type": "execute_result"
    }
   ],
   "source": [
    "Video(\"example_20241106q1.mp4\")"
   ]
  },
  {
   "cell_type": "code",
   "execution_count": 20,
   "id": "faf0711f",
   "metadata": {},
   "outputs": [
    {
     "data": {
      "text/html": [
       "<video src=\"example_20241106q2.mp4\" controls  >\n",
       "      Your browser does not support the <code>video</code> element.\n",
       "    </video>"
      ],
      "text/plain": [
       "<IPython.core.display.Video object>"
      ]
     },
     "execution_count": 20,
     "metadata": {},
     "output_type": "execute_result"
    }
   ],
   "source": [
    "Video(\"example_20241106q2.mp4\")"
   ]
  },
  {
   "cell_type": "code",
   "execution_count": 21,
   "id": "76047239",
   "metadata": {},
   "outputs": [
    {
     "data": {
      "text/html": [
       "<video src=\"example_20241106q3.mp4\" controls  >\n",
       "      Your browser does not support the <code>video</code> element.\n",
       "    </video>"
      ],
      "text/plain": [
       "<IPython.core.display.Video object>"
      ]
     },
     "execution_count": 21,
     "metadata": {},
     "output_type": "execute_result"
    }
   ],
   "source": [
    "Video(\"example_20241106q3.mp4\")"
   ]
  },
  {
   "cell_type": "code",
   "execution_count": 22,
   "id": "6240a88b",
   "metadata": {},
   "outputs": [
    {
     "data": {
      "text/html": [
       "<video src=\"example_20241106q4.mp4\" controls  >\n",
       "      Your browser does not support the <code>video</code> element.\n",
       "    </video>"
      ],
      "text/plain": [
       "<IPython.core.display.Video object>"
      ]
     },
     "execution_count": 22,
     "metadata": {},
     "output_type": "execute_result"
    }
   ],
   "source": [
    "Video(\"example_20241106q4.mp4\")"
   ]
  },
  {
   "cell_type": "code",
   "execution_count": 23,
   "id": "cb0f7553",
   "metadata": {},
   "outputs": [
    {
     "data": {
      "text/html": [
       "<video src=\"example_20241108q1.mp4\" controls  >\n",
       "      Your browser does not support the <code>video</code> element.\n",
       "    </video>"
      ],
      "text/plain": [
       "<IPython.core.display.Video object>"
      ]
     },
     "execution_count": 23,
     "metadata": {},
     "output_type": "execute_result"
    }
   ],
   "source": [
    "Video(\"example_20241108q1.mp4\")"
   ]
  },
  {
   "cell_type": "code",
   "execution_count": 24,
   "id": "b7263788",
   "metadata": {},
   "outputs": [
    {
     "data": {
      "text/html": [
       "<video src=\"example_20241108q2.mp4\" controls  >\n",
       "      Your browser does not support the <code>video</code> element.\n",
       "    </video>"
      ],
      "text/plain": [
       "<IPython.core.display.Video object>"
      ]
     },
     "execution_count": 24,
     "metadata": {},
     "output_type": "execute_result"
    }
   ],
   "source": [
    "Video(\"example_20241108q2.mp4\")"
   ]
  },
  {
   "cell_type": "code",
   "execution_count": 25,
   "id": "417a2559",
   "metadata": {},
   "outputs": [
    {
     "data": {
      "text/html": [
       "<video src=\"example_20241108q3.mp4\" controls  >\n",
       "      Your browser does not support the <code>video</code> element.\n",
       "    </video>"
      ],
      "text/plain": [
       "<IPython.core.display.Video object>"
      ]
     },
     "execution_count": 25,
     "metadata": {},
     "output_type": "execute_result"
    }
   ],
   "source": [
    "Video(\"example_20241108q3.mp4\")"
   ]
  },
  {
   "cell_type": "code",
   "execution_count": 26,
   "id": "d2633507",
   "metadata": {},
   "outputs": [
    {
     "data": {
      "text/html": [
       "<video src=\"example_20241108q4.mp4\" controls  >\n",
       "      Your browser does not support the <code>video</code> element.\n",
       "    </video>"
      ],
      "text/plain": [
       "<IPython.core.display.Video object>"
      ]
     },
     "execution_count": 26,
     "metadata": {},
     "output_type": "execute_result"
    }
   ],
   "source": [
    "Video(\"example_20241108q4.mp4\")"
   ]
  },
  {
   "cell_type": "markdown",
   "id": "fd741f0b",
   "metadata": {},
   "source": [
    "# Another Simple Example"
   ]
  },
  {
   "cell_type": "markdown",
   "id": "28c33b61",
   "metadata": {},
   "source": [
    "Victor Wembanyama All STOCKS and Fouls in last week of January."
   ]
  },
  {
   "cell_type": "code",
   "execution_count": 5,
   "id": "0836b6d5",
   "metadata": {},
   "outputs": [
    {
     "name": "stdout",
     "output_type": "stream",
     "text": [
      "https://www.nba.com/game/sas-vs-ind-0022400621/box-score#box-score\n",
      "[1] Video URL: https://videos.nba.com/nba/pbp/media/2025/01/23/0022400621/20/a26a5737-ab0a-9a98-0fe6-95010be6ee99_1280x720.mp4\n",
      "[2] Video URL: https://videos.nba.com/nba/pbp/media/2025/01/23/0022400621/24/6e706451-3fdb-ae5a-15ef-eae48f454a18_1280x720.mp4\n",
      "[3] Video URL: https://videos.nba.com/nba/pbp/media/2025/01/23/0022400621/30/5c8ae942-405d-ff76-85a9-9e07ca1e74dc_1280x720.mp4\n",
      "[4] Video URL: https://videos.nba.com/nba/pbp/media/2025/01/23/0022400621/145/b85ed767-5e40-004e-5630-f16f05ff4aeb_1280x720.mp4\n",
      "[5] Video URL: https://videos.nba.com/nba/pbp/media/2025/01/23/0022400621/177/a91874a0-d8ed-dec6-8afe-14bdbc7fdaf5_1280x720.mp4\n",
      "[6] Video URL: https://videos.nba.com/nba/pbp/media/2025/01/23/0022400621/342/093c52a7-7a94-53e0-c302-c4e26200460e_1280x720.mp4\n",
      "[7] Video URL: https://videos.nba.com/nba/pbp/media/2025/01/23/0022400621/356/dc5118b0-af08-224f-3654-93d6f31c7bc5_1280x720.mp4\n",
      "[8] Video URL: https://videos.nba.com/nba/pbp/media/2025/01/23/0022400621/367/ecd6e25f-9c09-fca2-8a23-864773bf3ceb_1280x720.mp4\n",
      "[9] Video URL: https://videos.nba.com/nba/pbp/media/2025/01/23/0022400621/462/15201e68-3da1-fbe9-7d16-213368ab4e1c_1280x720.mp4\n",
      "[10] Video URL: https://videos.nba.com/nba/pbp/media/2025/01/23/0022400621/481/b5899e95-fe60-9395-9037-3461bf1a7f94_1280x720.mp4\n",
      "[1] Video URL: https://videos.nba.com/nba/pbp/media/2025/01/23/0022400621/574/2bb166bc-e185-9bee-19d1-5b1de1813166_1280x720.mp4\n",
      "[1] Video URL: https://videos.nba.com/nba/pbp/media/2025/01/23/0022400621/14/a01baffe-9c9d-55ff-e750-e92a65f31593_1280x720.mp4\n",
      "[2] Video URL: https://videos.nba.com/nba/pbp/media/2025/01/23/0022400621/365/0f122860-677d-face-1188-250ca4b7a7c4_1280x720.mp4\n",
      "[3] Video URL: https://videos.nba.com/nba/pbp/media/2025/01/23/0022400621/460/567826af-fce0-9812-975c-d6da52993770_1280x720.mp4\n",
      "[5] Video URL: https://videos.nba.com/nba/pbp/media/2025/01/23/0022400621/470/904c4b04-e590-1708-3ab4-64eb8ee9045f_1280x720.mp4\n",
      "https://www.espn.com/nba/playbyplay/_/gameId/401705187\n",
      "\n",
      "https://www.nba.com/game/ind-vs-sas-0022400633/box-score#box-score\n",
      "[1] Video URL: https://videos.nba.com/nba/pbp/media/2025/01/25/0022400633/162/68d47750-78e9-ca95-6d16-3ed081a74709_1280x720.mp4\n",
      "[2] Video URL: https://videos.nba.com/nba/pbp/media/2025/01/25/0022400633/210/a6c60885-0b2d-41a2-fb71-067c28fae8af_1280x720.mp4\n",
      "[3] Video URL: https://videos.nba.com/nba/pbp/media/2025/01/25/0022400633/237/ec4605e4-2da4-578d-e79c-20167282b42c_1280x720.mp4\n",
      "[4] Video URL: https://videos.nba.com/nba/pbp/media/2025/01/25/0022400633/345/96032441-62ba-508c-8e14-bb7c6e2f826e_1280x720.mp4\n",
      "[5] Video URL: https://videos.nba.com/nba/pbp/media/2025/01/25/0022400633/354/b9aca960-62de-f2b6-222f-74f798dd70bc_1280x720.mp4\n",
      "[6] Video URL: https://videos.nba.com/nba/pbp/media/2025/01/25/0022400633/368/01379f9f-e788-c119-82b2-e2dd9bfbe072_1280x720.mp4\n",
      "[7] Video URL: https://videos.nba.com/nba/pbp/media/2025/01/25/0022400633/374/981a5ab2-f86a-2962-9c9d-a618b3363ae6_1280x720.mp4\n",
      "[8] Video URL: https://videos.nba.com/nba/pbp/media/2025/01/25/0022400633/441/b1b7b982-3ced-3a9a-db2f-4eba0b1c6505_1280x720.mp4\n",
      "[9] Video URL: https://videos.nba.com/nba/pbp/media/2025/01/25/0022400633/451/fa0c0021-bff2-6060-bcf5-0a8856f0d113_1280x720.mp4\n",
      "[10] Video URL: https://videos.nba.com/nba/pbp/media/2025/01/25/0022400633/464/6dcbd7a0-a123-0b81-a357-cec811dcc51b_1280x720.mp4\n",
      "[11] Video URL: https://videos.nba.com/nba/pbp/media/2025/01/25/0022400633/647/c19947d4-2c88-e7bf-b6f4-e3d987c85231_1280x720.mp4\n",
      "[1] Video URL: https://videos.nba.com/nba/pbp/media/2025/01/25/0022400633/181/99c6076c-1a13-2403-089d-5a9c9096875e_1280x720.mp4\n",
      "[2] Video URL: https://videos.nba.com/nba/pbp/media/2025/01/25/0022400633/181/99c6076c-1a13-2403-089d-5a9c9096875e_1280x720.mp4\n",
      "[1] Video URL: https://videos.nba.com/nba/pbp/media/2025/01/25/0022400633/173/da95121d-92d2-0ae7-3fab-9073951b54b3_1280x720.mp4\n",
      "https://www.espn.com/nba/playbyplay/_/gameId/401705199\n",
      "[1] Video URL: https://videos.nba.com/nba/pbp/media/2025/01/25/0022400633/407/e3bd49a8-54c9-642b-ffae-0c549883721c_1280x720.mp4\n",
      "\n",
      "https://www.nba.com/game/lac-vs-sas-0022400671/box-score#box-score\n",
      "[1] Video URL: https://videos.nba.com/nba/pbp/media/2025/01/29/0022400671/44/3a9c4062-ae88-b606-e1ce-152ab8bce12d_1280x720.mp4\n",
      "[2] Video URL: https://videos.nba.com/nba/pbp/media/2025/01/29/0022400671/129/f969fed0-468c-49ab-1352-ab62ef1c9ae0_1280x720.mp4\n",
      "[3] Video URL: https://videos.nba.com/nba/pbp/media/2025/01/29/0022400671/194/5499c4ad-2d28-3867-2662-ca864f51db28_1280x720.mp4\n",
      "[4] Video URL: https://videos.nba.com/nba/pbp/media/2025/01/29/0022400671/227/e38363b7-d30a-8d62-5554-664bd5938c9c_1280x720.mp4\n",
      "[5] Video URL: https://videos.nba.com/nba/pbp/media/2025/01/29/0022400671/393/649c6c88-b11a-4d97-ab60-2da5e849ba2b_1280x720.mp4\n",
      "[6] Video URL: https://videos.nba.com/nba/pbp/media/2025/01/29/0022400671/408/5a90412c-52fd-25f4-f263-b2c4356be506_1280x720.mp4\n",
      "[7] Video URL: https://videos.nba.com/nba/pbp/media/2025/01/29/0022400671/412/4ad65176-b044-4e0c-6bcb-9ed54a9b688b_1280x720.mp4\n",
      "[8] Video URL: https://videos.nba.com/nba/pbp/media/2025/01/29/0022400671/449/76d0bd72-701c-26b1-26b0-e845cc2236da_1280x720.mp4\n",
      "[9] Video URL: https://videos.nba.com/nba/pbp/media/2025/01/29/0022400671/556/76fc366e-d7f8-2cdc-52ec-1b59e9340c4b_1280x720.mp4\n",
      "[10] Video URL: https://videos.nba.com/nba/pbp/media/2025/01/29/0022400671/560/d968cbba-254a-d36c-ad77-ed625a31a649_1280x720.mp4\n",
      "[11] Video URL: https://videos.nba.com/nba/pbp/media/2025/01/29/0022400671/577/ade39aff-38a1-be9d-422c-bb0394d6a209_1280x720.mp4\n",
      "[1] Video URL: https://videos.nba.com/nba/pbp/media/2025/01/29/0022400671/16/b005dca2-1b3c-0b9f-91ea-3dff58fb8e98_1280x720.mp4\n",
      "[2] Video URL: https://videos.nba.com/nba/pbp/media/2025/01/29/0022400671/173/003a191e-e98b-aead-461b-14f0b84387a4_1280x720.mp4\n",
      "[1] Video URL: https://videos.nba.com/nba/pbp/media/2025/01/29/0022400671/9/3e49532c-afd0-643e-87a2-302e58691d70_1280x720.mp4\n",
      "[2] Video URL: https://videos.nba.com/nba/pbp/media/2025/01/29/0022400671/419/d633dc38-31ac-5606-b656-a943c0fc00a4_1280x720.mp4\n",
      "[3] Video URL: https://videos.nba.com/nba/pbp/media/2025/01/29/0022400671/424/a57f6fb7-da1c-c6ac-ffe4-4f95ffc227d1_1280x720.mp4\n",
      "https://www.espn.com/nba/playbyplay/_/gameId/401705237\n",
      "[1] Video URL: https://videos.nba.com/nba/pbp/media/2025/01/29/0022400671/14/10cb0ec9-7586-e2a2-75c0-f532fdfeb07b_1280x720.mp4\n",
      "[2] Video URL: https://videos.nba.com/nba/pbp/media/2025/01/29/0022400671/190/9669f25f-b399-51f8-9a9f-4d18b2840695_1280x720.mp4\n",
      "[3] Video URL: https://videos.nba.com/nba/pbp/media/2025/01/29/0022400671/376/f78e93ee-bc88-393c-86f1-f20e77024171_1280x720.mp4\n",
      "[4] Video URL: https://videos.nba.com/nba/pbp/media/2025/01/29/0022400671/585/c05e8661-097d-f423-951c-3bedc98b336b_1280x720.mp4\n",
      "[5] Video URL: https://videos.nba.com/nba/pbp/media/2025/01/29/0022400671/601/467b9c6d-1ec7-8231-5e9a-cc4553c8bcfb_1280x720.mp4\n",
      "\n",
      "https://www.nba.com/game/mil-vs-sas-0022400684/box-score#box-score\n",
      "[1] Video URL: https://videos.nba.com/nba/pbp/media/2025/01/31/0022400684/21/7c21dd2b-48c2-a17a-2a61-87801f931563_1280x720.mp4\n",
      "[2] Video URL: https://videos.nba.com/nba/pbp/media/2025/01/31/0022400684/32/fe9cd130-7da9-0f1e-0de4-7066900dd328_1280x720.mp4\n",
      "[3] Video URL: https://videos.nba.com/nba/pbp/media/2025/01/31/0022400684/71/d768c986-a3da-baed-5a06-e0550a378a31_1280x720.mp4\n",
      "[4] Video URL: https://videos.nba.com/nba/pbp/media/2025/01/31/0022400684/150/2984aabe-0325-c9ea-54fe-1374bb2a56bf_1280x720.mp4\n",
      "[5] Video URL: https://videos.nba.com/nba/pbp/media/2025/01/31/0022400684/268/649e9e0d-90d0-2b95-10a6-775615740e5d_1280x720.mp4\n",
      "[6] Video URL: https://videos.nba.com/nba/pbp/media/2025/01/31/0022400684/296/cedbbeba-965d-07b9-afbf-554b72ad990f_1280x720.mp4\n",
      "[7] Video URL: https://videos.nba.com/nba/pbp/media/2025/01/31/0022400684/370/742c1f2f-9994-7686-5782-28150cd0f888_1280x720.mp4\n",
      "[8] Video URL: https://videos.nba.com/nba/pbp/media/2025/01/31/0022400684/423/cbda5f7d-0f9c-e723-d568-735f07828a7f_1280x720.mp4\n",
      "[9] Video URL: https://videos.nba.com/nba/pbp/media/2025/01/31/0022400684/484/279347d1-002b-7a71-43a6-2efdeeed8ff2_1280x720.mp4\n",
      "[10] Video URL: https://videos.nba.com/nba/pbp/media/2025/01/31/0022400684/593/f9b1f71a-f9b8-2e9c-8164-3dc536498395_1280x720.mp4\n",
      "[11] Video URL: https://videos.nba.com/nba/pbp/media/2025/01/31/0022400684/623/4db9d5c9-6e0c-e703-34a7-ce124a281ed8_1280x720.mp4\n",
      "[12] Video URL: https://videos.nba.com/nba/pbp/media/2025/01/31/0022400684/630/6c7ae4e6-63b6-ffd5-f147-5fc1e3356044_1280x720.mp4\n",
      "[1] Video URL: https://videos.nba.com/nba/pbp/media/2025/01/31/0022400684/19/55573d75-ffea-65e5-4a68-695711a36a8e_1280x720.mp4\n",
      "[2] Video URL: https://videos.nba.com/nba/pbp/media/2025/01/31/0022400684/24/1a2d5819-8148-0ff9-42bc-48c934a94ff1_1280x720.mp4\n",
      "[3] Video URL: https://videos.nba.com/nba/pbp/media/2025/01/31/0022400684/133/1d28d79e-deed-abcd-3f26-f202b15edbad_1280x720.mp4\n",
      "[4] Video URL: https://videos.nba.com/nba/pbp/media/2025/01/31/0022400684/327/7945b79d-38c1-1419-1a77-9cb388c4804d_1280x720.mp4\n",
      "[5] Video URL: https://videos.nba.com/nba/pbp/media/2025/01/31/0022400684/422/e9f7d794-9f89-82a4-36a8-8031b7406d68_1280x720.mp4\n",
      "[6] Video URL: https://videos.nba.com/nba/pbp/media/2025/01/31/0022400684/428/3aea5b08-d320-39a3-c88a-35ca7ae07151_1280x720.mp4\n",
      "https://www.espn.com/nba/playbyplay/_/gameId/401705250\n",
      "[1] Video URL: https://videos.nba.com/nba/pbp/media/2025/01/31/0022400684/98/ede99f4b-a747-7c08-639c-2c6c5c66180e_1280x720.mp4\n",
      "[2] Video URL: https://videos.nba.com/nba/pbp/media/2025/01/31/0022400684/501/b740dec1-b365-76eb-1559-98851690a9e1_1280x720.mp4\n",
      "[3] Video URL: https://videos.nba.com/nba/pbp/media/2025/01/31/0022400684/614/b9b7c610-f00a-7a35-6f5f-57196c2cb2fa_1280x720.mp4\n",
      "\n"
     ]
    }
   ],
   "source": [
    "wemby_stocks_urls = generate_video(\n",
    "    player_name=\"Victor Wembanyama\", date_start=\"2025-01-23\", date_end=\"2025-01-31\", team=\"sas\",\n",
    "    FGM=False, FGA=False, ThreePM=False, ThreePA=False, OREB=False, DREB=True,\n",
    "    REB=False, AST=False, STL=True, BLK=True, TO=False, PF=True\n",
    ")"
   ]
  },
  {
   "cell_type": "code",
   "execution_count": 6,
   "id": "cd1ac8fe",
   "metadata": {},
   "outputs": [
    {
     "data": {
      "text/plain": [
       "{'2025-01-23': [('https://videos.nba.com/nba/pbp/media/2025/01/23/0022400621/14/a01baffe-9c9d-55ff-e750-e92a65f31593_1280x720.mp4',\n",
       "   \"MISS Turner 4' Driving Dunk\",\n",
       "   '1',\n",
       "   '10:27'),\n",
       "  ('https://videos.nba.com/nba/pbp/media/2025/01/23/0022400621/20/a26a5737-ab0a-9a98-0fe6-95010be6ee99_1280x720.mp4',\n",
       "   'Wembanyama REBOUND (Off:0 Def:1)',\n",
       "   '1',\n",
       "   '10:03'),\n",
       "  ('https://videos.nba.com/nba/pbp/media/2025/01/23/0022400621/24/6e706451-3fdb-ae5a-15ef-eae48f454a18_1280x720.mp4',\n",
       "   'Wembanyama REBOUND (Off:0 Def:2)',\n",
       "   '1',\n",
       "   '9:30'),\n",
       "  ('https://videos.nba.com/nba/pbp/media/2025/01/23/0022400621/30/5c8ae942-405d-ff76-85a9-9e07ca1e74dc_1280x720.mp4',\n",
       "   'Wembanyama REBOUND (Off:0 Def:3)',\n",
       "   '1',\n",
       "   '8:39'),\n",
       "  ('https://videos.nba.com/nba/pbp/media/2025/01/23/0022400621/145/b85ed767-5e40-004e-5630-f16f05ff4aeb_1280x720.mp4',\n",
       "   'Wembanyama REBOUND (Off:0 Def:4)',\n",
       "   '1',\n",
       "   '0:51'),\n",
       "  ('https://videos.nba.com/nba/pbp/media/2025/01/23/0022400621/177/a91874a0-d8ed-dec6-8afe-14bdbc7fdaf5_1280x720.mp4',\n",
       "   'Wembanyama REBOUND (Off:0 Def:5)',\n",
       "   '2',\n",
       "   '11:31'),\n",
       "  ('https://videos.nba.com/nba/pbp/media/2025/01/23/0022400621/342/093c52a7-7a94-53e0-c302-c4e26200460e_1280x720.mp4',\n",
       "   'Wembanyama REBOUND (Off:0 Def:6)',\n",
       "   '3',\n",
       "   '10:06'),\n",
       "  ('https://videos.nba.com/nba/pbp/media/2025/01/23/0022400621/356/dc5118b0-af08-224f-3654-93d6f31c7bc5_1280x720.mp4',\n",
       "   'Wembanyama REBOUND (Off:0 Def:7)',\n",
       "   '3',\n",
       "   '9:28'),\n",
       "  ('https://videos.nba.com/nba/pbp/media/2025/01/23/0022400621/365/0f122860-677d-face-1188-250ca4b7a7c4_1280x720.mp4',\n",
       "   \"MISS Turner 5' Layup\",\n",
       "   '3',\n",
       "   '8:35'),\n",
       "  ('https://videos.nba.com/nba/pbp/media/2025/01/23/0022400621/367/ecd6e25f-9c09-fca2-8a23-864773bf3ceb_1280x720.mp4',\n",
       "   'Wembanyama REBOUND (Off:0 Def:8)',\n",
       "   '3',\n",
       "   '8:34'),\n",
       "  ('https://videos.nba.com/nba/pbp/media/2025/01/23/0022400621/460/567826af-fce0-9812-975c-d6da52993770_1280x720.mp4',\n",
       "   \"MISS Sheppard 4' Driving Layup\",\n",
       "   '3',\n",
       "   '2:07'),\n",
       "  ('https://videos.nba.com/nba/pbp/media/2025/01/23/0022400621/462/15201e68-3da1-fbe9-7d16-213368ab4e1c_1280x720.mp4',\n",
       "   'Wembanyama REBOUND (Off:0 Def:9)',\n",
       "   '3',\n",
       "   '2:06'),\n",
       "  ('https://videos.nba.com/nba/pbp/media/2025/01/23/0022400621/470/904c4b04-e590-1708-3ab4-64eb8ee9045f_1280x720.mp4',\n",
       "   \"MISS Nesmith 9' Driving Layup\",\n",
       "   '3',\n",
       "   '1:08'),\n",
       "  ('https://videos.nba.com/nba/pbp/media/2025/01/23/0022400621/481/b5899e95-fe60-9395-9037-3461bf1a7f94_1280x720.mp4',\n",
       "   'Wembanyama REBOUND (Off:0 Def:10)',\n",
       "   '3',\n",
       "   '0:13'),\n",
       "  ('https://videos.nba.com/nba/pbp/media/2025/01/23/0022400621/574/2bb166bc-e185-9bee-19d1-5b1de1813166_1280x720.mp4',\n",
       "   'Siakam Bad Pass Turnover (P2.T6)',\n",
       "   '4',\n",
       "   '6:36')],\n",
       " '2025-01-25': [('https://videos.nba.com/nba/pbp/media/2025/01/25/0022400633/162/68d47750-78e9-ca95-6d16-3ed081a74709_1280x720.mp4',\n",
       "   'Wembanyama REBOUND (Off:0 Def:1)',\n",
       "   '2',\n",
       "   '11:36'),\n",
       "  ('https://videos.nba.com/nba/pbp/media/2025/01/25/0022400633/173/da95121d-92d2-0ae7-3fab-9073951b54b3_1280x720.mp4',\n",
       "   'Wembanyama BLOCK (1 BLK)',\n",
       "   '2',\n",
       "   '10:03'),\n",
       "  ('https://videos.nba.com/nba/pbp/media/2025/01/25/0022400633/181/99c6076c-1a13-2403-089d-5a9c9096875e_1280x720.mp4',\n",
       "   'Wembanyama STEAL (1 STL)',\n",
       "   '2',\n",
       "   '9:35'),\n",
       "  ('https://videos.nba.com/nba/pbp/media/2025/01/25/0022400633/210/a6c60885-0b2d-41a2-fb71-067c28fae8af_1280x720.mp4',\n",
       "   'Wembanyama REBOUND (Off:0 Def:2)',\n",
       "   '2',\n",
       "   '8:00'),\n",
       "  ('https://videos.nba.com/nba/pbp/media/2025/01/25/0022400633/237/ec4605e4-2da4-578d-e79c-20167282b42c_1280x720.mp4',\n",
       "   'Wembanyama REBOUND (Off:1 Def:3)',\n",
       "   '2',\n",
       "   '5:51'),\n",
       "  ('https://videos.nba.com/nba/pbp/media/2025/01/25/0022400633/345/96032441-62ba-508c-8e14-bb7c6e2f826e_1280x720.mp4',\n",
       "   'Wembanyama REBOUND (Off:1 Def:4)',\n",
       "   '3',\n",
       "   '11:01'),\n",
       "  ('https://videos.nba.com/nba/pbp/media/2025/01/25/0022400633/354/b9aca960-62de-f2b6-222f-74f798dd70bc_1280x720.mp4',\n",
       "   'Wembanyama REBOUND (Off:1 Def:5)',\n",
       "   '3',\n",
       "   '10:37'),\n",
       "  ('https://videos.nba.com/nba/pbp/media/2025/01/25/0022400633/368/01379f9f-e788-c119-82b2-e2dd9bfbe072_1280x720.mp4',\n",
       "   'Wembanyama REBOUND (Off:1 Def:6)',\n",
       "   '3',\n",
       "   '9:53'),\n",
       "  ('https://videos.nba.com/nba/pbp/media/2025/01/25/0022400633/374/981a5ab2-f86a-2962-9c9d-a618b3363ae6_1280x720.mp4',\n",
       "   'Wembanyama REBOUND (Off:1 Def:7)',\n",
       "   '3',\n",
       "   '9:29'),\n",
       "  ('https://videos.nba.com/nba/pbp/media/2025/01/25/0022400633/407/e3bd49a8-54c9-642b-ffae-0c549883721c_1280x720.mp4',\n",
       "   'Wembanyama P.FOUL (P1.T2) (Z.Zarba)',\n",
       "   '3',\n",
       "   '7:27'),\n",
       "  ('https://videos.nba.com/nba/pbp/media/2025/01/25/0022400633/181/99c6076c-1a13-2403-089d-5a9c9096875e_1280x720.mp4',\n",
       "   'Wembanyama STEAL (2 STL)',\n",
       "   '3',\n",
       "   '6:55'),\n",
       "  ('https://videos.nba.com/nba/pbp/media/2025/01/25/0022400633/441/b1b7b982-3ced-3a9a-db2f-4eba0b1c6505_1280x720.mp4',\n",
       "   'Wembanyama REBOUND (Off:1 Def:8)',\n",
       "   '3',\n",
       "   '5:58'),\n",
       "  ('https://videos.nba.com/nba/pbp/media/2025/01/25/0022400633/451/fa0c0021-bff2-6060-bcf5-0a8856f0d113_1280x720.mp4',\n",
       "   'Wembanyama REBOUND (Off:1 Def:9)',\n",
       "   '3',\n",
       "   '5:08'),\n",
       "  ('https://videos.nba.com/nba/pbp/media/2025/01/25/0022400633/464/6dcbd7a0-a123-0b81-a357-cec811dcc51b_1280x720.mp4',\n",
       "   'Wembanyama REBOUND (Off:1 Def:10)',\n",
       "   '3',\n",
       "   '3:52'),\n",
       "  ('https://videos.nba.com/nba/pbp/media/2025/01/25/0022400633/647/c19947d4-2c88-e7bf-b6f4-e3d987c85231_1280x720.mp4',\n",
       "   'Wembanyama REBOUND (Off:1 Def:11)',\n",
       "   '4',\n",
       "   '4:11')],\n",
       " '2025-01-29': [('https://videos.nba.com/nba/pbp/media/2025/01/29/0022400671/9/3e49532c-afd0-643e-87a2-302e58691d70_1280x720.mp4',\n",
       "   'Wembanyama BLOCK (1 BLK)',\n",
       "   '1',\n",
       "   '11:21'),\n",
       "  ('https://videos.nba.com/nba/pbp/media/2025/01/29/0022400671/14/10cb0ec9-7586-e2a2-75c0-f532fdfeb07b_1280x720.mp4',\n",
       "   'Wembanyama P.FOUL (P1.T1) (E.Malloy)',\n",
       "   '1',\n",
       "   '11:07'),\n",
       "  ('https://videos.nba.com/nba/pbp/media/2025/01/29/0022400671/16/b005dca2-1b3c-0b9f-91ea-3dff58fb8e98_1280x720.mp4',\n",
       "   'Wembanyama STEAL (1 STL)',\n",
       "   '1',\n",
       "   '11:00'),\n",
       "  ('https://videos.nba.com/nba/pbp/media/2025/01/29/0022400671/44/3a9c4062-ae88-b606-e1ce-152ab8bce12d_1280x720.mp4',\n",
       "   'Wembanyama REBOUND (Off:0 Def:1)',\n",
       "   '1',\n",
       "   '8:21'),\n",
       "  ('https://videos.nba.com/nba/pbp/media/2025/01/29/0022400671/129/f969fed0-468c-49ab-1352-ab62ef1c9ae0_1280x720.mp4',\n",
       "   'Wembanyama REBOUND (Off:0 Def:2)',\n",
       "   '1',\n",
       "   '1:27'),\n",
       "  ('https://videos.nba.com/nba/pbp/media/2025/01/29/0022400671/173/003a191e-e98b-aead-461b-14f0b84387a4_1280x720.mp4',\n",
       "   'Wembanyama STEAL (2 STL)',\n",
       "   '2',\n",
       "   '11:16'),\n",
       "  ('https://videos.nba.com/nba/pbp/media/2025/01/29/0022400671/190/9669f25f-b399-51f8-9a9f-4d18b2840695_1280x720.mp4',\n",
       "   'Wembanyama P.FOUL (P2.T1) (J.Goldenberg)',\n",
       "   '2',\n",
       "   '10:01'),\n",
       "  ('https://videos.nba.com/nba/pbp/media/2025/01/29/0022400671/194/5499c4ad-2d28-3867-2662-ca864f51db28_1280x720.mp4',\n",
       "   'Wembanyama REBOUND (Off:0 Def:3)',\n",
       "   '2',\n",
       "   '9:47'),\n",
       "  ('https://videos.nba.com/nba/pbp/media/2025/01/29/0022400671/227/e38363b7-d30a-8d62-5554-664bd5938c9c_1280x720.mp4',\n",
       "   'Wembanyama REBOUND (Off:1 Def:4)',\n",
       "   '2',\n",
       "   '7:20'),\n",
       "  ('https://videos.nba.com/nba/pbp/media/2025/01/29/0022400671/376/f78e93ee-bc88-393c-86f1-f20e77024171_1280x720.mp4',\n",
       "   'Wembanyama S.FOUL (P3.T3) (M.Boland)',\n",
       "   '3',\n",
       "   '9:15'),\n",
       "  ('https://videos.nba.com/nba/pbp/media/2025/01/29/0022400671/393/649c6c88-b11a-4d97-ab60-2da5e849ba2b_1280x720.mp4',\n",
       "   'Wembanyama REBOUND (Off:1 Def:5)',\n",
       "   '3',\n",
       "   '7:45'),\n",
       "  ('https://videos.nba.com/nba/pbp/media/2025/01/29/0022400671/408/5a90412c-52fd-25f4-f263-b2c4356be506_1280x720.mp4',\n",
       "   'Wembanyama REBOUND (Off:1 Def:6)',\n",
       "   '3',\n",
       "   '6:10'),\n",
       "  ('https://videos.nba.com/nba/pbp/media/2025/01/29/0022400671/412/4ad65176-b044-4e0c-6bcb-9ed54a9b688b_1280x720.mp4',\n",
       "   'Wembanyama REBOUND (Off:1 Def:7)',\n",
       "   '3',\n",
       "   '5:40'),\n",
       "  ('https://videos.nba.com/nba/pbp/media/2025/01/29/0022400671/419/d633dc38-31ac-5606-b656-a943c0fc00a4_1280x720.mp4',\n",
       "   'Wembanyama BLOCK (2 BLK)',\n",
       "   '3',\n",
       "   '5:07'),\n",
       "  ('https://videos.nba.com/nba/pbp/media/2025/01/29/0022400671/424/a57f6fb7-da1c-c6ac-ffe4-4f95ffc227d1_1280x720.mp4',\n",
       "   'Wembanyama BLOCK (3 BLK)',\n",
       "   '3',\n",
       "   '4:49'),\n",
       "  ('https://videos.nba.com/nba/pbp/media/2025/01/29/0022400671/449/76d0bd72-701c-26b1-26b0-e845cc2236da_1280x720.mp4',\n",
       "   'Wembanyama REBOUND (Off:1 Def:8)',\n",
       "   '3',\n",
       "   '3:45'),\n",
       "  ('https://videos.nba.com/nba/pbp/media/2025/01/29/0022400671/556/76fc366e-d7f8-2cdc-52ec-1b59e9340c4b_1280x720.mp4',\n",
       "   'Wembanyama REBOUND (Off:1 Def:9)',\n",
       "   '4',\n",
       "   '7:21'),\n",
       "  ('https://videos.nba.com/nba/pbp/media/2025/01/29/0022400671/560/d968cbba-254a-d36c-ad77-ed625a31a649_1280x720.mp4',\n",
       "   'Wembanyama REBOUND (Off:1 Def:10)',\n",
       "   '4',\n",
       "   '6:57'),\n",
       "  ('https://videos.nba.com/nba/pbp/media/2025/01/29/0022400671/577/ade39aff-38a1-be9d-422c-bb0394d6a209_1280x720.mp4',\n",
       "   'Wembanyama REBOUND (Off:1 Def:11)',\n",
       "   '4',\n",
       "   '5:43'),\n",
       "  ('https://videos.nba.com/nba/pbp/media/2025/01/29/0022400671/585/c05e8661-097d-f423-951c-3bedc98b336b_1280x720.mp4',\n",
       "   'Wembanyama S.FOUL (P4.T3) (J.Goldenberg)',\n",
       "   '4',\n",
       "   '4:39'),\n",
       "  ('https://videos.nba.com/nba/pbp/media/2025/01/29/0022400671/601/467b9c6d-1ec7-8231-5e9a-cc4553c8bcfb_1280x720.mp4',\n",
       "   'Wembanyama P.FOUL (P5.PN) (E.Malloy)',\n",
       "   '4',\n",
       "   '3:59')],\n",
       " '2025-01-31': [('https://videos.nba.com/nba/pbp/media/2025/01/31/0022400684/19/55573d75-ffea-65e5-4a68-695711a36a8e_1280x720.mp4',\n",
       "   'Wembanyama BLOCK (1 BLK)',\n",
       "   '1',\n",
       "   '10:28'),\n",
       "  ('https://videos.nba.com/nba/pbp/media/2025/01/31/0022400684/21/7c21dd2b-48c2-a17a-2a61-87801f931563_1280x720.mp4',\n",
       "   'Wembanyama REBOUND (Off:0 Def:1)',\n",
       "   '1',\n",
       "   '10:25'),\n",
       "  ('https://videos.nba.com/nba/pbp/media/2025/01/31/0022400684/24/1a2d5819-8148-0ff9-42bc-48c934a94ff1_1280x720.mp4',\n",
       "   'Wembanyama BLOCK (2 BLK)',\n",
       "   '1',\n",
       "   '10:14'),\n",
       "  ('https://videos.nba.com/nba/pbp/media/2025/01/31/0022400684/32/fe9cd130-7da9-0f1e-0de4-7066900dd328_1280x720.mp4',\n",
       "   'Wembanyama REBOUND (Off:0 Def:2)',\n",
       "   '1',\n",
       "   '9:35'),\n",
       "  ('https://videos.nba.com/nba/pbp/media/2025/01/31/0022400684/71/d768c986-a3da-baed-5a06-e0550a378a31_1280x720.mp4',\n",
       "   'Wembanyama REBOUND (Off:0 Def:3)',\n",
       "   '1',\n",
       "   '6:40'),\n",
       "  ('https://videos.nba.com/nba/pbp/media/2025/01/31/0022400684/98/ede99f4b-a747-7c08-639c-2c6c5c66180e_1280x720.mp4',\n",
       "   'Wembanyama P.FOUL (P1.T3) (T.Brothers)',\n",
       "   '1',\n",
       "   '5:04'),\n",
       "  ('https://videos.nba.com/nba/pbp/media/2025/01/31/0022400684/133/1d28d79e-deed-abcd-3f26-f202b15edbad_1280x720.mp4',\n",
       "   'Wembanyama BLOCK (3 BLK)',\n",
       "   '1',\n",
       "   '2:42'),\n",
       "  ('https://videos.nba.com/nba/pbp/media/2025/01/31/0022400684/150/2984aabe-0325-c9ea-54fe-1374bb2a56bf_1280x720.mp4',\n",
       "   'Wembanyama REBOUND (Off:0 Def:4)',\n",
       "   '1',\n",
       "   '1:17'),\n",
       "  ('https://videos.nba.com/nba/pbp/media/2025/01/31/0022400684/268/649e9e0d-90d0-2b95-10a6-775615740e5d_1280x720.mp4',\n",
       "   'Wembanyama REBOUND (Off:0 Def:5)',\n",
       "   '2',\n",
       "   '5:24'),\n",
       "  ('https://videos.nba.com/nba/pbp/media/2025/01/31/0022400684/296/cedbbeba-965d-07b9-afbf-554b72ad990f_1280x720.mp4',\n",
       "   'Wembanyama REBOUND (Off:0 Def:6)',\n",
       "   '2',\n",
       "   '3:08'),\n",
       "  ('https://videos.nba.com/nba/pbp/media/2025/01/31/0022400684/327/7945b79d-38c1-1419-1a77-9cb388c4804d_1280x720.mp4',\n",
       "   'Wembanyama BLOCK (4 BLK)',\n",
       "   '2',\n",
       "   '0:52'),\n",
       "  ('https://videos.nba.com/nba/pbp/media/2025/01/31/0022400684/370/742c1f2f-9994-7686-5782-28150cd0f888_1280x720.mp4',\n",
       "   'Wembanyama REBOUND (Off:0 Def:7)',\n",
       "   '3',\n",
       "   '10:37'),\n",
       "  ('https://videos.nba.com/nba/pbp/media/2025/01/31/0022400684/422/e9f7d794-9f89-82a4-36a8-8031b7406d68_1280x720.mp4',\n",
       "   'Wembanyama BLOCK (5 BLK)',\n",
       "   '3',\n",
       "   '5:30'),\n",
       "  ('https://videos.nba.com/nba/pbp/media/2025/01/31/0022400684/423/cbda5f7d-0f9c-e723-d568-735f07828a7f_1280x720.mp4',\n",
       "   'Wembanyama REBOUND (Off:1 Def:8)',\n",
       "   '3',\n",
       "   '5:27'),\n",
       "  ('https://videos.nba.com/nba/pbp/media/2025/01/31/0022400684/428/3aea5b08-d320-39a3-c88a-35ca7ae07151_1280x720.mp4',\n",
       "   'Wembanyama BLOCK (6 BLK)',\n",
       "   '3',\n",
       "   '5:05'),\n",
       "  ('https://videos.nba.com/nba/pbp/media/2025/01/31/0022400684/484/279347d1-002b-7a71-43a6-2efdeeed8ff2_1280x720.mp4',\n",
       "   'Wembanyama REBOUND (Off:1 Def:9)',\n",
       "   '3',\n",
       "   '1:59'),\n",
       "  ('https://videos.nba.com/nba/pbp/media/2025/01/31/0022400684/501/b740dec1-b365-76eb-1559-98851690a9e1_1280x720.mp4',\n",
       "   'Wembanyama S.FOUL (P2.T4) (G.Petraitis)',\n",
       "   '3',\n",
       "   '0:42'),\n",
       "  ('https://videos.nba.com/nba/pbp/media/2025/01/31/0022400684/593/f9b1f71a-f9b8-2e9c-8164-3dc536498395_1280x720.mp4',\n",
       "   'Wembanyama REBOUND (Off:1 Def:10)',\n",
       "   '4',\n",
       "   '7:22'),\n",
       "  ('https://videos.nba.com/nba/pbp/media/2025/01/31/0022400684/614/b9b7c610-f00a-7a35-6f5f-57196c2cb2fa_1280x720.mp4',\n",
       "   'Wembanyama S.FOUL (P3.T4) (T.Brothers)',\n",
       "   '4',\n",
       "   '5:42'),\n",
       "  ('https://videos.nba.com/nba/pbp/media/2025/01/31/0022400684/623/4db9d5c9-6e0c-e703-34a7-ce124a281ed8_1280x720.mp4',\n",
       "   'Wembanyama REBOUND (Off:1 Def:11)',\n",
       "   '4',\n",
       "   '5:39'),\n",
       "  ('https://videos.nba.com/nba/pbp/media/2025/01/31/0022400684/630/6c7ae4e6-63b6-ffd5-f147-5fc1e3356044_1280x720.mp4',\n",
       "   'Wembanyama REBOUND (Off:1 Def:12)',\n",
       "   '4',\n",
       "   '4:58')]}"
      ]
     },
     "execution_count": 6,
     "metadata": {},
     "output_type": "execute_result"
    }
   ],
   "source": [
    "wemby_stocks_urls"
   ]
  },
  {
   "cell_type": "code",
   "execution_count": 7,
   "id": "4b39a543",
   "metadata": {},
   "outputs": [
    {
     "name": "stdout",
     "output_type": "stream",
     "text": [
      "MoviePy - Building video example2_20250123q1.mp4.\n",
      "MoviePy - Writing audio in example2_20250123q1TEMP_MPY_wvf_snd.mp3\n"
     ]
    },
    {
     "name": "stderr",
     "output_type": "stream",
     "text": [
      "                                                                      \r"
     ]
    },
    {
     "name": "stdout",
     "output_type": "stream",
     "text": [
      "MoviePy - Done.\n",
      "MoviePy - Writing video example2_20250123q1.mp4\n",
      "\n"
     ]
    },
    {
     "name": "stderr",
     "output_type": "stream",
     "text": [
      "                                                                          \r"
     ]
    },
    {
     "name": "stdout",
     "output_type": "stream",
     "text": [
      "MoviePy - Done !\n",
      "MoviePy - video ready example2_20250123q1.mp4\n",
      "MoviePy - Building video example2_20250123q2.mp4.\n",
      "MoviePy - Writing audio in example2_20250123q2TEMP_MPY_wvf_snd.mp3\n"
     ]
    },
    {
     "name": "stderr",
     "output_type": "stream",
     "text": [
      "                                                                   \r"
     ]
    },
    {
     "name": "stdout",
     "output_type": "stream",
     "text": [
      "MoviePy - Done.\n",
      "MoviePy - Writing video example2_20250123q2.mp4\n",
      "\n"
     ]
    },
    {
     "name": "stderr",
     "output_type": "stream",
     "text": [
      "                                                                        \r"
     ]
    },
    {
     "name": "stdout",
     "output_type": "stream",
     "text": [
      "MoviePy - Done !\n",
      "MoviePy - video ready example2_20250123q2.mp4\n",
      "MoviePy - Building video example2_20250123q3.mp4.\n",
      "MoviePy - Writing audio in example2_20250123q3TEMP_MPY_wvf_snd.mp3\n"
     ]
    },
    {
     "name": "stderr",
     "output_type": "stream",
     "text": [
      "                                                                      \r"
     ]
    },
    {
     "name": "stdout",
     "output_type": "stream",
     "text": [
      "MoviePy - Done.\n",
      "MoviePy - Writing video example2_20250123q3.mp4\n",
      "\n"
     ]
    },
    {
     "name": "stderr",
     "output_type": "stream",
     "text": [
      "frame_index:  24%|██▎       | 574/2421 [00:17<00:59, 31.16it/s, now=None]C:\\Users\\ronen\\AppData\\Local\\Packages\\PythonSoftwareFoundation.Python.3.11_qbz5n2kfra8p0\\LocalCache\\local-packages\\Python311\\site-packages\\moviepy\\video\\io\\ffmpeg_reader.py:190: UserWarning: In file https://videos.nba.com/nba/pbp/media/2025/01/23/0022400621/356/dc5118b0-af08-224f-3654-93d6f31c7bc5_1280x720.mp4, 2764800 bytes wanted but 0 bytes read at frame index 543 (out of a total 543 frames), at time 9.05/9.05 sec. Using the last valid frame instead.\n",
      "  warnings.warn(\n",
      "                                                                          \r"
     ]
    },
    {
     "name": "stdout",
     "output_type": "stream",
     "text": [
      "MoviePy - Done !\n",
      "MoviePy - video ready example2_20250123q3.mp4\n",
      "MoviePy - Building video example2_20250123q4.mp4.\n",
      "MoviePy - Writing audio in example2_20250123q4TEMP_MPY_wvf_snd.mp3\n"
     ]
    },
    {
     "name": "stderr",
     "output_type": "stream",
     "text": [
      "                                                                   \r"
     ]
    },
    {
     "name": "stdout",
     "output_type": "stream",
     "text": [
      "MoviePy - Done.\n",
      "MoviePy - Writing video example2_20250123q4.mp4\n",
      "\n"
     ]
    },
    {
     "name": "stderr",
     "output_type": "stream",
     "text": [
      "                                                                        \r"
     ]
    },
    {
     "name": "stdout",
     "output_type": "stream",
     "text": [
      "MoviePy - Done !\n",
      "MoviePy - video ready example2_20250123q4.mp4\n",
      "MoviePy - Building video example2_20250125q2.mp4.\n",
      "MoviePy - Writing audio in example2_20250125q2TEMP_MPY_wvf_snd.mp3\n"
     ]
    },
    {
     "name": "stderr",
     "output_type": "stream",
     "text": [
      "                                                                      \r"
     ]
    },
    {
     "name": "stdout",
     "output_type": "stream",
     "text": [
      "MoviePy - Done.\n",
      "MoviePy - Writing video example2_20250125q2.mp4\n",
      "\n"
     ]
    },
    {
     "name": "stderr",
     "output_type": "stream",
     "text": [
      "frame_index:  42%|████▏     | 596/1424 [00:17<00:26, 31.54it/s, now=None]C:\\Users\\ronen\\AppData\\Local\\Packages\\PythonSoftwareFoundation.Python.3.11_qbz5n2kfra8p0\\LocalCache\\local-packages\\Python311\\site-packages\\moviepy\\video\\io\\ffmpeg_reader.py:190: UserWarning: In file https://videos.nba.com/nba/pbp/media/2025/01/25/0022400633/173/da95121d-92d2-0ae7-3fab-9073951b54b3_1280x720.mp4, 2764800 bytes wanted but 0 bytes read at frame index 529 (out of a total 529 frames), at time 8.82/8.82 sec. Using the last valid frame instead.\n",
      "  warnings.warn(\n",
      "                                                                          \r"
     ]
    },
    {
     "name": "stdout",
     "output_type": "stream",
     "text": [
      "MoviePy - Done !\n",
      "MoviePy - video ready example2_20250125q2.mp4\n",
      "MoviePy - Building video example2_20250125q3.mp4.\n",
      "MoviePy - Writing audio in example2_20250125q3TEMP_MPY_wvf_snd.mp3\n"
     ]
    },
    {
     "name": "stderr",
     "output_type": "stream",
     "text": [
      "                                                                      \r"
     ]
    },
    {
     "name": "stdout",
     "output_type": "stream",
     "text": [
      "MoviePy - Done.\n",
      "MoviePy - Writing video example2_20250125q3.mp4\n",
      "\n"
     ]
    },
    {
     "name": "stderr",
     "output_type": "stream",
     "text": [
      "frame_index:  22%|██▏       | 512/2328 [00:16<01:00, 30.11it/s, now=None]C:\\Users\\ronen\\AppData\\Local\\Packages\\PythonSoftwareFoundation.Python.3.11_qbz5n2kfra8p0\\LocalCache\\local-packages\\Python311\\site-packages\\moviepy\\video\\io\\ffmpeg_reader.py:190: UserWarning: In file https://videos.nba.com/nba/pbp/media/2025/01/25/0022400633/354/b9aca960-62de-f2b6-222f-74f798dd70bc_1280x720.mp4, 2764800 bytes wanted but 0 bytes read at frame index 481 (out of a total 481 frames), at time 8.02/8.02 sec. Using the last valid frame instead.\n",
      "  warnings.warn(\n",
      "                                                                          \r"
     ]
    },
    {
     "name": "stdout",
     "output_type": "stream",
     "text": [
      "MoviePy - Done !\n",
      "MoviePy - video ready example2_20250125q3.mp4\n",
      "MoviePy - Building video example2_20250125q4.mp4.\n",
      "MoviePy - Writing audio in example2_20250125q4TEMP_MPY_wvf_snd.mp3\n"
     ]
    },
    {
     "name": "stderr",
     "output_type": "stream",
     "text": [
      "                                                                   \r"
     ]
    },
    {
     "name": "stdout",
     "output_type": "stream",
     "text": [
      "MoviePy - Done.\n",
      "MoviePy - Writing video example2_20250125q4.mp4\n",
      "\n"
     ]
    },
    {
     "name": "stderr",
     "output_type": "stream",
     "text": [
      "                                                                        \r"
     ]
    },
    {
     "name": "stdout",
     "output_type": "stream",
     "text": [
      "MoviePy - Done !\n",
      "MoviePy - video ready example2_20250125q4.mp4\n",
      "MoviePy - Building video example2_20250129q1.mp4.\n",
      "MoviePy - Writing audio in example2_20250129q1TEMP_MPY_wvf_snd.mp3\n"
     ]
    },
    {
     "name": "stderr",
     "output_type": "stream",
     "text": [
      "                                                                      \r"
     ]
    },
    {
     "name": "stdout",
     "output_type": "stream",
     "text": [
      "MoviePy - Done.\n",
      "MoviePy - Writing video example2_20250129q1.mp4\n",
      "\n"
     ]
    },
    {
     "name": "stderr",
     "output_type": "stream",
     "text": [
      "                                                                          \r"
     ]
    },
    {
     "name": "stdout",
     "output_type": "stream",
     "text": [
      "MoviePy - Done !\n",
      "MoviePy - video ready example2_20250129q1.mp4\n",
      "MoviePy - Building video example2_20250129q2.mp4.\n",
      "MoviePy - Writing audio in example2_20250129q2TEMP_MPY_wvf_snd.mp3\n"
     ]
    },
    {
     "name": "stderr",
     "output_type": "stream",
     "text": [
      "                                                                    \r"
     ]
    },
    {
     "name": "stdout",
     "output_type": "stream",
     "text": [
      "MoviePy - Done.\n",
      "MoviePy - Writing video example2_20250129q2.mp4\n",
      "\n"
     ]
    },
    {
     "name": "stderr",
     "output_type": "stream",
     "text": [
      "                                                                          \r"
     ]
    },
    {
     "name": "stdout",
     "output_type": "stream",
     "text": [
      "MoviePy - Done !\n",
      "MoviePy - video ready example2_20250129q2.mp4\n",
      "MoviePy - Building video example2_20250129q3.mp4.\n",
      "MoviePy - Writing audio in example2_20250129q3TEMP_MPY_wvf_snd.mp3\n"
     ]
    },
    {
     "name": "stderr",
     "output_type": "stream",
     "text": [
      "                                                                      \r"
     ]
    },
    {
     "name": "stdout",
     "output_type": "stream",
     "text": [
      "MoviePy - Done.\n",
      "MoviePy - Writing video example2_20250129q3.mp4\n",
      "\n"
     ]
    },
    {
     "name": "stderr",
     "output_type": "stream",
     "text": [
      "frame_index:  27%|██▋       | 564/2113 [00:17<00:49, 31.08it/s, now=None]C:\\Users\\ronen\\AppData\\Local\\Packages\\PythonSoftwareFoundation.Python.3.11_qbz5n2kfra8p0\\LocalCache\\local-packages\\Python311\\site-packages\\moviepy\\video\\io\\ffmpeg_reader.py:190: UserWarning: In file https://videos.nba.com/nba/pbp/media/2025/01/29/0022400671/393/649c6c88-b11a-4d97-ab60-2da5e849ba2b_1280x720.mp4, 2764800 bytes wanted but 0 bytes read at frame index 589 (out of a total 589 frames), at time 9.82/9.82 sec. Using the last valid frame instead.\n",
      "  warnings.warn(\n",
      "                                                                          \r"
     ]
    },
    {
     "name": "stdout",
     "output_type": "stream",
     "text": [
      "MoviePy - Done !\n",
      "MoviePy - video ready example2_20250129q3.mp4\n",
      "MoviePy - Building video example2_20250129q4.mp4.\n",
      "MoviePy - Writing audio in example2_20250129q4TEMP_MPY_wvf_snd.mp3\n"
     ]
    },
    {
     "name": "stderr",
     "output_type": "stream",
     "text": [
      "                                                                     \r"
     ]
    },
    {
     "name": "stdout",
     "output_type": "stream",
     "text": [
      "MoviePy - Done.\n",
      "MoviePy - Writing video example2_20250129q4.mp4\n",
      "\n"
     ]
    },
    {
     "name": "stderr",
     "output_type": "stream",
     "text": [
      "                                                                          \r"
     ]
    },
    {
     "name": "stdout",
     "output_type": "stream",
     "text": [
      "MoviePy - Done !\n",
      "MoviePy - video ready example2_20250129q4.mp4\n",
      "MoviePy - Building video example2_20250131q1.mp4.\n",
      "MoviePy - Writing audio in example2_20250131q1TEMP_MPY_wvf_snd.mp3\n"
     ]
    },
    {
     "name": "stderr",
     "output_type": "stream",
     "text": [
      "                                                                      \r"
     ]
    },
    {
     "name": "stdout",
     "output_type": "stream",
     "text": [
      "MoviePy - Done.\n",
      "MoviePy - Writing video example2_20250131q1.mp4\n",
      "\n"
     ]
    },
    {
     "name": "stderr",
     "output_type": "stream",
     "text": [
      "                                                                          \r"
     ]
    },
    {
     "name": "stdout",
     "output_type": "stream",
     "text": [
      "MoviePy - Done !\n",
      "MoviePy - video ready example2_20250131q1.mp4\n",
      "MoviePy - Building video example2_20250131q2.mp4.\n",
      "MoviePy - Writing audio in example2_20250131q2TEMP_MPY_wvf_snd.mp3\n"
     ]
    },
    {
     "name": "stderr",
     "output_type": "stream",
     "text": [
      "                                                                    \r"
     ]
    },
    {
     "name": "stdout",
     "output_type": "stream",
     "text": [
      "MoviePy - Done.\n",
      "MoviePy - Writing video example2_20250131q2.mp4\n",
      "\n"
     ]
    },
    {
     "name": "stderr",
     "output_type": "stream",
     "text": [
      "                                                                        \r"
     ]
    },
    {
     "name": "stdout",
     "output_type": "stream",
     "text": [
      "MoviePy - Done !\n",
      "MoviePy - video ready example2_20250131q2.mp4\n",
      "MoviePy - Building video example2_20250131q3.mp4.\n",
      "MoviePy - Writing audio in example2_20250131q3TEMP_MPY_wvf_snd.mp3\n"
     ]
    },
    {
     "name": "stderr",
     "output_type": "stream",
     "text": [
      "                                                                      \r"
     ]
    },
    {
     "name": "stdout",
     "output_type": "stream",
     "text": [
      "MoviePy - Done.\n",
      "MoviePy - Writing video example2_20250131q3.mp4\n",
      "\n"
     ]
    },
    {
     "name": "stderr",
     "output_type": "stream",
     "text": [
      "frame_index:  32%|███▏      | 536/1669 [00:21<01:33, 12.07it/s, now=None]C:\\Users\\ronen\\AppData\\Local\\Packages\\PythonSoftwareFoundation.Python.3.11_qbz5n2kfra8p0\\LocalCache\\local-packages\\Python311\\site-packages\\moviepy\\video\\io\\ffmpeg_reader.py:190: UserWarning: In file https://videos.nba.com/nba/pbp/media/2025/01/31/0022400684/422/e9f7d794-9f89-82a4-36a8-8031b7406d68_1280x720.mp4, 2764800 bytes wanted but 0 bytes read at frame index 583 (out of a total 583 frames), at time 9.72/9.72 sec. Using the last valid frame instead.\n",
      "  warnings.warn(\n",
      "                                                                          \r"
     ]
    },
    {
     "name": "stdout",
     "output_type": "stream",
     "text": [
      "MoviePy - Done !\n",
      "MoviePy - video ready example2_20250131q3.mp4\n",
      "MoviePy - Building video example2_20250131q4.mp4.\n",
      "MoviePy - Writing audio in example2_20250131q4TEMP_MPY_wvf_snd.mp3\n"
     ]
    },
    {
     "name": "stderr",
     "output_type": "stream",
     "text": [
      "                                                                     \r"
     ]
    },
    {
     "name": "stdout",
     "output_type": "stream",
     "text": [
      "MoviePy - Done.\n",
      "MoviePy - Writing video example2_20250131q4.mp4\n",
      "\n"
     ]
    },
    {
     "name": "stderr",
     "output_type": "stream",
     "text": [
      "frame_index:   2%|▏         | 32/1424 [00:00<00:45, 30.93it/s, now=None]C:\\Users\\ronen\\AppData\\Local\\Packages\\PythonSoftwareFoundation.Python.3.11_qbz5n2kfra8p0\\LocalCache\\local-packages\\Python311\\site-packages\\moviepy\\video\\io\\ffmpeg_reader.py:190: UserWarning: In file https://videos.nba.com/nba/pbp/media/2025/01/31/0022400684/593/f9b1f71a-f9b8-2e9c-8164-3dc536498395_1280x720.mp4, 2764800 bytes wanted but 0 bytes read at frame index 62 (out of a total 543 frames), at time 1.03/9.05 sec. Using the last valid frame instead.\n",
      "  warnings.warn(\n",
      "C:\\Users\\ronen\\AppData\\Local\\Packages\\PythonSoftwareFoundation.Python.3.11_qbz5n2kfra8p0\\LocalCache\\local-packages\\Python311\\site-packages\\moviepy\\video\\io\\ffmpeg_reader.py:190: UserWarning: In file https://videos.nba.com/nba/pbp/media/2025/01/31/0022400684/593/f9b1f71a-f9b8-2e9c-8164-3dc536498395_1280x720.mp4, 2764800 bytes wanted but 0 bytes read at frame index 64 (out of a total 543 frames), at time 1.07/9.05 sec. Using the last valid frame instead.\n",
      "  warnings.warn(\n",
      "C:\\Users\\ronen\\AppData\\Local\\Packages\\PythonSoftwareFoundation.Python.3.11_qbz5n2kfra8p0\\LocalCache\\local-packages\\Python311\\site-packages\\moviepy\\video\\io\\ffmpeg_reader.py:190: UserWarning: In file https://videos.nba.com/nba/pbp/media/2025/01/31/0022400684/593/f9b1f71a-f9b8-2e9c-8164-3dc536498395_1280x720.mp4, 2764800 bytes wanted but 0 bytes read at frame index 66 (out of a total 543 frames), at time 1.10/9.05 sec. Using the last valid frame instead.\n",
      "  warnings.warn(\n",
      "C:\\Users\\ronen\\AppData\\Local\\Packages\\PythonSoftwareFoundation.Python.3.11_qbz5n2kfra8p0\\LocalCache\\local-packages\\Python311\\site-packages\\moviepy\\video\\io\\ffmpeg_reader.py:190: UserWarning: In file https://videos.nba.com/nba/pbp/media/2025/01/31/0022400684/593/f9b1f71a-f9b8-2e9c-8164-3dc536498395_1280x720.mp4, 2764800 bytes wanted but 0 bytes read at frame index 68 (out of a total 543 frames), at time 1.13/9.05 sec. Using the last valid frame instead.\n",
      "  warnings.warn(\n",
      "frame_index:   3%|▎         | 36/1424 [00:01<00:45, 30.48it/s, now=None]C:\\Users\\ronen\\AppData\\Local\\Packages\\PythonSoftwareFoundation.Python.3.11_qbz5n2kfra8p0\\LocalCache\\local-packages\\Python311\\site-packages\\moviepy\\video\\io\\ffmpeg_reader.py:190: UserWarning: In file https://videos.nba.com/nba/pbp/media/2025/01/31/0022400684/593/f9b1f71a-f9b8-2e9c-8164-3dc536498395_1280x720.mp4, 2764800 bytes wanted but 0 bytes read at frame index 70 (out of a total 543 frames), at time 1.17/9.05 sec. Using the last valid frame instead.\n",
      "  warnings.warn(\n",
      "C:\\Users\\ronen\\AppData\\Local\\Packages\\PythonSoftwareFoundation.Python.3.11_qbz5n2kfra8p0\\LocalCache\\local-packages\\Python311\\site-packages\\moviepy\\video\\io\\ffmpeg_reader.py:190: UserWarning: In file https://videos.nba.com/nba/pbp/media/2025/01/31/0022400684/593/f9b1f71a-f9b8-2e9c-8164-3dc536498395_1280x720.mp4, 2764800 bytes wanted but 0 bytes read at frame index 72 (out of a total 543 frames), at time 1.20/9.05 sec. Using the last valid frame instead.\n",
      "  warnings.warn(\n",
      "C:\\Users\\ronen\\AppData\\Local\\Packages\\PythonSoftwareFoundation.Python.3.11_qbz5n2kfra8p0\\LocalCache\\local-packages\\Python311\\site-packages\\moviepy\\video\\io\\ffmpeg_reader.py:190: UserWarning: In file https://videos.nba.com/nba/pbp/media/2025/01/31/0022400684/593/f9b1f71a-f9b8-2e9c-8164-3dc536498395_1280x720.mp4, 2764800 bytes wanted but 0 bytes read at frame index 74 (out of a total 543 frames), at time 1.23/9.05 sec. Using the last valid frame instead.\n",
      "  warnings.warn(\n",
      "C:\\Users\\ronen\\AppData\\Local\\Packages\\PythonSoftwareFoundation.Python.3.11_qbz5n2kfra8p0\\LocalCache\\local-packages\\Python311\\site-packages\\moviepy\\video\\io\\ffmpeg_reader.py:190: UserWarning: In file https://videos.nba.com/nba/pbp/media/2025/01/31/0022400684/593/f9b1f71a-f9b8-2e9c-8164-3dc536498395_1280x720.mp4, 2764800 bytes wanted but 0 bytes read at frame index 76 (out of a total 543 frames), at time 1.27/9.05 sec. Using the last valid frame instead.\n",
      "  warnings.warn(\n",
      "frame_index:   3%|▎         | 40/1424 [00:01<00:43, 31.52it/s, now=None]C:\\Users\\ronen\\AppData\\Local\\Packages\\PythonSoftwareFoundation.Python.3.11_qbz5n2kfra8p0\\LocalCache\\local-packages\\Python311\\site-packages\\moviepy\\video\\io\\ffmpeg_reader.py:190: UserWarning: In file https://videos.nba.com/nba/pbp/media/2025/01/31/0022400684/593/f9b1f71a-f9b8-2e9c-8164-3dc536498395_1280x720.mp4, 2764800 bytes wanted but 0 bytes read at frame index 78 (out of a total 543 frames), at time 1.30/9.05 sec. Using the last valid frame instead.\n",
      "  warnings.warn(\n",
      "C:\\Users\\ronen\\AppData\\Local\\Packages\\PythonSoftwareFoundation.Python.3.11_qbz5n2kfra8p0\\LocalCache\\local-packages\\Python311\\site-packages\\moviepy\\video\\io\\ffmpeg_reader.py:190: UserWarning: In file https://videos.nba.com/nba/pbp/media/2025/01/31/0022400684/593/f9b1f71a-f9b8-2e9c-8164-3dc536498395_1280x720.mp4, 2764800 bytes wanted but 0 bytes read at frame index 80 (out of a total 543 frames), at time 1.33/9.05 sec. Using the last valid frame instead.\n",
      "  warnings.warn(\n",
      "C:\\Users\\ronen\\AppData\\Local\\Packages\\PythonSoftwareFoundation.Python.3.11_qbz5n2kfra8p0\\LocalCache\\local-packages\\Python311\\site-packages\\moviepy\\video\\io\\ffmpeg_reader.py:190: UserWarning: In file https://videos.nba.com/nba/pbp/media/2025/01/31/0022400684/593/f9b1f71a-f9b8-2e9c-8164-3dc536498395_1280x720.mp4, 2764800 bytes wanted but 0 bytes read at frame index 82 (out of a total 543 frames), at time 1.37/9.05 sec. Using the last valid frame instead.\n",
      "  warnings.warn(\n",
      "C:\\Users\\ronen\\AppData\\Local\\Packages\\PythonSoftwareFoundation.Python.3.11_qbz5n2kfra8p0\\LocalCache\\local-packages\\Python311\\site-packages\\moviepy\\video\\io\\ffmpeg_reader.py:190: UserWarning: In file https://videos.nba.com/nba/pbp/media/2025/01/31/0022400684/593/f9b1f71a-f9b8-2e9c-8164-3dc536498395_1280x720.mp4, 2764800 bytes wanted but 0 bytes read at frame index 84 (out of a total 543 frames), at time 1.40/9.05 sec. Using the last valid frame instead.\n",
      "  warnings.warn(\n",
      "frame_index:   3%|▎         | 44/1424 [00:01<00:43, 31.67it/s, now=None]C:\\Users\\ronen\\AppData\\Local\\Packages\\PythonSoftwareFoundation.Python.3.11_qbz5n2kfra8p0\\LocalCache\\local-packages\\Python311\\site-packages\\moviepy\\video\\io\\ffmpeg_reader.py:190: UserWarning: In file https://videos.nba.com/nba/pbp/media/2025/01/31/0022400684/593/f9b1f71a-f9b8-2e9c-8164-3dc536498395_1280x720.mp4, 2764800 bytes wanted but 0 bytes read at frame index 86 (out of a total 543 frames), at time 1.43/9.05 sec. Using the last valid frame instead.\n",
      "  warnings.warn(\n",
      "C:\\Users\\ronen\\AppData\\Local\\Packages\\PythonSoftwareFoundation.Python.3.11_qbz5n2kfra8p0\\LocalCache\\local-packages\\Python311\\site-packages\\moviepy\\video\\io\\ffmpeg_reader.py:190: UserWarning: In file https://videos.nba.com/nba/pbp/media/2025/01/31/0022400684/593/f9b1f71a-f9b8-2e9c-8164-3dc536498395_1280x720.mp4, 2764800 bytes wanted but 0 bytes read at frame index 88 (out of a total 543 frames), at time 1.47/9.05 sec. Using the last valid frame instead.\n",
      "  warnings.warn(\n",
      "C:\\Users\\ronen\\AppData\\Local\\Packages\\PythonSoftwareFoundation.Python.3.11_qbz5n2kfra8p0\\LocalCache\\local-packages\\Python311\\site-packages\\moviepy\\video\\io\\ffmpeg_reader.py:190: UserWarning: In file https://videos.nba.com/nba/pbp/media/2025/01/31/0022400684/593/f9b1f71a-f9b8-2e9c-8164-3dc536498395_1280x720.mp4, 2764800 bytes wanted but 0 bytes read at frame index 90 (out of a total 543 frames), at time 1.50/9.05 sec. Using the last valid frame instead.\n",
      "  warnings.warn(\n",
      "C:\\Users\\ronen\\AppData\\Local\\Packages\\PythonSoftwareFoundation.Python.3.11_qbz5n2kfra8p0\\LocalCache\\local-packages\\Python311\\site-packages\\moviepy\\video\\io\\ffmpeg_reader.py:190: UserWarning: In file https://videos.nba.com/nba/pbp/media/2025/01/31/0022400684/593/f9b1f71a-f9b8-2e9c-8164-3dc536498395_1280x720.mp4, 2764800 bytes wanted but 0 bytes read at frame index 92 (out of a total 543 frames), at time 1.53/9.05 sec. Using the last valid frame instead.\n",
      "  warnings.warn(\n",
      "frame_index:   3%|▎         | 48/1424 [00:01<00:43, 31.36it/s, now=None]C:\\Users\\ronen\\AppData\\Local\\Packages\\PythonSoftwareFoundation.Python.3.11_qbz5n2kfra8p0\\LocalCache\\local-packages\\Python311\\site-packages\\moviepy\\video\\io\\ffmpeg_reader.py:190: UserWarning: In file https://videos.nba.com/nba/pbp/media/2025/01/31/0022400684/593/f9b1f71a-f9b8-2e9c-8164-3dc536498395_1280x720.mp4, 2764800 bytes wanted but 0 bytes read at frame index 94 (out of a total 543 frames), at time 1.57/9.05 sec. Using the last valid frame instead.\n",
      "  warnings.warn(\n",
      "C:\\Users\\ronen\\AppData\\Local\\Packages\\PythonSoftwareFoundation.Python.3.11_qbz5n2kfra8p0\\LocalCache\\local-packages\\Python311\\site-packages\\moviepy\\video\\io\\ffmpeg_reader.py:190: UserWarning: In file https://videos.nba.com/nba/pbp/media/2025/01/31/0022400684/593/f9b1f71a-f9b8-2e9c-8164-3dc536498395_1280x720.mp4, 2764800 bytes wanted but 0 bytes read at frame index 96 (out of a total 543 frames), at time 1.60/9.05 sec. Using the last valid frame instead.\n",
      "  warnings.warn(\n",
      "C:\\Users\\ronen\\AppData\\Local\\Packages\\PythonSoftwareFoundation.Python.3.11_qbz5n2kfra8p0\\LocalCache\\local-packages\\Python311\\site-packages\\moviepy\\video\\io\\ffmpeg_reader.py:190: UserWarning: In file https://videos.nba.com/nba/pbp/media/2025/01/31/0022400684/593/f9b1f71a-f9b8-2e9c-8164-3dc536498395_1280x720.mp4, 2764800 bytes wanted but 0 bytes read at frame index 98 (out of a total 543 frames), at time 1.63/9.05 sec. Using the last valid frame instead.\n",
      "  warnings.warn(\n",
      "C:\\Users\\ronen\\AppData\\Local\\Packages\\PythonSoftwareFoundation.Python.3.11_qbz5n2kfra8p0\\LocalCache\\local-packages\\Python311\\site-packages\\moviepy\\video\\io\\ffmpeg_reader.py:190: UserWarning: In file https://videos.nba.com/nba/pbp/media/2025/01/31/0022400684/593/f9b1f71a-f9b8-2e9c-8164-3dc536498395_1280x720.mp4, 2764800 bytes wanted but 0 bytes read at frame index 100 (out of a total 543 frames), at time 1.67/9.05 sec. Using the last valid frame instead.\n",
      "  warnings.warn(\n",
      "frame_index:   4%|▎         | 52/1424 [00:01<00:41, 32.90it/s, now=None]C:\\Users\\ronen\\AppData\\Local\\Packages\\PythonSoftwareFoundation.Python.3.11_qbz5n2kfra8p0\\LocalCache\\local-packages\\Python311\\site-packages\\moviepy\\video\\io\\ffmpeg_reader.py:190: UserWarning: In file https://videos.nba.com/nba/pbp/media/2025/01/31/0022400684/593/f9b1f71a-f9b8-2e9c-8164-3dc536498395_1280x720.mp4, 2764800 bytes wanted but 0 bytes read at frame index 102 (out of a total 543 frames), at time 1.70/9.05 sec. Using the last valid frame instead.\n",
      "  warnings.warn(\n",
      "C:\\Users\\ronen\\AppData\\Local\\Packages\\PythonSoftwareFoundation.Python.3.11_qbz5n2kfra8p0\\LocalCache\\local-packages\\Python311\\site-packages\\moviepy\\video\\io\\ffmpeg_reader.py:190: UserWarning: In file https://videos.nba.com/nba/pbp/media/2025/01/31/0022400684/593/f9b1f71a-f9b8-2e9c-8164-3dc536498395_1280x720.mp4, 2764800 bytes wanted but 0 bytes read at frame index 104 (out of a total 543 frames), at time 1.73/9.05 sec. Using the last valid frame instead.\n",
      "  warnings.warn(\n",
      "C:\\Users\\ronen\\AppData\\Local\\Packages\\PythonSoftwareFoundation.Python.3.11_qbz5n2kfra8p0\\LocalCache\\local-packages\\Python311\\site-packages\\moviepy\\video\\io\\ffmpeg_reader.py:190: UserWarning: In file https://videos.nba.com/nba/pbp/media/2025/01/31/0022400684/593/f9b1f71a-f9b8-2e9c-8164-3dc536498395_1280x720.mp4, 2764800 bytes wanted but 0 bytes read at frame index 106 (out of a total 543 frames), at time 1.77/9.05 sec. Using the last valid frame instead.\n",
      "  warnings.warn(\n",
      "C:\\Users\\ronen\\AppData\\Local\\Packages\\PythonSoftwareFoundation.Python.3.11_qbz5n2kfra8p0\\LocalCache\\local-packages\\Python311\\site-packages\\moviepy\\video\\io\\ffmpeg_reader.py:190: UserWarning: In file https://videos.nba.com/nba/pbp/media/2025/01/31/0022400684/593/f9b1f71a-f9b8-2e9c-8164-3dc536498395_1280x720.mp4, 2764800 bytes wanted but 0 bytes read at frame index 108 (out of a total 543 frames), at time 1.80/9.05 sec. Using the last valid frame instead.\n",
      "  warnings.warn(\n",
      "frame_index:   4%|▍         | 56/1424 [00:01<00:41, 32.62it/s, now=None]C:\\Users\\ronen\\AppData\\Local\\Packages\\PythonSoftwareFoundation.Python.3.11_qbz5n2kfra8p0\\LocalCache\\local-packages\\Python311\\site-packages\\moviepy\\video\\io\\ffmpeg_reader.py:190: UserWarning: In file https://videos.nba.com/nba/pbp/media/2025/01/31/0022400684/593/f9b1f71a-f9b8-2e9c-8164-3dc536498395_1280x720.mp4, 2764800 bytes wanted but 0 bytes read at frame index 110 (out of a total 543 frames), at time 1.83/9.05 sec. Using the last valid frame instead.\n",
      "  warnings.warn(\n",
      "C:\\Users\\ronen\\AppData\\Local\\Packages\\PythonSoftwareFoundation.Python.3.11_qbz5n2kfra8p0\\LocalCache\\local-packages\\Python311\\site-packages\\moviepy\\video\\io\\ffmpeg_reader.py:190: UserWarning: In file https://videos.nba.com/nba/pbp/media/2025/01/31/0022400684/593/f9b1f71a-f9b8-2e9c-8164-3dc536498395_1280x720.mp4, 2764800 bytes wanted but 0 bytes read at frame index 112 (out of a total 543 frames), at time 1.87/9.05 sec. Using the last valid frame instead.\n",
      "  warnings.warn(\n",
      "C:\\Users\\ronen\\AppData\\Local\\Packages\\PythonSoftwareFoundation.Python.3.11_qbz5n2kfra8p0\\LocalCache\\local-packages\\Python311\\site-packages\\moviepy\\video\\io\\ffmpeg_reader.py:190: UserWarning: In file https://videos.nba.com/nba/pbp/media/2025/01/31/0022400684/593/f9b1f71a-f9b8-2e9c-8164-3dc536498395_1280x720.mp4, 2764800 bytes wanted but 0 bytes read at frame index 114 (out of a total 543 frames), at time 1.90/9.05 sec. Using the last valid frame instead.\n",
      "  warnings.warn(\n",
      "C:\\Users\\ronen\\AppData\\Local\\Packages\\PythonSoftwareFoundation.Python.3.11_qbz5n2kfra8p0\\LocalCache\\local-packages\\Python311\\site-packages\\moviepy\\video\\io\\ffmpeg_reader.py:190: UserWarning: In file https://videos.nba.com/nba/pbp/media/2025/01/31/0022400684/593/f9b1f71a-f9b8-2e9c-8164-3dc536498395_1280x720.mp4, 2764800 bytes wanted but 0 bytes read at frame index 116 (out of a total 543 frames), at time 1.93/9.05 sec. Using the last valid frame instead.\n",
      "  warnings.warn(\n",
      "frame_index:   4%|▍         | 60/1424 [00:01<00:40, 33.28it/s, now=None]C:\\Users\\ronen\\AppData\\Local\\Packages\\PythonSoftwareFoundation.Python.3.11_qbz5n2kfra8p0\\LocalCache\\local-packages\\Python311\\site-packages\\moviepy\\video\\io\\ffmpeg_reader.py:190: UserWarning: In file https://videos.nba.com/nba/pbp/media/2025/01/31/0022400684/593/f9b1f71a-f9b8-2e9c-8164-3dc536498395_1280x720.mp4, 2764800 bytes wanted but 0 bytes read at frame index 118 (out of a total 543 frames), at time 1.97/9.05 sec. Using the last valid frame instead.\n",
      "  warnings.warn(\n",
      "C:\\Users\\ronen\\AppData\\Local\\Packages\\PythonSoftwareFoundation.Python.3.11_qbz5n2kfra8p0\\LocalCache\\local-packages\\Python311\\site-packages\\moviepy\\video\\io\\ffmpeg_reader.py:190: UserWarning: In file https://videos.nba.com/nba/pbp/media/2025/01/31/0022400684/593/f9b1f71a-f9b8-2e9c-8164-3dc536498395_1280x720.mp4, 2764800 bytes wanted but 0 bytes read at frame index 120 (out of a total 543 frames), at time 2.00/9.05 sec. Using the last valid frame instead.\n",
      "  warnings.warn(\n",
      "C:\\Users\\ronen\\AppData\\Local\\Packages\\PythonSoftwareFoundation.Python.3.11_qbz5n2kfra8p0\\LocalCache\\local-packages\\Python311\\site-packages\\moviepy\\video\\io\\ffmpeg_reader.py:190: UserWarning: In file https://videos.nba.com/nba/pbp/media/2025/01/31/0022400684/593/f9b1f71a-f9b8-2e9c-8164-3dc536498395_1280x720.mp4, 2764800 bytes wanted but 0 bytes read at frame index 122 (out of a total 543 frames), at time 2.03/9.05 sec. Using the last valid frame instead.\n",
      "  warnings.warn(\n",
      "C:\\Users\\ronen\\AppData\\Local\\Packages\\PythonSoftwareFoundation.Python.3.11_qbz5n2kfra8p0\\LocalCache\\local-packages\\Python311\\site-packages\\moviepy\\video\\io\\ffmpeg_reader.py:190: UserWarning: In file https://videos.nba.com/nba/pbp/media/2025/01/31/0022400684/593/f9b1f71a-f9b8-2e9c-8164-3dc536498395_1280x720.mp4, 2764800 bytes wanted but 0 bytes read at frame index 124 (out of a total 543 frames), at time 2.07/9.05 sec. Using the last valid frame instead.\n",
      "  warnings.warn(\n",
      "frame_index:   4%|▍         | 64/1424 [00:01<00:41, 32.74it/s, now=None]C:\\Users\\ronen\\AppData\\Local\\Packages\\PythonSoftwareFoundation.Python.3.11_qbz5n2kfra8p0\\LocalCache\\local-packages\\Python311\\site-packages\\moviepy\\video\\io\\ffmpeg_reader.py:190: UserWarning: In file https://videos.nba.com/nba/pbp/media/2025/01/31/0022400684/593/f9b1f71a-f9b8-2e9c-8164-3dc536498395_1280x720.mp4, 2764800 bytes wanted but 0 bytes read at frame index 126 (out of a total 543 frames), at time 2.10/9.05 sec. Using the last valid frame instead.\n",
      "  warnings.warn(\n",
      "C:\\Users\\ronen\\AppData\\Local\\Packages\\PythonSoftwareFoundation.Python.3.11_qbz5n2kfra8p0\\LocalCache\\local-packages\\Python311\\site-packages\\moviepy\\video\\io\\ffmpeg_reader.py:190: UserWarning: In file https://videos.nba.com/nba/pbp/media/2025/01/31/0022400684/593/f9b1f71a-f9b8-2e9c-8164-3dc536498395_1280x720.mp4, 2764800 bytes wanted but 0 bytes read at frame index 128 (out of a total 543 frames), at time 2.13/9.05 sec. Using the last valid frame instead.\n",
      "  warnings.warn(\n",
      "C:\\Users\\ronen\\AppData\\Local\\Packages\\PythonSoftwareFoundation.Python.3.11_qbz5n2kfra8p0\\LocalCache\\local-packages\\Python311\\site-packages\\moviepy\\video\\io\\ffmpeg_reader.py:190: UserWarning: In file https://videos.nba.com/nba/pbp/media/2025/01/31/0022400684/593/f9b1f71a-f9b8-2e9c-8164-3dc536498395_1280x720.mp4, 2764800 bytes wanted but 0 bytes read at frame index 130 (out of a total 543 frames), at time 2.17/9.05 sec. Using the last valid frame instead.\n",
      "  warnings.warn(\n",
      "C:\\Users\\ronen\\AppData\\Local\\Packages\\PythonSoftwareFoundation.Python.3.11_qbz5n2kfra8p0\\LocalCache\\local-packages\\Python311\\site-packages\\moviepy\\video\\io\\ffmpeg_reader.py:190: UserWarning: In file https://videos.nba.com/nba/pbp/media/2025/01/31/0022400684/593/f9b1f71a-f9b8-2e9c-8164-3dc536498395_1280x720.mp4, 2764800 bytes wanted but 0 bytes read at frame index 132 (out of a total 543 frames), at time 2.20/9.05 sec. Using the last valid frame instead.\n",
      "  warnings.warn(\n",
      "frame_index:   5%|▍         | 68/1424 [00:02<00:41, 32.49it/s, now=None]C:\\Users\\ronen\\AppData\\Local\\Packages\\PythonSoftwareFoundation.Python.3.11_qbz5n2kfra8p0\\LocalCache\\local-packages\\Python311\\site-packages\\moviepy\\video\\io\\ffmpeg_reader.py:190: UserWarning: In file https://videos.nba.com/nba/pbp/media/2025/01/31/0022400684/593/f9b1f71a-f9b8-2e9c-8164-3dc536498395_1280x720.mp4, 2764800 bytes wanted but 0 bytes read at frame index 134 (out of a total 543 frames), at time 2.23/9.05 sec. Using the last valid frame instead.\n",
      "  warnings.warn(\n",
      "C:\\Users\\ronen\\AppData\\Local\\Packages\\PythonSoftwareFoundation.Python.3.11_qbz5n2kfra8p0\\LocalCache\\local-packages\\Python311\\site-packages\\moviepy\\video\\io\\ffmpeg_reader.py:190: UserWarning: In file https://videos.nba.com/nba/pbp/media/2025/01/31/0022400684/593/f9b1f71a-f9b8-2e9c-8164-3dc536498395_1280x720.mp4, 2764800 bytes wanted but 0 bytes read at frame index 136 (out of a total 543 frames), at time 2.27/9.05 sec. Using the last valid frame instead.\n",
      "  warnings.warn(\n",
      "C:\\Users\\ronen\\AppData\\Local\\Packages\\PythonSoftwareFoundation.Python.3.11_qbz5n2kfra8p0\\LocalCache\\local-packages\\Python311\\site-packages\\moviepy\\video\\io\\ffmpeg_reader.py:190: UserWarning: In file https://videos.nba.com/nba/pbp/media/2025/01/31/0022400684/593/f9b1f71a-f9b8-2e9c-8164-3dc536498395_1280x720.mp4, 2764800 bytes wanted but 0 bytes read at frame index 138 (out of a total 543 frames), at time 2.30/9.05 sec. Using the last valid frame instead.\n",
      "  warnings.warn(\n",
      "C:\\Users\\ronen\\AppData\\Local\\Packages\\PythonSoftwareFoundation.Python.3.11_qbz5n2kfra8p0\\LocalCache\\local-packages\\Python311\\site-packages\\moviepy\\video\\io\\ffmpeg_reader.py:190: UserWarning: In file https://videos.nba.com/nba/pbp/media/2025/01/31/0022400684/593/f9b1f71a-f9b8-2e9c-8164-3dc536498395_1280x720.mp4, 2764800 bytes wanted but 0 bytes read at frame index 140 (out of a total 543 frames), at time 2.33/9.05 sec. Using the last valid frame instead.\n",
      "  warnings.warn(\n",
      "frame_index:   5%|▌         | 72/1424 [00:02<00:41, 32.85it/s, now=None]C:\\Users\\ronen\\AppData\\Local\\Packages\\PythonSoftwareFoundation.Python.3.11_qbz5n2kfra8p0\\LocalCache\\local-packages\\Python311\\site-packages\\moviepy\\video\\io\\ffmpeg_reader.py:190: UserWarning: In file https://videos.nba.com/nba/pbp/media/2025/01/31/0022400684/593/f9b1f71a-f9b8-2e9c-8164-3dc536498395_1280x720.mp4, 2764800 bytes wanted but 0 bytes read at frame index 142 (out of a total 543 frames), at time 2.37/9.05 sec. Using the last valid frame instead.\n",
      "  warnings.warn(\n",
      "C:\\Users\\ronen\\AppData\\Local\\Packages\\PythonSoftwareFoundation.Python.3.11_qbz5n2kfra8p0\\LocalCache\\local-packages\\Python311\\site-packages\\moviepy\\video\\io\\ffmpeg_reader.py:190: UserWarning: In file https://videos.nba.com/nba/pbp/media/2025/01/31/0022400684/593/f9b1f71a-f9b8-2e9c-8164-3dc536498395_1280x720.mp4, 2764800 bytes wanted but 0 bytes read at frame index 144 (out of a total 543 frames), at time 2.40/9.05 sec. Using the last valid frame instead.\n",
      "  warnings.warn(\n",
      "C:\\Users\\ronen\\AppData\\Local\\Packages\\PythonSoftwareFoundation.Python.3.11_qbz5n2kfra8p0\\LocalCache\\local-packages\\Python311\\site-packages\\moviepy\\video\\io\\ffmpeg_reader.py:190: UserWarning: In file https://videos.nba.com/nba/pbp/media/2025/01/31/0022400684/593/f9b1f71a-f9b8-2e9c-8164-3dc536498395_1280x720.mp4, 2764800 bytes wanted but 0 bytes read at frame index 146 (out of a total 543 frames), at time 2.43/9.05 sec. Using the last valid frame instead.\n",
      "  warnings.warn(\n",
      "C:\\Users\\ronen\\AppData\\Local\\Packages\\PythonSoftwareFoundation.Python.3.11_qbz5n2kfra8p0\\LocalCache\\local-packages\\Python311\\site-packages\\moviepy\\video\\io\\ffmpeg_reader.py:190: UserWarning: In file https://videos.nba.com/nba/pbp/media/2025/01/31/0022400684/593/f9b1f71a-f9b8-2e9c-8164-3dc536498395_1280x720.mp4, 2764800 bytes wanted but 0 bytes read at frame index 148 (out of a total 543 frames), at time 2.47/9.05 sec. Using the last valid frame instead.\n",
      "  warnings.warn(\n",
      "frame_index:   5%|▌         | 76/1424 [00:02<00:40, 33.20it/s, now=None]C:\\Users\\ronen\\AppData\\Local\\Packages\\PythonSoftwareFoundation.Python.3.11_qbz5n2kfra8p0\\LocalCache\\local-packages\\Python311\\site-packages\\moviepy\\video\\io\\ffmpeg_reader.py:190: UserWarning: In file https://videos.nba.com/nba/pbp/media/2025/01/31/0022400684/593/f9b1f71a-f9b8-2e9c-8164-3dc536498395_1280x720.mp4, 2764800 bytes wanted but 0 bytes read at frame index 150 (out of a total 543 frames), at time 2.50/9.05 sec. Using the last valid frame instead.\n",
      "  warnings.warn(\n",
      "C:\\Users\\ronen\\AppData\\Local\\Packages\\PythonSoftwareFoundation.Python.3.11_qbz5n2kfra8p0\\LocalCache\\local-packages\\Python311\\site-packages\\moviepy\\video\\io\\ffmpeg_reader.py:190: UserWarning: In file https://videos.nba.com/nba/pbp/media/2025/01/31/0022400684/593/f9b1f71a-f9b8-2e9c-8164-3dc536498395_1280x720.mp4, 2764800 bytes wanted but 0 bytes read at frame index 152 (out of a total 543 frames), at time 2.53/9.05 sec. Using the last valid frame instead.\n",
      "  warnings.warn(\n",
      "C:\\Users\\ronen\\AppData\\Local\\Packages\\PythonSoftwareFoundation.Python.3.11_qbz5n2kfra8p0\\LocalCache\\local-packages\\Python311\\site-packages\\moviepy\\video\\io\\ffmpeg_reader.py:190: UserWarning: In file https://videos.nba.com/nba/pbp/media/2025/01/31/0022400684/593/f9b1f71a-f9b8-2e9c-8164-3dc536498395_1280x720.mp4, 2764800 bytes wanted but 0 bytes read at frame index 154 (out of a total 543 frames), at time 2.57/9.05 sec. Using the last valid frame instead.\n",
      "  warnings.warn(\n",
      "C:\\Users\\ronen\\AppData\\Local\\Packages\\PythonSoftwareFoundation.Python.3.11_qbz5n2kfra8p0\\LocalCache\\local-packages\\Python311\\site-packages\\moviepy\\video\\io\\ffmpeg_reader.py:190: UserWarning: In file https://videos.nba.com/nba/pbp/media/2025/01/31/0022400684/593/f9b1f71a-f9b8-2e9c-8164-3dc536498395_1280x720.mp4, 2764800 bytes wanted but 0 bytes read at frame index 156 (out of a total 543 frames), at time 2.60/9.05 sec. Using the last valid frame instead.\n",
      "  warnings.warn(\n",
      "frame_index:   6%|▌         | 80/1424 [00:02<00:42, 31.86it/s, now=None]C:\\Users\\ronen\\AppData\\Local\\Packages\\PythonSoftwareFoundation.Python.3.11_qbz5n2kfra8p0\\LocalCache\\local-packages\\Python311\\site-packages\\moviepy\\video\\io\\ffmpeg_reader.py:190: UserWarning: In file https://videos.nba.com/nba/pbp/media/2025/01/31/0022400684/593/f9b1f71a-f9b8-2e9c-8164-3dc536498395_1280x720.mp4, 2764800 bytes wanted but 0 bytes read at frame index 158 (out of a total 543 frames), at time 2.63/9.05 sec. Using the last valid frame instead.\n",
      "  warnings.warn(\n",
      "C:\\Users\\ronen\\AppData\\Local\\Packages\\PythonSoftwareFoundation.Python.3.11_qbz5n2kfra8p0\\LocalCache\\local-packages\\Python311\\site-packages\\moviepy\\video\\io\\ffmpeg_reader.py:190: UserWarning: In file https://videos.nba.com/nba/pbp/media/2025/01/31/0022400684/593/f9b1f71a-f9b8-2e9c-8164-3dc536498395_1280x720.mp4, 2764800 bytes wanted but 0 bytes read at frame index 160 (out of a total 543 frames), at time 2.67/9.05 sec. Using the last valid frame instead.\n",
      "  warnings.warn(\n",
      "C:\\Users\\ronen\\AppData\\Local\\Packages\\PythonSoftwareFoundation.Python.3.11_qbz5n2kfra8p0\\LocalCache\\local-packages\\Python311\\site-packages\\moviepy\\video\\io\\ffmpeg_reader.py:190: UserWarning: In file https://videos.nba.com/nba/pbp/media/2025/01/31/0022400684/593/f9b1f71a-f9b8-2e9c-8164-3dc536498395_1280x720.mp4, 2764800 bytes wanted but 0 bytes read at frame index 162 (out of a total 543 frames), at time 2.70/9.05 sec. Using the last valid frame instead.\n",
      "  warnings.warn(\n",
      "C:\\Users\\ronen\\AppData\\Local\\Packages\\PythonSoftwareFoundation.Python.3.11_qbz5n2kfra8p0\\LocalCache\\local-packages\\Python311\\site-packages\\moviepy\\video\\io\\ffmpeg_reader.py:190: UserWarning: In file https://videos.nba.com/nba/pbp/media/2025/01/31/0022400684/593/f9b1f71a-f9b8-2e9c-8164-3dc536498395_1280x720.mp4, 2764800 bytes wanted but 0 bytes read at frame index 164 (out of a total 543 frames), at time 2.73/9.05 sec. Using the last valid frame instead.\n",
      "  warnings.warn(\n",
      "frame_index:   6%|▌         | 84/1424 [00:02<00:42, 31.79it/s, now=None]C:\\Users\\ronen\\AppData\\Local\\Packages\\PythonSoftwareFoundation.Python.3.11_qbz5n2kfra8p0\\LocalCache\\local-packages\\Python311\\site-packages\\moviepy\\video\\io\\ffmpeg_reader.py:190: UserWarning: In file https://videos.nba.com/nba/pbp/media/2025/01/31/0022400684/593/f9b1f71a-f9b8-2e9c-8164-3dc536498395_1280x720.mp4, 2764800 bytes wanted but 0 bytes read at frame index 166 (out of a total 543 frames), at time 2.77/9.05 sec. Using the last valid frame instead.\n",
      "  warnings.warn(\n",
      "C:\\Users\\ronen\\AppData\\Local\\Packages\\PythonSoftwareFoundation.Python.3.11_qbz5n2kfra8p0\\LocalCache\\local-packages\\Python311\\site-packages\\moviepy\\video\\io\\ffmpeg_reader.py:190: UserWarning: In file https://videos.nba.com/nba/pbp/media/2025/01/31/0022400684/593/f9b1f71a-f9b8-2e9c-8164-3dc536498395_1280x720.mp4, 2764800 bytes wanted but 0 bytes read at frame index 168 (out of a total 543 frames), at time 2.80/9.05 sec. Using the last valid frame instead.\n",
      "  warnings.warn(\n",
      "C:\\Users\\ronen\\AppData\\Local\\Packages\\PythonSoftwareFoundation.Python.3.11_qbz5n2kfra8p0\\LocalCache\\local-packages\\Python311\\site-packages\\moviepy\\video\\io\\ffmpeg_reader.py:190: UserWarning: In file https://videos.nba.com/nba/pbp/media/2025/01/31/0022400684/593/f9b1f71a-f9b8-2e9c-8164-3dc536498395_1280x720.mp4, 2764800 bytes wanted but 0 bytes read at frame index 170 (out of a total 543 frames), at time 2.83/9.05 sec. Using the last valid frame instead.\n",
      "  warnings.warn(\n",
      "C:\\Users\\ronen\\AppData\\Local\\Packages\\PythonSoftwareFoundation.Python.3.11_qbz5n2kfra8p0\\LocalCache\\local-packages\\Python311\\site-packages\\moviepy\\video\\io\\ffmpeg_reader.py:190: UserWarning: In file https://videos.nba.com/nba/pbp/media/2025/01/31/0022400684/593/f9b1f71a-f9b8-2e9c-8164-3dc536498395_1280x720.mp4, 2764800 bytes wanted but 0 bytes read at frame index 172 (out of a total 543 frames), at time 2.87/9.05 sec. Using the last valid frame instead.\n",
      "  warnings.warn(\n",
      "frame_index:   6%|▌         | 88/1424 [00:02<00:41, 31.86it/s, now=None]C:\\Users\\ronen\\AppData\\Local\\Packages\\PythonSoftwareFoundation.Python.3.11_qbz5n2kfra8p0\\LocalCache\\local-packages\\Python311\\site-packages\\moviepy\\video\\io\\ffmpeg_reader.py:190: UserWarning: In file https://videos.nba.com/nba/pbp/media/2025/01/31/0022400684/593/f9b1f71a-f9b8-2e9c-8164-3dc536498395_1280x720.mp4, 2764800 bytes wanted but 0 bytes read at frame index 174 (out of a total 543 frames), at time 2.90/9.05 sec. Using the last valid frame instead.\n",
      "  warnings.warn(\n",
      "C:\\Users\\ronen\\AppData\\Local\\Packages\\PythonSoftwareFoundation.Python.3.11_qbz5n2kfra8p0\\LocalCache\\local-packages\\Python311\\site-packages\\moviepy\\video\\io\\ffmpeg_reader.py:190: UserWarning: In file https://videos.nba.com/nba/pbp/media/2025/01/31/0022400684/593/f9b1f71a-f9b8-2e9c-8164-3dc536498395_1280x720.mp4, 2764800 bytes wanted but 0 bytes read at frame index 176 (out of a total 543 frames), at time 2.93/9.05 sec. Using the last valid frame instead.\n",
      "  warnings.warn(\n",
      "C:\\Users\\ronen\\AppData\\Local\\Packages\\PythonSoftwareFoundation.Python.3.11_qbz5n2kfra8p0\\LocalCache\\local-packages\\Python311\\site-packages\\moviepy\\video\\io\\ffmpeg_reader.py:190: UserWarning: In file https://videos.nba.com/nba/pbp/media/2025/01/31/0022400684/593/f9b1f71a-f9b8-2e9c-8164-3dc536498395_1280x720.mp4, 2764800 bytes wanted but 0 bytes read at frame index 178 (out of a total 543 frames), at time 2.97/9.05 sec. Using the last valid frame instead.\n",
      "  warnings.warn(\n",
      "C:\\Users\\ronen\\AppData\\Local\\Packages\\PythonSoftwareFoundation.Python.3.11_qbz5n2kfra8p0\\LocalCache\\local-packages\\Python311\\site-packages\\moviepy\\video\\io\\ffmpeg_reader.py:190: UserWarning: In file https://videos.nba.com/nba/pbp/media/2025/01/31/0022400684/593/f9b1f71a-f9b8-2e9c-8164-3dc536498395_1280x720.mp4, 2764800 bytes wanted but 0 bytes read at frame index 180 (out of a total 543 frames), at time 3.00/9.05 sec. Using the last valid frame instead.\n",
      "  warnings.warn(\n",
      "frame_index:   6%|▋         | 92/1424 [00:02<00:41, 32.42it/s, now=None]C:\\Users\\ronen\\AppData\\Local\\Packages\\PythonSoftwareFoundation.Python.3.11_qbz5n2kfra8p0\\LocalCache\\local-packages\\Python311\\site-packages\\moviepy\\video\\io\\ffmpeg_reader.py:190: UserWarning: In file https://videos.nba.com/nba/pbp/media/2025/01/31/0022400684/593/f9b1f71a-f9b8-2e9c-8164-3dc536498395_1280x720.mp4, 2764800 bytes wanted but 0 bytes read at frame index 182 (out of a total 543 frames), at time 3.03/9.05 sec. Using the last valid frame instead.\n",
      "  warnings.warn(\n",
      "C:\\Users\\ronen\\AppData\\Local\\Packages\\PythonSoftwareFoundation.Python.3.11_qbz5n2kfra8p0\\LocalCache\\local-packages\\Python311\\site-packages\\moviepy\\video\\io\\ffmpeg_reader.py:190: UserWarning: In file https://videos.nba.com/nba/pbp/media/2025/01/31/0022400684/593/f9b1f71a-f9b8-2e9c-8164-3dc536498395_1280x720.mp4, 2764800 bytes wanted but 0 bytes read at frame index 184 (out of a total 543 frames), at time 3.07/9.05 sec. Using the last valid frame instead.\n",
      "  warnings.warn(\n",
      "C:\\Users\\ronen\\AppData\\Local\\Packages\\PythonSoftwareFoundation.Python.3.11_qbz5n2kfra8p0\\LocalCache\\local-packages\\Python311\\site-packages\\moviepy\\video\\io\\ffmpeg_reader.py:190: UserWarning: In file https://videos.nba.com/nba/pbp/media/2025/01/31/0022400684/593/f9b1f71a-f9b8-2e9c-8164-3dc536498395_1280x720.mp4, 2764800 bytes wanted but 0 bytes read at frame index 186 (out of a total 543 frames), at time 3.10/9.05 sec. Using the last valid frame instead.\n",
      "  warnings.warn(\n",
      "C:\\Users\\ronen\\AppData\\Local\\Packages\\PythonSoftwareFoundation.Python.3.11_qbz5n2kfra8p0\\LocalCache\\local-packages\\Python311\\site-packages\\moviepy\\video\\io\\ffmpeg_reader.py:190: UserWarning: In file https://videos.nba.com/nba/pbp/media/2025/01/31/0022400684/593/f9b1f71a-f9b8-2e9c-8164-3dc536498395_1280x720.mp4, 2764800 bytes wanted but 0 bytes read at frame index 188 (out of a total 543 frames), at time 3.13/9.05 sec. Using the last valid frame instead.\n",
      "  warnings.warn(\n",
      "frame_index:   7%|▋         | 96/1424 [00:02<00:40, 32.73it/s, now=None]C:\\Users\\ronen\\AppData\\Local\\Packages\\PythonSoftwareFoundation.Python.3.11_qbz5n2kfra8p0\\LocalCache\\local-packages\\Python311\\site-packages\\moviepy\\video\\io\\ffmpeg_reader.py:190: UserWarning: In file https://videos.nba.com/nba/pbp/media/2025/01/31/0022400684/593/f9b1f71a-f9b8-2e9c-8164-3dc536498395_1280x720.mp4, 2764800 bytes wanted but 0 bytes read at frame index 190 (out of a total 543 frames), at time 3.17/9.05 sec. Using the last valid frame instead.\n",
      "  warnings.warn(\n",
      "C:\\Users\\ronen\\AppData\\Local\\Packages\\PythonSoftwareFoundation.Python.3.11_qbz5n2kfra8p0\\LocalCache\\local-packages\\Python311\\site-packages\\moviepy\\video\\io\\ffmpeg_reader.py:190: UserWarning: In file https://videos.nba.com/nba/pbp/media/2025/01/31/0022400684/593/f9b1f71a-f9b8-2e9c-8164-3dc536498395_1280x720.mp4, 2764800 bytes wanted but 0 bytes read at frame index 192 (out of a total 543 frames), at time 3.20/9.05 sec. Using the last valid frame instead.\n",
      "  warnings.warn(\n",
      "C:\\Users\\ronen\\AppData\\Local\\Packages\\PythonSoftwareFoundation.Python.3.11_qbz5n2kfra8p0\\LocalCache\\local-packages\\Python311\\site-packages\\moviepy\\video\\io\\ffmpeg_reader.py:190: UserWarning: In file https://videos.nba.com/nba/pbp/media/2025/01/31/0022400684/593/f9b1f71a-f9b8-2e9c-8164-3dc536498395_1280x720.mp4, 2764800 bytes wanted but 0 bytes read at frame index 194 (out of a total 543 frames), at time 3.23/9.05 sec. Using the last valid frame instead.\n",
      "  warnings.warn(\n",
      "C:\\Users\\ronen\\AppData\\Local\\Packages\\PythonSoftwareFoundation.Python.3.11_qbz5n2kfra8p0\\LocalCache\\local-packages\\Python311\\site-packages\\moviepy\\video\\io\\ffmpeg_reader.py:190: UserWarning: In file https://videos.nba.com/nba/pbp/media/2025/01/31/0022400684/593/f9b1f71a-f9b8-2e9c-8164-3dc536498395_1280x720.mp4, 2764800 bytes wanted but 0 bytes read at frame index 196 (out of a total 543 frames), at time 3.27/9.05 sec. Using the last valid frame instead.\n",
      "  warnings.warn(\n",
      "frame_index:   7%|▋         | 100/1424 [00:03<00:42, 31.25it/s, now=None]C:\\Users\\ronen\\AppData\\Local\\Packages\\PythonSoftwareFoundation.Python.3.11_qbz5n2kfra8p0\\LocalCache\\local-packages\\Python311\\site-packages\\moviepy\\video\\io\\ffmpeg_reader.py:190: UserWarning: In file https://videos.nba.com/nba/pbp/media/2025/01/31/0022400684/593/f9b1f71a-f9b8-2e9c-8164-3dc536498395_1280x720.mp4, 2764800 bytes wanted but 0 bytes read at frame index 198 (out of a total 543 frames), at time 3.30/9.05 sec. Using the last valid frame instead.\n",
      "  warnings.warn(\n",
      "C:\\Users\\ronen\\AppData\\Local\\Packages\\PythonSoftwareFoundation.Python.3.11_qbz5n2kfra8p0\\LocalCache\\local-packages\\Python311\\site-packages\\moviepy\\video\\io\\ffmpeg_reader.py:190: UserWarning: In file https://videos.nba.com/nba/pbp/media/2025/01/31/0022400684/593/f9b1f71a-f9b8-2e9c-8164-3dc536498395_1280x720.mp4, 2764800 bytes wanted but 0 bytes read at frame index 200 (out of a total 543 frames), at time 3.33/9.05 sec. Using the last valid frame instead.\n",
      "  warnings.warn(\n",
      "C:\\Users\\ronen\\AppData\\Local\\Packages\\PythonSoftwareFoundation.Python.3.11_qbz5n2kfra8p0\\LocalCache\\local-packages\\Python311\\site-packages\\moviepy\\video\\io\\ffmpeg_reader.py:190: UserWarning: In file https://videos.nba.com/nba/pbp/media/2025/01/31/0022400684/593/f9b1f71a-f9b8-2e9c-8164-3dc536498395_1280x720.mp4, 2764800 bytes wanted but 0 bytes read at frame index 202 (out of a total 543 frames), at time 3.37/9.05 sec. Using the last valid frame instead.\n",
      "  warnings.warn(\n",
      "C:\\Users\\ronen\\AppData\\Local\\Packages\\PythonSoftwareFoundation.Python.3.11_qbz5n2kfra8p0\\LocalCache\\local-packages\\Python311\\site-packages\\moviepy\\video\\io\\ffmpeg_reader.py:190: UserWarning: In file https://videos.nba.com/nba/pbp/media/2025/01/31/0022400684/593/f9b1f71a-f9b8-2e9c-8164-3dc536498395_1280x720.mp4, 2764800 bytes wanted but 0 bytes read at frame index 204 (out of a total 543 frames), at time 3.40/9.05 sec. Using the last valid frame instead.\n",
      "  warnings.warn(\n",
      "frame_index:   7%|▋         | 104/1424 [00:03<00:40, 32.69it/s, now=None]C:\\Users\\ronen\\AppData\\Local\\Packages\\PythonSoftwareFoundation.Python.3.11_qbz5n2kfra8p0\\LocalCache\\local-packages\\Python311\\site-packages\\moviepy\\video\\io\\ffmpeg_reader.py:190: UserWarning: In file https://videos.nba.com/nba/pbp/media/2025/01/31/0022400684/593/f9b1f71a-f9b8-2e9c-8164-3dc536498395_1280x720.mp4, 2764800 bytes wanted but 0 bytes read at frame index 206 (out of a total 543 frames), at time 3.43/9.05 sec. Using the last valid frame instead.\n",
      "  warnings.warn(\n",
      "C:\\Users\\ronen\\AppData\\Local\\Packages\\PythonSoftwareFoundation.Python.3.11_qbz5n2kfra8p0\\LocalCache\\local-packages\\Python311\\site-packages\\moviepy\\video\\io\\ffmpeg_reader.py:190: UserWarning: In file https://videos.nba.com/nba/pbp/media/2025/01/31/0022400684/593/f9b1f71a-f9b8-2e9c-8164-3dc536498395_1280x720.mp4, 2764800 bytes wanted but 0 bytes read at frame index 208 (out of a total 543 frames), at time 3.47/9.05 sec. Using the last valid frame instead.\n",
      "  warnings.warn(\n",
      "C:\\Users\\ronen\\AppData\\Local\\Packages\\PythonSoftwareFoundation.Python.3.11_qbz5n2kfra8p0\\LocalCache\\local-packages\\Python311\\site-packages\\moviepy\\video\\io\\ffmpeg_reader.py:190: UserWarning: In file https://videos.nba.com/nba/pbp/media/2025/01/31/0022400684/593/f9b1f71a-f9b8-2e9c-8164-3dc536498395_1280x720.mp4, 2764800 bytes wanted but 0 bytes read at frame index 210 (out of a total 543 frames), at time 3.50/9.05 sec. Using the last valid frame instead.\n",
      "  warnings.warn(\n",
      "C:\\Users\\ronen\\AppData\\Local\\Packages\\PythonSoftwareFoundation.Python.3.11_qbz5n2kfra8p0\\LocalCache\\local-packages\\Python311\\site-packages\\moviepy\\video\\io\\ffmpeg_reader.py:190: UserWarning: In file https://videos.nba.com/nba/pbp/media/2025/01/31/0022400684/593/f9b1f71a-f9b8-2e9c-8164-3dc536498395_1280x720.mp4, 2764800 bytes wanted but 0 bytes read at frame index 212 (out of a total 543 frames), at time 3.53/9.05 sec. Using the last valid frame instead.\n",
      "  warnings.warn(\n",
      "frame_index:   8%|▊         | 108/1424 [00:03<00:39, 33.42it/s, now=None]C:\\Users\\ronen\\AppData\\Local\\Packages\\PythonSoftwareFoundation.Python.3.11_qbz5n2kfra8p0\\LocalCache\\local-packages\\Python311\\site-packages\\moviepy\\video\\io\\ffmpeg_reader.py:190: UserWarning: In file https://videos.nba.com/nba/pbp/media/2025/01/31/0022400684/593/f9b1f71a-f9b8-2e9c-8164-3dc536498395_1280x720.mp4, 2764800 bytes wanted but 0 bytes read at frame index 214 (out of a total 543 frames), at time 3.57/9.05 sec. Using the last valid frame instead.\n",
      "  warnings.warn(\n",
      "C:\\Users\\ronen\\AppData\\Local\\Packages\\PythonSoftwareFoundation.Python.3.11_qbz5n2kfra8p0\\LocalCache\\local-packages\\Python311\\site-packages\\moviepy\\video\\io\\ffmpeg_reader.py:190: UserWarning: In file https://videos.nba.com/nba/pbp/media/2025/01/31/0022400684/593/f9b1f71a-f9b8-2e9c-8164-3dc536498395_1280x720.mp4, 2764800 bytes wanted but 0 bytes read at frame index 216 (out of a total 543 frames), at time 3.60/9.05 sec. Using the last valid frame instead.\n",
      "  warnings.warn(\n",
      "C:\\Users\\ronen\\AppData\\Local\\Packages\\PythonSoftwareFoundation.Python.3.11_qbz5n2kfra8p0\\LocalCache\\local-packages\\Python311\\site-packages\\moviepy\\video\\io\\ffmpeg_reader.py:190: UserWarning: In file https://videos.nba.com/nba/pbp/media/2025/01/31/0022400684/593/f9b1f71a-f9b8-2e9c-8164-3dc536498395_1280x720.mp4, 2764800 bytes wanted but 0 bytes read at frame index 218 (out of a total 543 frames), at time 3.63/9.05 sec. Using the last valid frame instead.\n",
      "  warnings.warn(\n",
      "C:\\Users\\ronen\\AppData\\Local\\Packages\\PythonSoftwareFoundation.Python.3.11_qbz5n2kfra8p0\\LocalCache\\local-packages\\Python311\\site-packages\\moviepy\\video\\io\\ffmpeg_reader.py:190: UserWarning: In file https://videos.nba.com/nba/pbp/media/2025/01/31/0022400684/593/f9b1f71a-f9b8-2e9c-8164-3dc536498395_1280x720.mp4, 2764800 bytes wanted but 0 bytes read at frame index 220 (out of a total 543 frames), at time 3.67/9.05 sec. Using the last valid frame instead.\n",
      "  warnings.warn(\n",
      "frame_index:   8%|▊         | 112/1424 [00:03<00:40, 32.46it/s, now=None]C:\\Users\\ronen\\AppData\\Local\\Packages\\PythonSoftwareFoundation.Python.3.11_qbz5n2kfra8p0\\LocalCache\\local-packages\\Python311\\site-packages\\moviepy\\video\\io\\ffmpeg_reader.py:190: UserWarning: In file https://videos.nba.com/nba/pbp/media/2025/01/31/0022400684/593/f9b1f71a-f9b8-2e9c-8164-3dc536498395_1280x720.mp4, 2764800 bytes wanted but 0 bytes read at frame index 222 (out of a total 543 frames), at time 3.70/9.05 sec. Using the last valid frame instead.\n",
      "  warnings.warn(\n",
      "C:\\Users\\ronen\\AppData\\Local\\Packages\\PythonSoftwareFoundation.Python.3.11_qbz5n2kfra8p0\\LocalCache\\local-packages\\Python311\\site-packages\\moviepy\\video\\io\\ffmpeg_reader.py:190: UserWarning: In file https://videos.nba.com/nba/pbp/media/2025/01/31/0022400684/593/f9b1f71a-f9b8-2e9c-8164-3dc536498395_1280x720.mp4, 2764800 bytes wanted but 0 bytes read at frame index 224 (out of a total 543 frames), at time 3.73/9.05 sec. Using the last valid frame instead.\n",
      "  warnings.warn(\n",
      "C:\\Users\\ronen\\AppData\\Local\\Packages\\PythonSoftwareFoundation.Python.3.11_qbz5n2kfra8p0\\LocalCache\\local-packages\\Python311\\site-packages\\moviepy\\video\\io\\ffmpeg_reader.py:190: UserWarning: In file https://videos.nba.com/nba/pbp/media/2025/01/31/0022400684/593/f9b1f71a-f9b8-2e9c-8164-3dc536498395_1280x720.mp4, 2764800 bytes wanted but 0 bytes read at frame index 226 (out of a total 543 frames), at time 3.77/9.05 sec. Using the last valid frame instead.\n",
      "  warnings.warn(\n",
      "C:\\Users\\ronen\\AppData\\Local\\Packages\\PythonSoftwareFoundation.Python.3.11_qbz5n2kfra8p0\\LocalCache\\local-packages\\Python311\\site-packages\\moviepy\\video\\io\\ffmpeg_reader.py:190: UserWarning: In file https://videos.nba.com/nba/pbp/media/2025/01/31/0022400684/593/f9b1f71a-f9b8-2e9c-8164-3dc536498395_1280x720.mp4, 2764800 bytes wanted but 0 bytes read at frame index 228 (out of a total 543 frames), at time 3.80/9.05 sec. Using the last valid frame instead.\n",
      "  warnings.warn(\n",
      "frame_index:   8%|▊         | 116/1424 [00:03<00:40, 32.22it/s, now=None]C:\\Users\\ronen\\AppData\\Local\\Packages\\PythonSoftwareFoundation.Python.3.11_qbz5n2kfra8p0\\LocalCache\\local-packages\\Python311\\site-packages\\moviepy\\video\\io\\ffmpeg_reader.py:190: UserWarning: In file https://videos.nba.com/nba/pbp/media/2025/01/31/0022400684/593/f9b1f71a-f9b8-2e9c-8164-3dc536498395_1280x720.mp4, 2764800 bytes wanted but 0 bytes read at frame index 230 (out of a total 543 frames), at time 3.83/9.05 sec. Using the last valid frame instead.\n",
      "  warnings.warn(\n",
      "C:\\Users\\ronen\\AppData\\Local\\Packages\\PythonSoftwareFoundation.Python.3.11_qbz5n2kfra8p0\\LocalCache\\local-packages\\Python311\\site-packages\\moviepy\\video\\io\\ffmpeg_reader.py:190: UserWarning: In file https://videos.nba.com/nba/pbp/media/2025/01/31/0022400684/593/f9b1f71a-f9b8-2e9c-8164-3dc536498395_1280x720.mp4, 2764800 bytes wanted but 0 bytes read at frame index 232 (out of a total 543 frames), at time 3.87/9.05 sec. Using the last valid frame instead.\n",
      "  warnings.warn(\n",
      "C:\\Users\\ronen\\AppData\\Local\\Packages\\PythonSoftwareFoundation.Python.3.11_qbz5n2kfra8p0\\LocalCache\\local-packages\\Python311\\site-packages\\moviepy\\video\\io\\ffmpeg_reader.py:190: UserWarning: In file https://videos.nba.com/nba/pbp/media/2025/01/31/0022400684/593/f9b1f71a-f9b8-2e9c-8164-3dc536498395_1280x720.mp4, 2764800 bytes wanted but 0 bytes read at frame index 234 (out of a total 543 frames), at time 3.90/9.05 sec. Using the last valid frame instead.\n",
      "  warnings.warn(\n",
      "C:\\Users\\ronen\\AppData\\Local\\Packages\\PythonSoftwareFoundation.Python.3.11_qbz5n2kfra8p0\\LocalCache\\local-packages\\Python311\\site-packages\\moviepy\\video\\io\\ffmpeg_reader.py:190: UserWarning: In file https://videos.nba.com/nba/pbp/media/2025/01/31/0022400684/593/f9b1f71a-f9b8-2e9c-8164-3dc536498395_1280x720.mp4, 2764800 bytes wanted but 0 bytes read at frame index 236 (out of a total 543 frames), at time 3.93/9.05 sec. Using the last valid frame instead.\n",
      "  warnings.warn(\n",
      "frame_index:   8%|▊         | 120/1424 [00:03<00:40, 32.19it/s, now=None]C:\\Users\\ronen\\AppData\\Local\\Packages\\PythonSoftwareFoundation.Python.3.11_qbz5n2kfra8p0\\LocalCache\\local-packages\\Python311\\site-packages\\moviepy\\video\\io\\ffmpeg_reader.py:190: UserWarning: In file https://videos.nba.com/nba/pbp/media/2025/01/31/0022400684/593/f9b1f71a-f9b8-2e9c-8164-3dc536498395_1280x720.mp4, 2764800 bytes wanted but 0 bytes read at frame index 238 (out of a total 543 frames), at time 3.97/9.05 sec. Using the last valid frame instead.\n",
      "  warnings.warn(\n",
      "C:\\Users\\ronen\\AppData\\Local\\Packages\\PythonSoftwareFoundation.Python.3.11_qbz5n2kfra8p0\\LocalCache\\local-packages\\Python311\\site-packages\\moviepy\\video\\io\\ffmpeg_reader.py:190: UserWarning: In file https://videos.nba.com/nba/pbp/media/2025/01/31/0022400684/593/f9b1f71a-f9b8-2e9c-8164-3dc536498395_1280x720.mp4, 2764800 bytes wanted but 0 bytes read at frame index 240 (out of a total 543 frames), at time 4.00/9.05 sec. Using the last valid frame instead.\n",
      "  warnings.warn(\n",
      "C:\\Users\\ronen\\AppData\\Local\\Packages\\PythonSoftwareFoundation.Python.3.11_qbz5n2kfra8p0\\LocalCache\\local-packages\\Python311\\site-packages\\moviepy\\video\\io\\ffmpeg_reader.py:190: UserWarning: In file https://videos.nba.com/nba/pbp/media/2025/01/31/0022400684/593/f9b1f71a-f9b8-2e9c-8164-3dc536498395_1280x720.mp4, 2764800 bytes wanted but 0 bytes read at frame index 242 (out of a total 543 frames), at time 4.03/9.05 sec. Using the last valid frame instead.\n",
      "  warnings.warn(\n",
      "C:\\Users\\ronen\\AppData\\Local\\Packages\\PythonSoftwareFoundation.Python.3.11_qbz5n2kfra8p0\\LocalCache\\local-packages\\Python311\\site-packages\\moviepy\\video\\io\\ffmpeg_reader.py:190: UserWarning: In file https://videos.nba.com/nba/pbp/media/2025/01/31/0022400684/593/f9b1f71a-f9b8-2e9c-8164-3dc536498395_1280x720.mp4, 2764800 bytes wanted but 0 bytes read at frame index 244 (out of a total 543 frames), at time 4.07/9.05 sec. Using the last valid frame instead.\n",
      "  warnings.warn(\n",
      "frame_index:   9%|▊         | 124/1424 [00:03<00:39, 32.84it/s, now=None]C:\\Users\\ronen\\AppData\\Local\\Packages\\PythonSoftwareFoundation.Python.3.11_qbz5n2kfra8p0\\LocalCache\\local-packages\\Python311\\site-packages\\moviepy\\video\\io\\ffmpeg_reader.py:190: UserWarning: In file https://videos.nba.com/nba/pbp/media/2025/01/31/0022400684/593/f9b1f71a-f9b8-2e9c-8164-3dc536498395_1280x720.mp4, 2764800 bytes wanted but 0 bytes read at frame index 246 (out of a total 543 frames), at time 4.10/9.05 sec. Using the last valid frame instead.\n",
      "  warnings.warn(\n",
      "C:\\Users\\ronen\\AppData\\Local\\Packages\\PythonSoftwareFoundation.Python.3.11_qbz5n2kfra8p0\\LocalCache\\local-packages\\Python311\\site-packages\\moviepy\\video\\io\\ffmpeg_reader.py:190: UserWarning: In file https://videos.nba.com/nba/pbp/media/2025/01/31/0022400684/593/f9b1f71a-f9b8-2e9c-8164-3dc536498395_1280x720.mp4, 2764800 bytes wanted but 0 bytes read at frame index 248 (out of a total 543 frames), at time 4.13/9.05 sec. Using the last valid frame instead.\n",
      "  warnings.warn(\n",
      "C:\\Users\\ronen\\AppData\\Local\\Packages\\PythonSoftwareFoundation.Python.3.11_qbz5n2kfra8p0\\LocalCache\\local-packages\\Python311\\site-packages\\moviepy\\video\\io\\ffmpeg_reader.py:190: UserWarning: In file https://videos.nba.com/nba/pbp/media/2025/01/31/0022400684/593/f9b1f71a-f9b8-2e9c-8164-3dc536498395_1280x720.mp4, 2764800 bytes wanted but 0 bytes read at frame index 250 (out of a total 543 frames), at time 4.17/9.05 sec. Using the last valid frame instead.\n",
      "  warnings.warn(\n",
      "C:\\Users\\ronen\\AppData\\Local\\Packages\\PythonSoftwareFoundation.Python.3.11_qbz5n2kfra8p0\\LocalCache\\local-packages\\Python311\\site-packages\\moviepy\\video\\io\\ffmpeg_reader.py:190: UserWarning: In file https://videos.nba.com/nba/pbp/media/2025/01/31/0022400684/593/f9b1f71a-f9b8-2e9c-8164-3dc536498395_1280x720.mp4, 2764800 bytes wanted but 0 bytes read at frame index 252 (out of a total 543 frames), at time 4.20/9.05 sec. Using the last valid frame instead.\n",
      "  warnings.warn(\n",
      "frame_index:   9%|▉         | 128/1424 [00:03<00:39, 32.65it/s, now=None]C:\\Users\\ronen\\AppData\\Local\\Packages\\PythonSoftwareFoundation.Python.3.11_qbz5n2kfra8p0\\LocalCache\\local-packages\\Python311\\site-packages\\moviepy\\video\\io\\ffmpeg_reader.py:190: UserWarning: In file https://videos.nba.com/nba/pbp/media/2025/01/31/0022400684/593/f9b1f71a-f9b8-2e9c-8164-3dc536498395_1280x720.mp4, 2764800 bytes wanted but 0 bytes read at frame index 254 (out of a total 543 frames), at time 4.23/9.05 sec. Using the last valid frame instead.\n",
      "  warnings.warn(\n",
      "C:\\Users\\ronen\\AppData\\Local\\Packages\\PythonSoftwareFoundation.Python.3.11_qbz5n2kfra8p0\\LocalCache\\local-packages\\Python311\\site-packages\\moviepy\\video\\io\\ffmpeg_reader.py:190: UserWarning: In file https://videos.nba.com/nba/pbp/media/2025/01/31/0022400684/593/f9b1f71a-f9b8-2e9c-8164-3dc536498395_1280x720.mp4, 2764800 bytes wanted but 0 bytes read at frame index 256 (out of a total 543 frames), at time 4.27/9.05 sec. Using the last valid frame instead.\n",
      "  warnings.warn(\n",
      "C:\\Users\\ronen\\AppData\\Local\\Packages\\PythonSoftwareFoundation.Python.3.11_qbz5n2kfra8p0\\LocalCache\\local-packages\\Python311\\site-packages\\moviepy\\video\\io\\ffmpeg_reader.py:190: UserWarning: In file https://videos.nba.com/nba/pbp/media/2025/01/31/0022400684/593/f9b1f71a-f9b8-2e9c-8164-3dc536498395_1280x720.mp4, 2764800 bytes wanted but 0 bytes read at frame index 258 (out of a total 543 frames), at time 4.30/9.05 sec. Using the last valid frame instead.\n",
      "  warnings.warn(\n",
      "C:\\Users\\ronen\\AppData\\Local\\Packages\\PythonSoftwareFoundation.Python.3.11_qbz5n2kfra8p0\\LocalCache\\local-packages\\Python311\\site-packages\\moviepy\\video\\io\\ffmpeg_reader.py:190: UserWarning: In file https://videos.nba.com/nba/pbp/media/2025/01/31/0022400684/593/f9b1f71a-f9b8-2e9c-8164-3dc536498395_1280x720.mp4, 2764800 bytes wanted but 0 bytes read at frame index 260 (out of a total 543 frames), at time 4.33/9.05 sec. Using the last valid frame instead.\n",
      "  warnings.warn(\n",
      "frame_index:   9%|▉         | 132/1424 [00:04<00:39, 32.59it/s, now=None]C:\\Users\\ronen\\AppData\\Local\\Packages\\PythonSoftwareFoundation.Python.3.11_qbz5n2kfra8p0\\LocalCache\\local-packages\\Python311\\site-packages\\moviepy\\video\\io\\ffmpeg_reader.py:190: UserWarning: In file https://videos.nba.com/nba/pbp/media/2025/01/31/0022400684/593/f9b1f71a-f9b8-2e9c-8164-3dc536498395_1280x720.mp4, 2764800 bytes wanted but 0 bytes read at frame index 262 (out of a total 543 frames), at time 4.37/9.05 sec. Using the last valid frame instead.\n",
      "  warnings.warn(\n",
      "C:\\Users\\ronen\\AppData\\Local\\Packages\\PythonSoftwareFoundation.Python.3.11_qbz5n2kfra8p0\\LocalCache\\local-packages\\Python311\\site-packages\\moviepy\\video\\io\\ffmpeg_reader.py:190: UserWarning: In file https://videos.nba.com/nba/pbp/media/2025/01/31/0022400684/593/f9b1f71a-f9b8-2e9c-8164-3dc536498395_1280x720.mp4, 2764800 bytes wanted but 0 bytes read at frame index 264 (out of a total 543 frames), at time 4.40/9.05 sec. Using the last valid frame instead.\n",
      "  warnings.warn(\n",
      "C:\\Users\\ronen\\AppData\\Local\\Packages\\PythonSoftwareFoundation.Python.3.11_qbz5n2kfra8p0\\LocalCache\\local-packages\\Python311\\site-packages\\moviepy\\video\\io\\ffmpeg_reader.py:190: UserWarning: In file https://videos.nba.com/nba/pbp/media/2025/01/31/0022400684/593/f9b1f71a-f9b8-2e9c-8164-3dc536498395_1280x720.mp4, 2764800 bytes wanted but 0 bytes read at frame index 266 (out of a total 543 frames), at time 4.43/9.05 sec. Using the last valid frame instead.\n",
      "  warnings.warn(\n",
      "C:\\Users\\ronen\\AppData\\Local\\Packages\\PythonSoftwareFoundation.Python.3.11_qbz5n2kfra8p0\\LocalCache\\local-packages\\Python311\\site-packages\\moviepy\\video\\io\\ffmpeg_reader.py:190: UserWarning: In file https://videos.nba.com/nba/pbp/media/2025/01/31/0022400684/593/f9b1f71a-f9b8-2e9c-8164-3dc536498395_1280x720.mp4, 2764800 bytes wanted but 0 bytes read at frame index 268 (out of a total 543 frames), at time 4.47/9.05 sec. Using the last valid frame instead.\n",
      "  warnings.warn(\n",
      "frame_index:  10%|▉         | 136/1424 [00:04<00:39, 33.00it/s, now=None]C:\\Users\\ronen\\AppData\\Local\\Packages\\PythonSoftwareFoundation.Python.3.11_qbz5n2kfra8p0\\LocalCache\\local-packages\\Python311\\site-packages\\moviepy\\video\\io\\ffmpeg_reader.py:190: UserWarning: In file https://videos.nba.com/nba/pbp/media/2025/01/31/0022400684/593/f9b1f71a-f9b8-2e9c-8164-3dc536498395_1280x720.mp4, 2764800 bytes wanted but 0 bytes read at frame index 270 (out of a total 543 frames), at time 4.50/9.05 sec. Using the last valid frame instead.\n",
      "  warnings.warn(\n",
      "C:\\Users\\ronen\\AppData\\Local\\Packages\\PythonSoftwareFoundation.Python.3.11_qbz5n2kfra8p0\\LocalCache\\local-packages\\Python311\\site-packages\\moviepy\\video\\io\\ffmpeg_reader.py:190: UserWarning: In file https://videos.nba.com/nba/pbp/media/2025/01/31/0022400684/593/f9b1f71a-f9b8-2e9c-8164-3dc536498395_1280x720.mp4, 2764800 bytes wanted but 0 bytes read at frame index 272 (out of a total 543 frames), at time 4.53/9.05 sec. Using the last valid frame instead.\n",
      "  warnings.warn(\n",
      "C:\\Users\\ronen\\AppData\\Local\\Packages\\PythonSoftwareFoundation.Python.3.11_qbz5n2kfra8p0\\LocalCache\\local-packages\\Python311\\site-packages\\moviepy\\video\\io\\ffmpeg_reader.py:190: UserWarning: In file https://videos.nba.com/nba/pbp/media/2025/01/31/0022400684/593/f9b1f71a-f9b8-2e9c-8164-3dc536498395_1280x720.mp4, 2764800 bytes wanted but 0 bytes read at frame index 274 (out of a total 543 frames), at time 4.57/9.05 sec. Using the last valid frame instead.\n",
      "  warnings.warn(\n",
      "C:\\Users\\ronen\\AppData\\Local\\Packages\\PythonSoftwareFoundation.Python.3.11_qbz5n2kfra8p0\\LocalCache\\local-packages\\Python311\\site-packages\\moviepy\\video\\io\\ffmpeg_reader.py:190: UserWarning: In file https://videos.nba.com/nba/pbp/media/2025/01/31/0022400684/593/f9b1f71a-f9b8-2e9c-8164-3dc536498395_1280x720.mp4, 2764800 bytes wanted but 0 bytes read at frame index 276 (out of a total 543 frames), at time 4.60/9.05 sec. Using the last valid frame instead.\n",
      "  warnings.warn(\n",
      "frame_index:  10%|▉         | 140/1424 [00:04<00:38, 33.23it/s, now=None]C:\\Users\\ronen\\AppData\\Local\\Packages\\PythonSoftwareFoundation.Python.3.11_qbz5n2kfra8p0\\LocalCache\\local-packages\\Python311\\site-packages\\moviepy\\video\\io\\ffmpeg_reader.py:190: UserWarning: In file https://videos.nba.com/nba/pbp/media/2025/01/31/0022400684/593/f9b1f71a-f9b8-2e9c-8164-3dc536498395_1280x720.mp4, 2764800 bytes wanted but 0 bytes read at frame index 278 (out of a total 543 frames), at time 4.63/9.05 sec. Using the last valid frame instead.\n",
      "  warnings.warn(\n",
      "C:\\Users\\ronen\\AppData\\Local\\Packages\\PythonSoftwareFoundation.Python.3.11_qbz5n2kfra8p0\\LocalCache\\local-packages\\Python311\\site-packages\\moviepy\\video\\io\\ffmpeg_reader.py:190: UserWarning: In file https://videos.nba.com/nba/pbp/media/2025/01/31/0022400684/593/f9b1f71a-f9b8-2e9c-8164-3dc536498395_1280x720.mp4, 2764800 bytes wanted but 0 bytes read at frame index 280 (out of a total 543 frames), at time 4.67/9.05 sec. Using the last valid frame instead.\n",
      "  warnings.warn(\n",
      "C:\\Users\\ronen\\AppData\\Local\\Packages\\PythonSoftwareFoundation.Python.3.11_qbz5n2kfra8p0\\LocalCache\\local-packages\\Python311\\site-packages\\moviepy\\video\\io\\ffmpeg_reader.py:190: UserWarning: In file https://videos.nba.com/nba/pbp/media/2025/01/31/0022400684/593/f9b1f71a-f9b8-2e9c-8164-3dc536498395_1280x720.mp4, 2764800 bytes wanted but 0 bytes read at frame index 282 (out of a total 543 frames), at time 4.70/9.05 sec. Using the last valid frame instead.\n",
      "  warnings.warn(\n",
      "C:\\Users\\ronen\\AppData\\Local\\Packages\\PythonSoftwareFoundation.Python.3.11_qbz5n2kfra8p0\\LocalCache\\local-packages\\Python311\\site-packages\\moviepy\\video\\io\\ffmpeg_reader.py:190: UserWarning: In file https://videos.nba.com/nba/pbp/media/2025/01/31/0022400684/593/f9b1f71a-f9b8-2e9c-8164-3dc536498395_1280x720.mp4, 2764800 bytes wanted but 0 bytes read at frame index 284 (out of a total 543 frames), at time 4.73/9.05 sec. Using the last valid frame instead.\n",
      "  warnings.warn(\n",
      "frame_index:  10%|█         | 144/1424 [00:04<00:38, 33.29it/s, now=None]C:\\Users\\ronen\\AppData\\Local\\Packages\\PythonSoftwareFoundation.Python.3.11_qbz5n2kfra8p0\\LocalCache\\local-packages\\Python311\\site-packages\\moviepy\\video\\io\\ffmpeg_reader.py:190: UserWarning: In file https://videos.nba.com/nba/pbp/media/2025/01/31/0022400684/593/f9b1f71a-f9b8-2e9c-8164-3dc536498395_1280x720.mp4, 2764800 bytes wanted but 0 bytes read at frame index 286 (out of a total 543 frames), at time 4.77/9.05 sec. Using the last valid frame instead.\n",
      "  warnings.warn(\n",
      "C:\\Users\\ronen\\AppData\\Local\\Packages\\PythonSoftwareFoundation.Python.3.11_qbz5n2kfra8p0\\LocalCache\\local-packages\\Python311\\site-packages\\moviepy\\video\\io\\ffmpeg_reader.py:190: UserWarning: In file https://videos.nba.com/nba/pbp/media/2025/01/31/0022400684/593/f9b1f71a-f9b8-2e9c-8164-3dc536498395_1280x720.mp4, 2764800 bytes wanted but 0 bytes read at frame index 288 (out of a total 543 frames), at time 4.80/9.05 sec. Using the last valid frame instead.\n",
      "  warnings.warn(\n",
      "C:\\Users\\ronen\\AppData\\Local\\Packages\\PythonSoftwareFoundation.Python.3.11_qbz5n2kfra8p0\\LocalCache\\local-packages\\Python311\\site-packages\\moviepy\\video\\io\\ffmpeg_reader.py:190: UserWarning: In file https://videos.nba.com/nba/pbp/media/2025/01/31/0022400684/593/f9b1f71a-f9b8-2e9c-8164-3dc536498395_1280x720.mp4, 2764800 bytes wanted but 0 bytes read at frame index 290 (out of a total 543 frames), at time 4.83/9.05 sec. Using the last valid frame instead.\n",
      "  warnings.warn(\n",
      "C:\\Users\\ronen\\AppData\\Local\\Packages\\PythonSoftwareFoundation.Python.3.11_qbz5n2kfra8p0\\LocalCache\\local-packages\\Python311\\site-packages\\moviepy\\video\\io\\ffmpeg_reader.py:190: UserWarning: In file https://videos.nba.com/nba/pbp/media/2025/01/31/0022400684/593/f9b1f71a-f9b8-2e9c-8164-3dc536498395_1280x720.mp4, 2764800 bytes wanted but 0 bytes read at frame index 292 (out of a total 543 frames), at time 4.87/9.05 sec. Using the last valid frame instead.\n",
      "  warnings.warn(\n",
      "frame_index:  10%|█         | 148/1424 [00:04<00:39, 32.45it/s, now=None]C:\\Users\\ronen\\AppData\\Local\\Packages\\PythonSoftwareFoundation.Python.3.11_qbz5n2kfra8p0\\LocalCache\\local-packages\\Python311\\site-packages\\moviepy\\video\\io\\ffmpeg_reader.py:190: UserWarning: In file https://videos.nba.com/nba/pbp/media/2025/01/31/0022400684/593/f9b1f71a-f9b8-2e9c-8164-3dc536498395_1280x720.mp4, 2764800 bytes wanted but 0 bytes read at frame index 294 (out of a total 543 frames), at time 4.90/9.05 sec. Using the last valid frame instead.\n",
      "  warnings.warn(\n",
      "C:\\Users\\ronen\\AppData\\Local\\Packages\\PythonSoftwareFoundation.Python.3.11_qbz5n2kfra8p0\\LocalCache\\local-packages\\Python311\\site-packages\\moviepy\\video\\io\\ffmpeg_reader.py:190: UserWarning: In file https://videos.nba.com/nba/pbp/media/2025/01/31/0022400684/593/f9b1f71a-f9b8-2e9c-8164-3dc536498395_1280x720.mp4, 2764800 bytes wanted but 0 bytes read at frame index 296 (out of a total 543 frames), at time 4.93/9.05 sec. Using the last valid frame instead.\n",
      "  warnings.warn(\n",
      "C:\\Users\\ronen\\AppData\\Local\\Packages\\PythonSoftwareFoundation.Python.3.11_qbz5n2kfra8p0\\LocalCache\\local-packages\\Python311\\site-packages\\moviepy\\video\\io\\ffmpeg_reader.py:190: UserWarning: In file https://videos.nba.com/nba/pbp/media/2025/01/31/0022400684/593/f9b1f71a-f9b8-2e9c-8164-3dc536498395_1280x720.mp4, 2764800 bytes wanted but 0 bytes read at frame index 298 (out of a total 543 frames), at time 4.97/9.05 sec. Using the last valid frame instead.\n",
      "  warnings.warn(\n",
      "C:\\Users\\ronen\\AppData\\Local\\Packages\\PythonSoftwareFoundation.Python.3.11_qbz5n2kfra8p0\\LocalCache\\local-packages\\Python311\\site-packages\\moviepy\\video\\io\\ffmpeg_reader.py:190: UserWarning: In file https://videos.nba.com/nba/pbp/media/2025/01/31/0022400684/593/f9b1f71a-f9b8-2e9c-8164-3dc536498395_1280x720.mp4, 2764800 bytes wanted but 0 bytes read at frame index 300 (out of a total 543 frames), at time 5.00/9.05 sec. Using the last valid frame instead.\n",
      "  warnings.warn(\n",
      "frame_index:  11%|█         | 152/1424 [00:04<00:38, 33.08it/s, now=None]C:\\Users\\ronen\\AppData\\Local\\Packages\\PythonSoftwareFoundation.Python.3.11_qbz5n2kfra8p0\\LocalCache\\local-packages\\Python311\\site-packages\\moviepy\\video\\io\\ffmpeg_reader.py:190: UserWarning: In file https://videos.nba.com/nba/pbp/media/2025/01/31/0022400684/593/f9b1f71a-f9b8-2e9c-8164-3dc536498395_1280x720.mp4, 2764800 bytes wanted but 0 bytes read at frame index 302 (out of a total 543 frames), at time 5.03/9.05 sec. Using the last valid frame instead.\n",
      "  warnings.warn(\n",
      "C:\\Users\\ronen\\AppData\\Local\\Packages\\PythonSoftwareFoundation.Python.3.11_qbz5n2kfra8p0\\LocalCache\\local-packages\\Python311\\site-packages\\moviepy\\video\\io\\ffmpeg_reader.py:190: UserWarning: In file https://videos.nba.com/nba/pbp/media/2025/01/31/0022400684/593/f9b1f71a-f9b8-2e9c-8164-3dc536498395_1280x720.mp4, 2764800 bytes wanted but 0 bytes read at frame index 304 (out of a total 543 frames), at time 5.07/9.05 sec. Using the last valid frame instead.\n",
      "  warnings.warn(\n",
      "C:\\Users\\ronen\\AppData\\Local\\Packages\\PythonSoftwareFoundation.Python.3.11_qbz5n2kfra8p0\\LocalCache\\local-packages\\Python311\\site-packages\\moviepy\\video\\io\\ffmpeg_reader.py:190: UserWarning: In file https://videos.nba.com/nba/pbp/media/2025/01/31/0022400684/593/f9b1f71a-f9b8-2e9c-8164-3dc536498395_1280x720.mp4, 2764800 bytes wanted but 0 bytes read at frame index 306 (out of a total 543 frames), at time 5.10/9.05 sec. Using the last valid frame instead.\n",
      "  warnings.warn(\n",
      "C:\\Users\\ronen\\AppData\\Local\\Packages\\PythonSoftwareFoundation.Python.3.11_qbz5n2kfra8p0\\LocalCache\\local-packages\\Python311\\site-packages\\moviepy\\video\\io\\ffmpeg_reader.py:190: UserWarning: In file https://videos.nba.com/nba/pbp/media/2025/01/31/0022400684/593/f9b1f71a-f9b8-2e9c-8164-3dc536498395_1280x720.mp4, 2764800 bytes wanted but 0 bytes read at frame index 308 (out of a total 543 frames), at time 5.13/9.05 sec. Using the last valid frame instead.\n",
      "  warnings.warn(\n",
      "frame_index:  11%|█         | 156/1424 [00:04<00:38, 33.11it/s, now=None]C:\\Users\\ronen\\AppData\\Local\\Packages\\PythonSoftwareFoundation.Python.3.11_qbz5n2kfra8p0\\LocalCache\\local-packages\\Python311\\site-packages\\moviepy\\video\\io\\ffmpeg_reader.py:190: UserWarning: In file https://videos.nba.com/nba/pbp/media/2025/01/31/0022400684/593/f9b1f71a-f9b8-2e9c-8164-3dc536498395_1280x720.mp4, 2764800 bytes wanted but 0 bytes read at frame index 310 (out of a total 543 frames), at time 5.17/9.05 sec. Using the last valid frame instead.\n",
      "  warnings.warn(\n",
      "C:\\Users\\ronen\\AppData\\Local\\Packages\\PythonSoftwareFoundation.Python.3.11_qbz5n2kfra8p0\\LocalCache\\local-packages\\Python311\\site-packages\\moviepy\\video\\io\\ffmpeg_reader.py:190: UserWarning: In file https://videos.nba.com/nba/pbp/media/2025/01/31/0022400684/593/f9b1f71a-f9b8-2e9c-8164-3dc536498395_1280x720.mp4, 2764800 bytes wanted but 0 bytes read at frame index 312 (out of a total 543 frames), at time 5.20/9.05 sec. Using the last valid frame instead.\n",
      "  warnings.warn(\n",
      "C:\\Users\\ronen\\AppData\\Local\\Packages\\PythonSoftwareFoundation.Python.3.11_qbz5n2kfra8p0\\LocalCache\\local-packages\\Python311\\site-packages\\moviepy\\video\\io\\ffmpeg_reader.py:190: UserWarning: In file https://videos.nba.com/nba/pbp/media/2025/01/31/0022400684/593/f9b1f71a-f9b8-2e9c-8164-3dc536498395_1280x720.mp4, 2764800 bytes wanted but 0 bytes read at frame index 314 (out of a total 543 frames), at time 5.23/9.05 sec. Using the last valid frame instead.\n",
      "  warnings.warn(\n",
      "C:\\Users\\ronen\\AppData\\Local\\Packages\\PythonSoftwareFoundation.Python.3.11_qbz5n2kfra8p0\\LocalCache\\local-packages\\Python311\\site-packages\\moviepy\\video\\io\\ffmpeg_reader.py:190: UserWarning: In file https://videos.nba.com/nba/pbp/media/2025/01/31/0022400684/593/f9b1f71a-f9b8-2e9c-8164-3dc536498395_1280x720.mp4, 2764800 bytes wanted but 0 bytes read at frame index 316 (out of a total 543 frames), at time 5.27/9.05 sec. Using the last valid frame instead.\n",
      "  warnings.warn(\n",
      "frame_index:  11%|█         | 160/1424 [00:04<00:37, 33.43it/s, now=None]C:\\Users\\ronen\\AppData\\Local\\Packages\\PythonSoftwareFoundation.Python.3.11_qbz5n2kfra8p0\\LocalCache\\local-packages\\Python311\\site-packages\\moviepy\\video\\io\\ffmpeg_reader.py:190: UserWarning: In file https://videos.nba.com/nba/pbp/media/2025/01/31/0022400684/593/f9b1f71a-f9b8-2e9c-8164-3dc536498395_1280x720.mp4, 2764800 bytes wanted but 0 bytes read at frame index 318 (out of a total 543 frames), at time 5.30/9.05 sec. Using the last valid frame instead.\n",
      "  warnings.warn(\n",
      "C:\\Users\\ronen\\AppData\\Local\\Packages\\PythonSoftwareFoundation.Python.3.11_qbz5n2kfra8p0\\LocalCache\\local-packages\\Python311\\site-packages\\moviepy\\video\\io\\ffmpeg_reader.py:190: UserWarning: In file https://videos.nba.com/nba/pbp/media/2025/01/31/0022400684/593/f9b1f71a-f9b8-2e9c-8164-3dc536498395_1280x720.mp4, 2764800 bytes wanted but 0 bytes read at frame index 320 (out of a total 543 frames), at time 5.33/9.05 sec. Using the last valid frame instead.\n",
      "  warnings.warn(\n",
      "C:\\Users\\ronen\\AppData\\Local\\Packages\\PythonSoftwareFoundation.Python.3.11_qbz5n2kfra8p0\\LocalCache\\local-packages\\Python311\\site-packages\\moviepy\\video\\io\\ffmpeg_reader.py:190: UserWarning: In file https://videos.nba.com/nba/pbp/media/2025/01/31/0022400684/593/f9b1f71a-f9b8-2e9c-8164-3dc536498395_1280x720.mp4, 2764800 bytes wanted but 0 bytes read at frame index 322 (out of a total 543 frames), at time 5.37/9.05 sec. Using the last valid frame instead.\n",
      "  warnings.warn(\n",
      "C:\\Users\\ronen\\AppData\\Local\\Packages\\PythonSoftwareFoundation.Python.3.11_qbz5n2kfra8p0\\LocalCache\\local-packages\\Python311\\site-packages\\moviepy\\video\\io\\ffmpeg_reader.py:190: UserWarning: In file https://videos.nba.com/nba/pbp/media/2025/01/31/0022400684/593/f9b1f71a-f9b8-2e9c-8164-3dc536498395_1280x720.mp4, 2764800 bytes wanted but 0 bytes read at frame index 324 (out of a total 543 frames), at time 5.40/9.05 sec. Using the last valid frame instead.\n",
      "  warnings.warn(\n",
      "frame_index:  12%|█▏        | 164/1424 [00:05<00:37, 33.47it/s, now=None]C:\\Users\\ronen\\AppData\\Local\\Packages\\PythonSoftwareFoundation.Python.3.11_qbz5n2kfra8p0\\LocalCache\\local-packages\\Python311\\site-packages\\moviepy\\video\\io\\ffmpeg_reader.py:190: UserWarning: In file https://videos.nba.com/nba/pbp/media/2025/01/31/0022400684/593/f9b1f71a-f9b8-2e9c-8164-3dc536498395_1280x720.mp4, 2764800 bytes wanted but 0 bytes read at frame index 326 (out of a total 543 frames), at time 5.43/9.05 sec. Using the last valid frame instead.\n",
      "  warnings.warn(\n",
      "C:\\Users\\ronen\\AppData\\Local\\Packages\\PythonSoftwareFoundation.Python.3.11_qbz5n2kfra8p0\\LocalCache\\local-packages\\Python311\\site-packages\\moviepy\\video\\io\\ffmpeg_reader.py:190: UserWarning: In file https://videos.nba.com/nba/pbp/media/2025/01/31/0022400684/593/f9b1f71a-f9b8-2e9c-8164-3dc536498395_1280x720.mp4, 2764800 bytes wanted but 0 bytes read at frame index 328 (out of a total 543 frames), at time 5.47/9.05 sec. Using the last valid frame instead.\n",
      "  warnings.warn(\n",
      "C:\\Users\\ronen\\AppData\\Local\\Packages\\PythonSoftwareFoundation.Python.3.11_qbz5n2kfra8p0\\LocalCache\\local-packages\\Python311\\site-packages\\moviepy\\video\\io\\ffmpeg_reader.py:190: UserWarning: In file https://videos.nba.com/nba/pbp/media/2025/01/31/0022400684/593/f9b1f71a-f9b8-2e9c-8164-3dc536498395_1280x720.mp4, 2764800 bytes wanted but 0 bytes read at frame index 330 (out of a total 543 frames), at time 5.50/9.05 sec. Using the last valid frame instead.\n",
      "  warnings.warn(\n",
      "C:\\Users\\ronen\\AppData\\Local\\Packages\\PythonSoftwareFoundation.Python.3.11_qbz5n2kfra8p0\\LocalCache\\local-packages\\Python311\\site-packages\\moviepy\\video\\io\\ffmpeg_reader.py:190: UserWarning: In file https://videos.nba.com/nba/pbp/media/2025/01/31/0022400684/593/f9b1f71a-f9b8-2e9c-8164-3dc536498395_1280x720.mp4, 2764800 bytes wanted but 0 bytes read at frame index 332 (out of a total 543 frames), at time 5.53/9.05 sec. Using the last valid frame instead.\n",
      "  warnings.warn(\n",
      "frame_index:  12%|█▏        | 168/1424 [00:05<00:37, 33.65it/s, now=None]C:\\Users\\ronen\\AppData\\Local\\Packages\\PythonSoftwareFoundation.Python.3.11_qbz5n2kfra8p0\\LocalCache\\local-packages\\Python311\\site-packages\\moviepy\\video\\io\\ffmpeg_reader.py:190: UserWarning: In file https://videos.nba.com/nba/pbp/media/2025/01/31/0022400684/593/f9b1f71a-f9b8-2e9c-8164-3dc536498395_1280x720.mp4, 2764800 bytes wanted but 0 bytes read at frame index 334 (out of a total 543 frames), at time 5.57/9.05 sec. Using the last valid frame instead.\n",
      "  warnings.warn(\n",
      "C:\\Users\\ronen\\AppData\\Local\\Packages\\PythonSoftwareFoundation.Python.3.11_qbz5n2kfra8p0\\LocalCache\\local-packages\\Python311\\site-packages\\moviepy\\video\\io\\ffmpeg_reader.py:190: UserWarning: In file https://videos.nba.com/nba/pbp/media/2025/01/31/0022400684/593/f9b1f71a-f9b8-2e9c-8164-3dc536498395_1280x720.mp4, 2764800 bytes wanted but 0 bytes read at frame index 336 (out of a total 543 frames), at time 5.60/9.05 sec. Using the last valid frame instead.\n",
      "  warnings.warn(\n",
      "C:\\Users\\ronen\\AppData\\Local\\Packages\\PythonSoftwareFoundation.Python.3.11_qbz5n2kfra8p0\\LocalCache\\local-packages\\Python311\\site-packages\\moviepy\\video\\io\\ffmpeg_reader.py:190: UserWarning: In file https://videos.nba.com/nba/pbp/media/2025/01/31/0022400684/593/f9b1f71a-f9b8-2e9c-8164-3dc536498395_1280x720.mp4, 2764800 bytes wanted but 0 bytes read at frame index 338 (out of a total 543 frames), at time 5.63/9.05 sec. Using the last valid frame instead.\n",
      "  warnings.warn(\n",
      "C:\\Users\\ronen\\AppData\\Local\\Packages\\PythonSoftwareFoundation.Python.3.11_qbz5n2kfra8p0\\LocalCache\\local-packages\\Python311\\site-packages\\moviepy\\video\\io\\ffmpeg_reader.py:190: UserWarning: In file https://videos.nba.com/nba/pbp/media/2025/01/31/0022400684/593/f9b1f71a-f9b8-2e9c-8164-3dc536498395_1280x720.mp4, 2764800 bytes wanted but 0 bytes read at frame index 340 (out of a total 543 frames), at time 5.67/9.05 sec. Using the last valid frame instead.\n",
      "  warnings.warn(\n",
      "frame_index:  12%|█▏        | 172/1424 [00:05<00:37, 33.48it/s, now=None]C:\\Users\\ronen\\AppData\\Local\\Packages\\PythonSoftwareFoundation.Python.3.11_qbz5n2kfra8p0\\LocalCache\\local-packages\\Python311\\site-packages\\moviepy\\video\\io\\ffmpeg_reader.py:190: UserWarning: In file https://videos.nba.com/nba/pbp/media/2025/01/31/0022400684/593/f9b1f71a-f9b8-2e9c-8164-3dc536498395_1280x720.mp4, 2764800 bytes wanted but 0 bytes read at frame index 342 (out of a total 543 frames), at time 5.70/9.05 sec. Using the last valid frame instead.\n",
      "  warnings.warn(\n",
      "C:\\Users\\ronen\\AppData\\Local\\Packages\\PythonSoftwareFoundation.Python.3.11_qbz5n2kfra8p0\\LocalCache\\local-packages\\Python311\\site-packages\\moviepy\\video\\io\\ffmpeg_reader.py:190: UserWarning: In file https://videos.nba.com/nba/pbp/media/2025/01/31/0022400684/593/f9b1f71a-f9b8-2e9c-8164-3dc536498395_1280x720.mp4, 2764800 bytes wanted but 0 bytes read at frame index 344 (out of a total 543 frames), at time 5.73/9.05 sec. Using the last valid frame instead.\n",
      "  warnings.warn(\n",
      "C:\\Users\\ronen\\AppData\\Local\\Packages\\PythonSoftwareFoundation.Python.3.11_qbz5n2kfra8p0\\LocalCache\\local-packages\\Python311\\site-packages\\moviepy\\video\\io\\ffmpeg_reader.py:190: UserWarning: In file https://videos.nba.com/nba/pbp/media/2025/01/31/0022400684/593/f9b1f71a-f9b8-2e9c-8164-3dc536498395_1280x720.mp4, 2764800 bytes wanted but 0 bytes read at frame index 346 (out of a total 543 frames), at time 5.77/9.05 sec. Using the last valid frame instead.\n",
      "  warnings.warn(\n",
      "C:\\Users\\ronen\\AppData\\Local\\Packages\\PythonSoftwareFoundation.Python.3.11_qbz5n2kfra8p0\\LocalCache\\local-packages\\Python311\\site-packages\\moviepy\\video\\io\\ffmpeg_reader.py:190: UserWarning: In file https://videos.nba.com/nba/pbp/media/2025/01/31/0022400684/593/f9b1f71a-f9b8-2e9c-8164-3dc536498395_1280x720.mp4, 2764800 bytes wanted but 0 bytes read at frame index 348 (out of a total 543 frames), at time 5.80/9.05 sec. Using the last valid frame instead.\n",
      "  warnings.warn(\n",
      "frame_index:  12%|█▏        | 176/1424 [00:05<00:37, 33.38it/s, now=None]C:\\Users\\ronen\\AppData\\Local\\Packages\\PythonSoftwareFoundation.Python.3.11_qbz5n2kfra8p0\\LocalCache\\local-packages\\Python311\\site-packages\\moviepy\\video\\io\\ffmpeg_reader.py:190: UserWarning: In file https://videos.nba.com/nba/pbp/media/2025/01/31/0022400684/593/f9b1f71a-f9b8-2e9c-8164-3dc536498395_1280x720.mp4, 2764800 bytes wanted but 0 bytes read at frame index 350 (out of a total 543 frames), at time 5.83/9.05 sec. Using the last valid frame instead.\n",
      "  warnings.warn(\n",
      "C:\\Users\\ronen\\AppData\\Local\\Packages\\PythonSoftwareFoundation.Python.3.11_qbz5n2kfra8p0\\LocalCache\\local-packages\\Python311\\site-packages\\moviepy\\video\\io\\ffmpeg_reader.py:190: UserWarning: In file https://videos.nba.com/nba/pbp/media/2025/01/31/0022400684/593/f9b1f71a-f9b8-2e9c-8164-3dc536498395_1280x720.mp4, 2764800 bytes wanted but 0 bytes read at frame index 352 (out of a total 543 frames), at time 5.87/9.05 sec. Using the last valid frame instead.\n",
      "  warnings.warn(\n",
      "C:\\Users\\ronen\\AppData\\Local\\Packages\\PythonSoftwareFoundation.Python.3.11_qbz5n2kfra8p0\\LocalCache\\local-packages\\Python311\\site-packages\\moviepy\\video\\io\\ffmpeg_reader.py:190: UserWarning: In file https://videos.nba.com/nba/pbp/media/2025/01/31/0022400684/593/f9b1f71a-f9b8-2e9c-8164-3dc536498395_1280x720.mp4, 2764800 bytes wanted but 0 bytes read at frame index 354 (out of a total 543 frames), at time 5.90/9.05 sec. Using the last valid frame instead.\n",
      "  warnings.warn(\n",
      "C:\\Users\\ronen\\AppData\\Local\\Packages\\PythonSoftwareFoundation.Python.3.11_qbz5n2kfra8p0\\LocalCache\\local-packages\\Python311\\site-packages\\moviepy\\video\\io\\ffmpeg_reader.py:190: UserWarning: In file https://videos.nba.com/nba/pbp/media/2025/01/31/0022400684/593/f9b1f71a-f9b8-2e9c-8164-3dc536498395_1280x720.mp4, 2764800 bytes wanted but 0 bytes read at frame index 356 (out of a total 543 frames), at time 5.93/9.05 sec. Using the last valid frame instead.\n",
      "  warnings.warn(\n",
      "frame_index:  13%|█▎        | 180/1424 [00:05<00:38, 32.39it/s, now=None]C:\\Users\\ronen\\AppData\\Local\\Packages\\PythonSoftwareFoundation.Python.3.11_qbz5n2kfra8p0\\LocalCache\\local-packages\\Python311\\site-packages\\moviepy\\video\\io\\ffmpeg_reader.py:190: UserWarning: In file https://videos.nba.com/nba/pbp/media/2025/01/31/0022400684/593/f9b1f71a-f9b8-2e9c-8164-3dc536498395_1280x720.mp4, 2764800 bytes wanted but 0 bytes read at frame index 358 (out of a total 543 frames), at time 5.97/9.05 sec. Using the last valid frame instead.\n",
      "  warnings.warn(\n",
      "C:\\Users\\ronen\\AppData\\Local\\Packages\\PythonSoftwareFoundation.Python.3.11_qbz5n2kfra8p0\\LocalCache\\local-packages\\Python311\\site-packages\\moviepy\\video\\io\\ffmpeg_reader.py:190: UserWarning: In file https://videos.nba.com/nba/pbp/media/2025/01/31/0022400684/593/f9b1f71a-f9b8-2e9c-8164-3dc536498395_1280x720.mp4, 2764800 bytes wanted but 0 bytes read at frame index 360 (out of a total 543 frames), at time 6.00/9.05 sec. Using the last valid frame instead.\n",
      "  warnings.warn(\n",
      "C:\\Users\\ronen\\AppData\\Local\\Packages\\PythonSoftwareFoundation.Python.3.11_qbz5n2kfra8p0\\LocalCache\\local-packages\\Python311\\site-packages\\moviepy\\video\\io\\ffmpeg_reader.py:190: UserWarning: In file https://videos.nba.com/nba/pbp/media/2025/01/31/0022400684/593/f9b1f71a-f9b8-2e9c-8164-3dc536498395_1280x720.mp4, 2764800 bytes wanted but 0 bytes read at frame index 362 (out of a total 543 frames), at time 6.03/9.05 sec. Using the last valid frame instead.\n",
      "  warnings.warn(\n",
      "C:\\Users\\ronen\\AppData\\Local\\Packages\\PythonSoftwareFoundation.Python.3.11_qbz5n2kfra8p0\\LocalCache\\local-packages\\Python311\\site-packages\\moviepy\\video\\io\\ffmpeg_reader.py:190: UserWarning: In file https://videos.nba.com/nba/pbp/media/2025/01/31/0022400684/593/f9b1f71a-f9b8-2e9c-8164-3dc536498395_1280x720.mp4, 2764800 bytes wanted but 0 bytes read at frame index 364 (out of a total 543 frames), at time 6.07/9.05 sec. Using the last valid frame instead.\n",
      "  warnings.warn(\n",
      "frame_index:  13%|█▎        | 184/1424 [00:05<00:37, 32.99it/s, now=None]C:\\Users\\ronen\\AppData\\Local\\Packages\\PythonSoftwareFoundation.Python.3.11_qbz5n2kfra8p0\\LocalCache\\local-packages\\Python311\\site-packages\\moviepy\\video\\io\\ffmpeg_reader.py:190: UserWarning: In file https://videos.nba.com/nba/pbp/media/2025/01/31/0022400684/593/f9b1f71a-f9b8-2e9c-8164-3dc536498395_1280x720.mp4, 2764800 bytes wanted but 0 bytes read at frame index 366 (out of a total 543 frames), at time 6.10/9.05 sec. Using the last valid frame instead.\n",
      "  warnings.warn(\n",
      "C:\\Users\\ronen\\AppData\\Local\\Packages\\PythonSoftwareFoundation.Python.3.11_qbz5n2kfra8p0\\LocalCache\\local-packages\\Python311\\site-packages\\moviepy\\video\\io\\ffmpeg_reader.py:190: UserWarning: In file https://videos.nba.com/nba/pbp/media/2025/01/31/0022400684/593/f9b1f71a-f9b8-2e9c-8164-3dc536498395_1280x720.mp4, 2764800 bytes wanted but 0 bytes read at frame index 368 (out of a total 543 frames), at time 6.13/9.05 sec. Using the last valid frame instead.\n",
      "  warnings.warn(\n",
      "C:\\Users\\ronen\\AppData\\Local\\Packages\\PythonSoftwareFoundation.Python.3.11_qbz5n2kfra8p0\\LocalCache\\local-packages\\Python311\\site-packages\\moviepy\\video\\io\\ffmpeg_reader.py:190: UserWarning: In file https://videos.nba.com/nba/pbp/media/2025/01/31/0022400684/593/f9b1f71a-f9b8-2e9c-8164-3dc536498395_1280x720.mp4, 2764800 bytes wanted but 0 bytes read at frame index 370 (out of a total 543 frames), at time 6.17/9.05 sec. Using the last valid frame instead.\n",
      "  warnings.warn(\n",
      "C:\\Users\\ronen\\AppData\\Local\\Packages\\PythonSoftwareFoundation.Python.3.11_qbz5n2kfra8p0\\LocalCache\\local-packages\\Python311\\site-packages\\moviepy\\video\\io\\ffmpeg_reader.py:190: UserWarning: In file https://videos.nba.com/nba/pbp/media/2025/01/31/0022400684/593/f9b1f71a-f9b8-2e9c-8164-3dc536498395_1280x720.mp4, 2764800 bytes wanted but 0 bytes read at frame index 372 (out of a total 543 frames), at time 6.20/9.05 sec. Using the last valid frame instead.\n",
      "  warnings.warn(\n",
      "frame_index:  13%|█▎        | 188/1424 [00:05<00:36, 33.59it/s, now=None]C:\\Users\\ronen\\AppData\\Local\\Packages\\PythonSoftwareFoundation.Python.3.11_qbz5n2kfra8p0\\LocalCache\\local-packages\\Python311\\site-packages\\moviepy\\video\\io\\ffmpeg_reader.py:190: UserWarning: In file https://videos.nba.com/nba/pbp/media/2025/01/31/0022400684/593/f9b1f71a-f9b8-2e9c-8164-3dc536498395_1280x720.mp4, 2764800 bytes wanted but 0 bytes read at frame index 374 (out of a total 543 frames), at time 6.23/9.05 sec. Using the last valid frame instead.\n",
      "  warnings.warn(\n",
      "C:\\Users\\ronen\\AppData\\Local\\Packages\\PythonSoftwareFoundation.Python.3.11_qbz5n2kfra8p0\\LocalCache\\local-packages\\Python311\\site-packages\\moviepy\\video\\io\\ffmpeg_reader.py:190: UserWarning: In file https://videos.nba.com/nba/pbp/media/2025/01/31/0022400684/593/f9b1f71a-f9b8-2e9c-8164-3dc536498395_1280x720.mp4, 2764800 bytes wanted but 0 bytes read at frame index 376 (out of a total 543 frames), at time 6.27/9.05 sec. Using the last valid frame instead.\n",
      "  warnings.warn(\n",
      "C:\\Users\\ronen\\AppData\\Local\\Packages\\PythonSoftwareFoundation.Python.3.11_qbz5n2kfra8p0\\LocalCache\\local-packages\\Python311\\site-packages\\moviepy\\video\\io\\ffmpeg_reader.py:190: UserWarning: In file https://videos.nba.com/nba/pbp/media/2025/01/31/0022400684/593/f9b1f71a-f9b8-2e9c-8164-3dc536498395_1280x720.mp4, 2764800 bytes wanted but 0 bytes read at frame index 378 (out of a total 543 frames), at time 6.30/9.05 sec. Using the last valid frame instead.\n",
      "  warnings.warn(\n",
      "C:\\Users\\ronen\\AppData\\Local\\Packages\\PythonSoftwareFoundation.Python.3.11_qbz5n2kfra8p0\\LocalCache\\local-packages\\Python311\\site-packages\\moviepy\\video\\io\\ffmpeg_reader.py:190: UserWarning: In file https://videos.nba.com/nba/pbp/media/2025/01/31/0022400684/593/f9b1f71a-f9b8-2e9c-8164-3dc536498395_1280x720.mp4, 2764800 bytes wanted but 0 bytes read at frame index 380 (out of a total 543 frames), at time 6.33/9.05 sec. Using the last valid frame instead.\n",
      "  warnings.warn(\n",
      "frame_index:  13%|█▎        | 192/1424 [00:05<00:36, 34.15it/s, now=None]C:\\Users\\ronen\\AppData\\Local\\Packages\\PythonSoftwareFoundation.Python.3.11_qbz5n2kfra8p0\\LocalCache\\local-packages\\Python311\\site-packages\\moviepy\\video\\io\\ffmpeg_reader.py:190: UserWarning: In file https://videos.nba.com/nba/pbp/media/2025/01/31/0022400684/593/f9b1f71a-f9b8-2e9c-8164-3dc536498395_1280x720.mp4, 2764800 bytes wanted but 0 bytes read at frame index 382 (out of a total 543 frames), at time 6.37/9.05 sec. Using the last valid frame instead.\n",
      "  warnings.warn(\n",
      "C:\\Users\\ronen\\AppData\\Local\\Packages\\PythonSoftwareFoundation.Python.3.11_qbz5n2kfra8p0\\LocalCache\\local-packages\\Python311\\site-packages\\moviepy\\video\\io\\ffmpeg_reader.py:190: UserWarning: In file https://videos.nba.com/nba/pbp/media/2025/01/31/0022400684/593/f9b1f71a-f9b8-2e9c-8164-3dc536498395_1280x720.mp4, 2764800 bytes wanted but 0 bytes read at frame index 384 (out of a total 543 frames), at time 6.40/9.05 sec. Using the last valid frame instead.\n",
      "  warnings.warn(\n",
      "C:\\Users\\ronen\\AppData\\Local\\Packages\\PythonSoftwareFoundation.Python.3.11_qbz5n2kfra8p0\\LocalCache\\local-packages\\Python311\\site-packages\\moviepy\\video\\io\\ffmpeg_reader.py:190: UserWarning: In file https://videos.nba.com/nba/pbp/media/2025/01/31/0022400684/593/f9b1f71a-f9b8-2e9c-8164-3dc536498395_1280x720.mp4, 2764800 bytes wanted but 0 bytes read at frame index 386 (out of a total 543 frames), at time 6.43/9.05 sec. Using the last valid frame instead.\n",
      "  warnings.warn(\n",
      "C:\\Users\\ronen\\AppData\\Local\\Packages\\PythonSoftwareFoundation.Python.3.11_qbz5n2kfra8p0\\LocalCache\\local-packages\\Python311\\site-packages\\moviepy\\video\\io\\ffmpeg_reader.py:190: UserWarning: In file https://videos.nba.com/nba/pbp/media/2025/01/31/0022400684/593/f9b1f71a-f9b8-2e9c-8164-3dc536498395_1280x720.mp4, 2764800 bytes wanted but 0 bytes read at frame index 388 (out of a total 543 frames), at time 6.47/9.05 sec. Using the last valid frame instead.\n",
      "  warnings.warn(\n",
      "frame_index:  14%|█▍        | 196/1424 [00:05<00:36, 33.73it/s, now=None]C:\\Users\\ronen\\AppData\\Local\\Packages\\PythonSoftwareFoundation.Python.3.11_qbz5n2kfra8p0\\LocalCache\\local-packages\\Python311\\site-packages\\moviepy\\video\\io\\ffmpeg_reader.py:190: UserWarning: In file https://videos.nba.com/nba/pbp/media/2025/01/31/0022400684/593/f9b1f71a-f9b8-2e9c-8164-3dc536498395_1280x720.mp4, 2764800 bytes wanted but 0 bytes read at frame index 390 (out of a total 543 frames), at time 6.50/9.05 sec. Using the last valid frame instead.\n",
      "  warnings.warn(\n",
      "C:\\Users\\ronen\\AppData\\Local\\Packages\\PythonSoftwareFoundation.Python.3.11_qbz5n2kfra8p0\\LocalCache\\local-packages\\Python311\\site-packages\\moviepy\\video\\io\\ffmpeg_reader.py:190: UserWarning: In file https://videos.nba.com/nba/pbp/media/2025/01/31/0022400684/593/f9b1f71a-f9b8-2e9c-8164-3dc536498395_1280x720.mp4, 2764800 bytes wanted but 0 bytes read at frame index 392 (out of a total 543 frames), at time 6.53/9.05 sec. Using the last valid frame instead.\n",
      "  warnings.warn(\n",
      "C:\\Users\\ronen\\AppData\\Local\\Packages\\PythonSoftwareFoundation.Python.3.11_qbz5n2kfra8p0\\LocalCache\\local-packages\\Python311\\site-packages\\moviepy\\video\\io\\ffmpeg_reader.py:190: UserWarning: In file https://videos.nba.com/nba/pbp/media/2025/01/31/0022400684/593/f9b1f71a-f9b8-2e9c-8164-3dc536498395_1280x720.mp4, 2764800 bytes wanted but 0 bytes read at frame index 394 (out of a total 543 frames), at time 6.57/9.05 sec. Using the last valid frame instead.\n",
      "  warnings.warn(\n",
      "C:\\Users\\ronen\\AppData\\Local\\Packages\\PythonSoftwareFoundation.Python.3.11_qbz5n2kfra8p0\\LocalCache\\local-packages\\Python311\\site-packages\\moviepy\\video\\io\\ffmpeg_reader.py:190: UserWarning: In file https://videos.nba.com/nba/pbp/media/2025/01/31/0022400684/593/f9b1f71a-f9b8-2e9c-8164-3dc536498395_1280x720.mp4, 2764800 bytes wanted but 0 bytes read at frame index 396 (out of a total 543 frames), at time 6.60/9.05 sec. Using the last valid frame instead.\n",
      "  warnings.warn(\n",
      "frame_index:  14%|█▍        | 200/1424 [00:06<00:36, 33.99it/s, now=None]C:\\Users\\ronen\\AppData\\Local\\Packages\\PythonSoftwareFoundation.Python.3.11_qbz5n2kfra8p0\\LocalCache\\local-packages\\Python311\\site-packages\\moviepy\\video\\io\\ffmpeg_reader.py:190: UserWarning: In file https://videos.nba.com/nba/pbp/media/2025/01/31/0022400684/593/f9b1f71a-f9b8-2e9c-8164-3dc536498395_1280x720.mp4, 2764800 bytes wanted but 0 bytes read at frame index 398 (out of a total 543 frames), at time 6.63/9.05 sec. Using the last valid frame instead.\n",
      "  warnings.warn(\n",
      "C:\\Users\\ronen\\AppData\\Local\\Packages\\PythonSoftwareFoundation.Python.3.11_qbz5n2kfra8p0\\LocalCache\\local-packages\\Python311\\site-packages\\moviepy\\video\\io\\ffmpeg_reader.py:190: UserWarning: In file https://videos.nba.com/nba/pbp/media/2025/01/31/0022400684/593/f9b1f71a-f9b8-2e9c-8164-3dc536498395_1280x720.mp4, 2764800 bytes wanted but 0 bytes read at frame index 400 (out of a total 543 frames), at time 6.67/9.05 sec. Using the last valid frame instead.\n",
      "  warnings.warn(\n",
      "C:\\Users\\ronen\\AppData\\Local\\Packages\\PythonSoftwareFoundation.Python.3.11_qbz5n2kfra8p0\\LocalCache\\local-packages\\Python311\\site-packages\\moviepy\\video\\io\\ffmpeg_reader.py:190: UserWarning: In file https://videos.nba.com/nba/pbp/media/2025/01/31/0022400684/593/f9b1f71a-f9b8-2e9c-8164-3dc536498395_1280x720.mp4, 2764800 bytes wanted but 0 bytes read at frame index 402 (out of a total 543 frames), at time 6.70/9.05 sec. Using the last valid frame instead.\n",
      "  warnings.warn(\n",
      "C:\\Users\\ronen\\AppData\\Local\\Packages\\PythonSoftwareFoundation.Python.3.11_qbz5n2kfra8p0\\LocalCache\\local-packages\\Python311\\site-packages\\moviepy\\video\\io\\ffmpeg_reader.py:190: UserWarning: In file https://videos.nba.com/nba/pbp/media/2025/01/31/0022400684/593/f9b1f71a-f9b8-2e9c-8164-3dc536498395_1280x720.mp4, 2764800 bytes wanted but 0 bytes read at frame index 404 (out of a total 543 frames), at time 6.73/9.05 sec. Using the last valid frame instead.\n",
      "  warnings.warn(\n",
      "frame_index:  14%|█▍        | 204/1424 [00:06<00:37, 32.83it/s, now=None]C:\\Users\\ronen\\AppData\\Local\\Packages\\PythonSoftwareFoundation.Python.3.11_qbz5n2kfra8p0\\LocalCache\\local-packages\\Python311\\site-packages\\moviepy\\video\\io\\ffmpeg_reader.py:190: UserWarning: In file https://videos.nba.com/nba/pbp/media/2025/01/31/0022400684/593/f9b1f71a-f9b8-2e9c-8164-3dc536498395_1280x720.mp4, 2764800 bytes wanted but 0 bytes read at frame index 406 (out of a total 543 frames), at time 6.77/9.05 sec. Using the last valid frame instead.\n",
      "  warnings.warn(\n",
      "C:\\Users\\ronen\\AppData\\Local\\Packages\\PythonSoftwareFoundation.Python.3.11_qbz5n2kfra8p0\\LocalCache\\local-packages\\Python311\\site-packages\\moviepy\\video\\io\\ffmpeg_reader.py:190: UserWarning: In file https://videos.nba.com/nba/pbp/media/2025/01/31/0022400684/593/f9b1f71a-f9b8-2e9c-8164-3dc536498395_1280x720.mp4, 2764800 bytes wanted but 0 bytes read at frame index 408 (out of a total 543 frames), at time 6.80/9.05 sec. Using the last valid frame instead.\n",
      "  warnings.warn(\n",
      "C:\\Users\\ronen\\AppData\\Local\\Packages\\PythonSoftwareFoundation.Python.3.11_qbz5n2kfra8p0\\LocalCache\\local-packages\\Python311\\site-packages\\moviepy\\video\\io\\ffmpeg_reader.py:190: UserWarning: In file https://videos.nba.com/nba/pbp/media/2025/01/31/0022400684/593/f9b1f71a-f9b8-2e9c-8164-3dc536498395_1280x720.mp4, 2764800 bytes wanted but 0 bytes read at frame index 410 (out of a total 543 frames), at time 6.83/9.05 sec. Using the last valid frame instead.\n",
      "  warnings.warn(\n",
      "C:\\Users\\ronen\\AppData\\Local\\Packages\\PythonSoftwareFoundation.Python.3.11_qbz5n2kfra8p0\\LocalCache\\local-packages\\Python311\\site-packages\\moviepy\\video\\io\\ffmpeg_reader.py:190: UserWarning: In file https://videos.nba.com/nba/pbp/media/2025/01/31/0022400684/593/f9b1f71a-f9b8-2e9c-8164-3dc536498395_1280x720.mp4, 2764800 bytes wanted but 0 bytes read at frame index 412 (out of a total 543 frames), at time 6.87/9.05 sec. Using the last valid frame instead.\n",
      "  warnings.warn(\n",
      "frame_index:  15%|█▍        | 208/1424 [00:06<00:37, 32.26it/s, now=None]C:\\Users\\ronen\\AppData\\Local\\Packages\\PythonSoftwareFoundation.Python.3.11_qbz5n2kfra8p0\\LocalCache\\local-packages\\Python311\\site-packages\\moviepy\\video\\io\\ffmpeg_reader.py:190: UserWarning: In file https://videos.nba.com/nba/pbp/media/2025/01/31/0022400684/593/f9b1f71a-f9b8-2e9c-8164-3dc536498395_1280x720.mp4, 2764800 bytes wanted but 0 bytes read at frame index 414 (out of a total 543 frames), at time 6.90/9.05 sec. Using the last valid frame instead.\n",
      "  warnings.warn(\n",
      "C:\\Users\\ronen\\AppData\\Local\\Packages\\PythonSoftwareFoundation.Python.3.11_qbz5n2kfra8p0\\LocalCache\\local-packages\\Python311\\site-packages\\moviepy\\video\\io\\ffmpeg_reader.py:190: UserWarning: In file https://videos.nba.com/nba/pbp/media/2025/01/31/0022400684/593/f9b1f71a-f9b8-2e9c-8164-3dc536498395_1280x720.mp4, 2764800 bytes wanted but 0 bytes read at frame index 416 (out of a total 543 frames), at time 6.93/9.05 sec. Using the last valid frame instead.\n",
      "  warnings.warn(\n",
      "C:\\Users\\ronen\\AppData\\Local\\Packages\\PythonSoftwareFoundation.Python.3.11_qbz5n2kfra8p0\\LocalCache\\local-packages\\Python311\\site-packages\\moviepy\\video\\io\\ffmpeg_reader.py:190: UserWarning: In file https://videos.nba.com/nba/pbp/media/2025/01/31/0022400684/593/f9b1f71a-f9b8-2e9c-8164-3dc536498395_1280x720.mp4, 2764800 bytes wanted but 0 bytes read at frame index 418 (out of a total 543 frames), at time 6.97/9.05 sec. Using the last valid frame instead.\n",
      "  warnings.warn(\n",
      "C:\\Users\\ronen\\AppData\\Local\\Packages\\PythonSoftwareFoundation.Python.3.11_qbz5n2kfra8p0\\LocalCache\\local-packages\\Python311\\site-packages\\moviepy\\video\\io\\ffmpeg_reader.py:190: UserWarning: In file https://videos.nba.com/nba/pbp/media/2025/01/31/0022400684/593/f9b1f71a-f9b8-2e9c-8164-3dc536498395_1280x720.mp4, 2764800 bytes wanted but 0 bytes read at frame index 420 (out of a total 543 frames), at time 7.00/9.05 sec. Using the last valid frame instead.\n",
      "  warnings.warn(\n",
      "frame_index:  15%|█▍        | 212/1424 [00:06<00:37, 31.95it/s, now=None]C:\\Users\\ronen\\AppData\\Local\\Packages\\PythonSoftwareFoundation.Python.3.11_qbz5n2kfra8p0\\LocalCache\\local-packages\\Python311\\site-packages\\moviepy\\video\\io\\ffmpeg_reader.py:190: UserWarning: In file https://videos.nba.com/nba/pbp/media/2025/01/31/0022400684/593/f9b1f71a-f9b8-2e9c-8164-3dc536498395_1280x720.mp4, 2764800 bytes wanted but 0 bytes read at frame index 422 (out of a total 543 frames), at time 7.03/9.05 sec. Using the last valid frame instead.\n",
      "  warnings.warn(\n",
      "C:\\Users\\ronen\\AppData\\Local\\Packages\\PythonSoftwareFoundation.Python.3.11_qbz5n2kfra8p0\\LocalCache\\local-packages\\Python311\\site-packages\\moviepy\\video\\io\\ffmpeg_reader.py:190: UserWarning: In file https://videos.nba.com/nba/pbp/media/2025/01/31/0022400684/593/f9b1f71a-f9b8-2e9c-8164-3dc536498395_1280x720.mp4, 2764800 bytes wanted but 0 bytes read at frame index 424 (out of a total 543 frames), at time 7.07/9.05 sec. Using the last valid frame instead.\n",
      "  warnings.warn(\n",
      "C:\\Users\\ronen\\AppData\\Local\\Packages\\PythonSoftwareFoundation.Python.3.11_qbz5n2kfra8p0\\LocalCache\\local-packages\\Python311\\site-packages\\moviepy\\video\\io\\ffmpeg_reader.py:190: UserWarning: In file https://videos.nba.com/nba/pbp/media/2025/01/31/0022400684/593/f9b1f71a-f9b8-2e9c-8164-3dc536498395_1280x720.mp4, 2764800 bytes wanted but 0 bytes read at frame index 426 (out of a total 543 frames), at time 7.10/9.05 sec. Using the last valid frame instead.\n",
      "  warnings.warn(\n",
      "C:\\Users\\ronen\\AppData\\Local\\Packages\\PythonSoftwareFoundation.Python.3.11_qbz5n2kfra8p0\\LocalCache\\local-packages\\Python311\\site-packages\\moviepy\\video\\io\\ffmpeg_reader.py:190: UserWarning: In file https://videos.nba.com/nba/pbp/media/2025/01/31/0022400684/593/f9b1f71a-f9b8-2e9c-8164-3dc536498395_1280x720.mp4, 2764800 bytes wanted but 0 bytes read at frame index 428 (out of a total 543 frames), at time 7.13/9.05 sec. Using the last valid frame instead.\n",
      "  warnings.warn(\n",
      "frame_index:  15%|█▌        | 216/1424 [00:06<00:39, 30.81it/s, now=None]C:\\Users\\ronen\\AppData\\Local\\Packages\\PythonSoftwareFoundation.Python.3.11_qbz5n2kfra8p0\\LocalCache\\local-packages\\Python311\\site-packages\\moviepy\\video\\io\\ffmpeg_reader.py:190: UserWarning: In file https://videos.nba.com/nba/pbp/media/2025/01/31/0022400684/593/f9b1f71a-f9b8-2e9c-8164-3dc536498395_1280x720.mp4, 2764800 bytes wanted but 0 bytes read at frame index 430 (out of a total 543 frames), at time 7.17/9.05 sec. Using the last valid frame instead.\n",
      "  warnings.warn(\n",
      "C:\\Users\\ronen\\AppData\\Local\\Packages\\PythonSoftwareFoundation.Python.3.11_qbz5n2kfra8p0\\LocalCache\\local-packages\\Python311\\site-packages\\moviepy\\video\\io\\ffmpeg_reader.py:190: UserWarning: In file https://videos.nba.com/nba/pbp/media/2025/01/31/0022400684/593/f9b1f71a-f9b8-2e9c-8164-3dc536498395_1280x720.mp4, 2764800 bytes wanted but 0 bytes read at frame index 432 (out of a total 543 frames), at time 7.20/9.05 sec. Using the last valid frame instead.\n",
      "  warnings.warn(\n",
      "C:\\Users\\ronen\\AppData\\Local\\Packages\\PythonSoftwareFoundation.Python.3.11_qbz5n2kfra8p0\\LocalCache\\local-packages\\Python311\\site-packages\\moviepy\\video\\io\\ffmpeg_reader.py:190: UserWarning: In file https://videos.nba.com/nba/pbp/media/2025/01/31/0022400684/593/f9b1f71a-f9b8-2e9c-8164-3dc536498395_1280x720.mp4, 2764800 bytes wanted but 0 bytes read at frame index 434 (out of a total 543 frames), at time 7.23/9.05 sec. Using the last valid frame instead.\n",
      "  warnings.warn(\n",
      "C:\\Users\\ronen\\AppData\\Local\\Packages\\PythonSoftwareFoundation.Python.3.11_qbz5n2kfra8p0\\LocalCache\\local-packages\\Python311\\site-packages\\moviepy\\video\\io\\ffmpeg_reader.py:190: UserWarning: In file https://videos.nba.com/nba/pbp/media/2025/01/31/0022400684/593/f9b1f71a-f9b8-2e9c-8164-3dc536498395_1280x720.mp4, 2764800 bytes wanted but 0 bytes read at frame index 436 (out of a total 543 frames), at time 7.27/9.05 sec. Using the last valid frame instead.\n",
      "  warnings.warn(\n",
      "frame_index:  15%|█▌        | 220/1424 [00:06<00:38, 31.49it/s, now=None]C:\\Users\\ronen\\AppData\\Local\\Packages\\PythonSoftwareFoundation.Python.3.11_qbz5n2kfra8p0\\LocalCache\\local-packages\\Python311\\site-packages\\moviepy\\video\\io\\ffmpeg_reader.py:190: UserWarning: In file https://videos.nba.com/nba/pbp/media/2025/01/31/0022400684/593/f9b1f71a-f9b8-2e9c-8164-3dc536498395_1280x720.mp4, 2764800 bytes wanted but 0 bytes read at frame index 438 (out of a total 543 frames), at time 7.30/9.05 sec. Using the last valid frame instead.\n",
      "  warnings.warn(\n",
      "C:\\Users\\ronen\\AppData\\Local\\Packages\\PythonSoftwareFoundation.Python.3.11_qbz5n2kfra8p0\\LocalCache\\local-packages\\Python311\\site-packages\\moviepy\\video\\io\\ffmpeg_reader.py:190: UserWarning: In file https://videos.nba.com/nba/pbp/media/2025/01/31/0022400684/593/f9b1f71a-f9b8-2e9c-8164-3dc536498395_1280x720.mp4, 2764800 bytes wanted but 0 bytes read at frame index 440 (out of a total 543 frames), at time 7.33/9.05 sec. Using the last valid frame instead.\n",
      "  warnings.warn(\n",
      "C:\\Users\\ronen\\AppData\\Local\\Packages\\PythonSoftwareFoundation.Python.3.11_qbz5n2kfra8p0\\LocalCache\\local-packages\\Python311\\site-packages\\moviepy\\video\\io\\ffmpeg_reader.py:190: UserWarning: In file https://videos.nba.com/nba/pbp/media/2025/01/31/0022400684/593/f9b1f71a-f9b8-2e9c-8164-3dc536498395_1280x720.mp4, 2764800 bytes wanted but 0 bytes read at frame index 442 (out of a total 543 frames), at time 7.37/9.05 sec. Using the last valid frame instead.\n",
      "  warnings.warn(\n",
      "C:\\Users\\ronen\\AppData\\Local\\Packages\\PythonSoftwareFoundation.Python.3.11_qbz5n2kfra8p0\\LocalCache\\local-packages\\Python311\\site-packages\\moviepy\\video\\io\\ffmpeg_reader.py:190: UserWarning: In file https://videos.nba.com/nba/pbp/media/2025/01/31/0022400684/593/f9b1f71a-f9b8-2e9c-8164-3dc536498395_1280x720.mp4, 2764800 bytes wanted but 0 bytes read at frame index 444 (out of a total 543 frames), at time 7.40/9.05 sec. Using the last valid frame instead.\n",
      "  warnings.warn(\n",
      "frame_index:  16%|█▌        | 224/1424 [00:06<00:37, 32.21it/s, now=None]C:\\Users\\ronen\\AppData\\Local\\Packages\\PythonSoftwareFoundation.Python.3.11_qbz5n2kfra8p0\\LocalCache\\local-packages\\Python311\\site-packages\\moviepy\\video\\io\\ffmpeg_reader.py:190: UserWarning: In file https://videos.nba.com/nba/pbp/media/2025/01/31/0022400684/593/f9b1f71a-f9b8-2e9c-8164-3dc536498395_1280x720.mp4, 2764800 bytes wanted but 0 bytes read at frame index 446 (out of a total 543 frames), at time 7.43/9.05 sec. Using the last valid frame instead.\n",
      "  warnings.warn(\n",
      "C:\\Users\\ronen\\AppData\\Local\\Packages\\PythonSoftwareFoundation.Python.3.11_qbz5n2kfra8p0\\LocalCache\\local-packages\\Python311\\site-packages\\moviepy\\video\\io\\ffmpeg_reader.py:190: UserWarning: In file https://videos.nba.com/nba/pbp/media/2025/01/31/0022400684/593/f9b1f71a-f9b8-2e9c-8164-3dc536498395_1280x720.mp4, 2764800 bytes wanted but 0 bytes read at frame index 448 (out of a total 543 frames), at time 7.47/9.05 sec. Using the last valid frame instead.\n",
      "  warnings.warn(\n",
      "C:\\Users\\ronen\\AppData\\Local\\Packages\\PythonSoftwareFoundation.Python.3.11_qbz5n2kfra8p0\\LocalCache\\local-packages\\Python311\\site-packages\\moviepy\\video\\io\\ffmpeg_reader.py:190: UserWarning: In file https://videos.nba.com/nba/pbp/media/2025/01/31/0022400684/593/f9b1f71a-f9b8-2e9c-8164-3dc536498395_1280x720.mp4, 2764800 bytes wanted but 0 bytes read at frame index 450 (out of a total 543 frames), at time 7.50/9.05 sec. Using the last valid frame instead.\n",
      "  warnings.warn(\n",
      "C:\\Users\\ronen\\AppData\\Local\\Packages\\PythonSoftwareFoundation.Python.3.11_qbz5n2kfra8p0\\LocalCache\\local-packages\\Python311\\site-packages\\moviepy\\video\\io\\ffmpeg_reader.py:190: UserWarning: In file https://videos.nba.com/nba/pbp/media/2025/01/31/0022400684/593/f9b1f71a-f9b8-2e9c-8164-3dc536498395_1280x720.mp4, 2764800 bytes wanted but 0 bytes read at frame index 452 (out of a total 543 frames), at time 7.53/9.05 sec. Using the last valid frame instead.\n",
      "  warnings.warn(\n",
      "frame_index:  16%|█▌        | 228/1424 [00:06<00:37, 31.91it/s, now=None]C:\\Users\\ronen\\AppData\\Local\\Packages\\PythonSoftwareFoundation.Python.3.11_qbz5n2kfra8p0\\LocalCache\\local-packages\\Python311\\site-packages\\moviepy\\video\\io\\ffmpeg_reader.py:190: UserWarning: In file https://videos.nba.com/nba/pbp/media/2025/01/31/0022400684/593/f9b1f71a-f9b8-2e9c-8164-3dc536498395_1280x720.mp4, 2764800 bytes wanted but 0 bytes read at frame index 454 (out of a total 543 frames), at time 7.57/9.05 sec. Using the last valid frame instead.\n",
      "  warnings.warn(\n",
      "C:\\Users\\ronen\\AppData\\Local\\Packages\\PythonSoftwareFoundation.Python.3.11_qbz5n2kfra8p0\\LocalCache\\local-packages\\Python311\\site-packages\\moviepy\\video\\io\\ffmpeg_reader.py:190: UserWarning: In file https://videos.nba.com/nba/pbp/media/2025/01/31/0022400684/593/f9b1f71a-f9b8-2e9c-8164-3dc536498395_1280x720.mp4, 2764800 bytes wanted but 0 bytes read at frame index 456 (out of a total 543 frames), at time 7.60/9.05 sec. Using the last valid frame instead.\n",
      "  warnings.warn(\n",
      "C:\\Users\\ronen\\AppData\\Local\\Packages\\PythonSoftwareFoundation.Python.3.11_qbz5n2kfra8p0\\LocalCache\\local-packages\\Python311\\site-packages\\moviepy\\video\\io\\ffmpeg_reader.py:190: UserWarning: In file https://videos.nba.com/nba/pbp/media/2025/01/31/0022400684/593/f9b1f71a-f9b8-2e9c-8164-3dc536498395_1280x720.mp4, 2764800 bytes wanted but 0 bytes read at frame index 458 (out of a total 543 frames), at time 7.63/9.05 sec. Using the last valid frame instead.\n",
      "  warnings.warn(\n",
      "C:\\Users\\ronen\\AppData\\Local\\Packages\\PythonSoftwareFoundation.Python.3.11_qbz5n2kfra8p0\\LocalCache\\local-packages\\Python311\\site-packages\\moviepy\\video\\io\\ffmpeg_reader.py:190: UserWarning: In file https://videos.nba.com/nba/pbp/media/2025/01/31/0022400684/593/f9b1f71a-f9b8-2e9c-8164-3dc536498395_1280x720.mp4, 2764800 bytes wanted but 0 bytes read at frame index 460 (out of a total 543 frames), at time 7.67/9.05 sec. Using the last valid frame instead.\n",
      "  warnings.warn(\n",
      "frame_index:  16%|█▋        | 232/1424 [00:07<00:36, 32.49it/s, now=None]C:\\Users\\ronen\\AppData\\Local\\Packages\\PythonSoftwareFoundation.Python.3.11_qbz5n2kfra8p0\\LocalCache\\local-packages\\Python311\\site-packages\\moviepy\\video\\io\\ffmpeg_reader.py:190: UserWarning: In file https://videos.nba.com/nba/pbp/media/2025/01/31/0022400684/593/f9b1f71a-f9b8-2e9c-8164-3dc536498395_1280x720.mp4, 2764800 bytes wanted but 0 bytes read at frame index 462 (out of a total 543 frames), at time 7.70/9.05 sec. Using the last valid frame instead.\n",
      "  warnings.warn(\n",
      "C:\\Users\\ronen\\AppData\\Local\\Packages\\PythonSoftwareFoundation.Python.3.11_qbz5n2kfra8p0\\LocalCache\\local-packages\\Python311\\site-packages\\moviepy\\video\\io\\ffmpeg_reader.py:190: UserWarning: In file https://videos.nba.com/nba/pbp/media/2025/01/31/0022400684/593/f9b1f71a-f9b8-2e9c-8164-3dc536498395_1280x720.mp4, 2764800 bytes wanted but 0 bytes read at frame index 464 (out of a total 543 frames), at time 7.73/9.05 sec. Using the last valid frame instead.\n",
      "  warnings.warn(\n",
      "C:\\Users\\ronen\\AppData\\Local\\Packages\\PythonSoftwareFoundation.Python.3.11_qbz5n2kfra8p0\\LocalCache\\local-packages\\Python311\\site-packages\\moviepy\\video\\io\\ffmpeg_reader.py:190: UserWarning: In file https://videos.nba.com/nba/pbp/media/2025/01/31/0022400684/593/f9b1f71a-f9b8-2e9c-8164-3dc536498395_1280x720.mp4, 2764800 bytes wanted but 0 bytes read at frame index 466 (out of a total 543 frames), at time 7.77/9.05 sec. Using the last valid frame instead.\n",
      "  warnings.warn(\n",
      "C:\\Users\\ronen\\AppData\\Local\\Packages\\PythonSoftwareFoundation.Python.3.11_qbz5n2kfra8p0\\LocalCache\\local-packages\\Python311\\site-packages\\moviepy\\video\\io\\ffmpeg_reader.py:190: UserWarning: In file https://videos.nba.com/nba/pbp/media/2025/01/31/0022400684/593/f9b1f71a-f9b8-2e9c-8164-3dc536498395_1280x720.mp4, 2764800 bytes wanted but 0 bytes read at frame index 468 (out of a total 543 frames), at time 7.80/9.05 sec. Using the last valid frame instead.\n",
      "  warnings.warn(\n",
      "frame_index:  17%|█▋        | 236/1424 [00:07<00:37, 31.60it/s, now=None]C:\\Users\\ronen\\AppData\\Local\\Packages\\PythonSoftwareFoundation.Python.3.11_qbz5n2kfra8p0\\LocalCache\\local-packages\\Python311\\site-packages\\moviepy\\video\\io\\ffmpeg_reader.py:190: UserWarning: In file https://videos.nba.com/nba/pbp/media/2025/01/31/0022400684/593/f9b1f71a-f9b8-2e9c-8164-3dc536498395_1280x720.mp4, 2764800 bytes wanted but 0 bytes read at frame index 470 (out of a total 543 frames), at time 7.83/9.05 sec. Using the last valid frame instead.\n",
      "  warnings.warn(\n",
      "C:\\Users\\ronen\\AppData\\Local\\Packages\\PythonSoftwareFoundation.Python.3.11_qbz5n2kfra8p0\\LocalCache\\local-packages\\Python311\\site-packages\\moviepy\\video\\io\\ffmpeg_reader.py:190: UserWarning: In file https://videos.nba.com/nba/pbp/media/2025/01/31/0022400684/593/f9b1f71a-f9b8-2e9c-8164-3dc536498395_1280x720.mp4, 2764800 bytes wanted but 0 bytes read at frame index 472 (out of a total 543 frames), at time 7.87/9.05 sec. Using the last valid frame instead.\n",
      "  warnings.warn(\n",
      "C:\\Users\\ronen\\AppData\\Local\\Packages\\PythonSoftwareFoundation.Python.3.11_qbz5n2kfra8p0\\LocalCache\\local-packages\\Python311\\site-packages\\moviepy\\video\\io\\ffmpeg_reader.py:190: UserWarning: In file https://videos.nba.com/nba/pbp/media/2025/01/31/0022400684/593/f9b1f71a-f9b8-2e9c-8164-3dc536498395_1280x720.mp4, 2764800 bytes wanted but 0 bytes read at frame index 474 (out of a total 543 frames), at time 7.90/9.05 sec. Using the last valid frame instead.\n",
      "  warnings.warn(\n",
      "C:\\Users\\ronen\\AppData\\Local\\Packages\\PythonSoftwareFoundation.Python.3.11_qbz5n2kfra8p0\\LocalCache\\local-packages\\Python311\\site-packages\\moviepy\\video\\io\\ffmpeg_reader.py:190: UserWarning: In file https://videos.nba.com/nba/pbp/media/2025/01/31/0022400684/593/f9b1f71a-f9b8-2e9c-8164-3dc536498395_1280x720.mp4, 2764800 bytes wanted but 0 bytes read at frame index 476 (out of a total 543 frames), at time 7.93/9.05 sec. Using the last valid frame instead.\n",
      "  warnings.warn(\n",
      "frame_index:  17%|█▋        | 240/1424 [00:07<00:40, 28.93it/s, now=None]C:\\Users\\ronen\\AppData\\Local\\Packages\\PythonSoftwareFoundation.Python.3.11_qbz5n2kfra8p0\\LocalCache\\local-packages\\Python311\\site-packages\\moviepy\\video\\io\\ffmpeg_reader.py:190: UserWarning: In file https://videos.nba.com/nba/pbp/media/2025/01/31/0022400684/593/f9b1f71a-f9b8-2e9c-8164-3dc536498395_1280x720.mp4, 2764800 bytes wanted but 0 bytes read at frame index 478 (out of a total 543 frames), at time 7.97/9.05 sec. Using the last valid frame instead.\n",
      "  warnings.warn(\n",
      "C:\\Users\\ronen\\AppData\\Local\\Packages\\PythonSoftwareFoundation.Python.3.11_qbz5n2kfra8p0\\LocalCache\\local-packages\\Python311\\site-packages\\moviepy\\video\\io\\ffmpeg_reader.py:190: UserWarning: In file https://videos.nba.com/nba/pbp/media/2025/01/31/0022400684/593/f9b1f71a-f9b8-2e9c-8164-3dc536498395_1280x720.mp4, 2764800 bytes wanted but 0 bytes read at frame index 480 (out of a total 543 frames), at time 8.00/9.05 sec. Using the last valid frame instead.\n",
      "  warnings.warn(\n",
      "C:\\Users\\ronen\\AppData\\Local\\Packages\\PythonSoftwareFoundation.Python.3.11_qbz5n2kfra8p0\\LocalCache\\local-packages\\Python311\\site-packages\\moviepy\\video\\io\\ffmpeg_reader.py:190: UserWarning: In file https://videos.nba.com/nba/pbp/media/2025/01/31/0022400684/593/f9b1f71a-f9b8-2e9c-8164-3dc536498395_1280x720.mp4, 2764800 bytes wanted but 0 bytes read at frame index 482 (out of a total 543 frames), at time 8.03/9.05 sec. Using the last valid frame instead.\n",
      "  warnings.warn(\n",
      "frame_index:  17%|█▋        | 243/1424 [00:07<00:40, 29.05it/s, now=None]C:\\Users\\ronen\\AppData\\Local\\Packages\\PythonSoftwareFoundation.Python.3.11_qbz5n2kfra8p0\\LocalCache\\local-packages\\Python311\\site-packages\\moviepy\\video\\io\\ffmpeg_reader.py:190: UserWarning: In file https://videos.nba.com/nba/pbp/media/2025/01/31/0022400684/593/f9b1f71a-f9b8-2e9c-8164-3dc536498395_1280x720.mp4, 2764800 bytes wanted but 0 bytes read at frame index 484 (out of a total 543 frames), at time 8.07/9.05 sec. Using the last valid frame instead.\n",
      "  warnings.warn(\n",
      "C:\\Users\\ronen\\AppData\\Local\\Packages\\PythonSoftwareFoundation.Python.3.11_qbz5n2kfra8p0\\LocalCache\\local-packages\\Python311\\site-packages\\moviepy\\video\\io\\ffmpeg_reader.py:190: UserWarning: In file https://videos.nba.com/nba/pbp/media/2025/01/31/0022400684/593/f9b1f71a-f9b8-2e9c-8164-3dc536498395_1280x720.mp4, 2764800 bytes wanted but 0 bytes read at frame index 486 (out of a total 543 frames), at time 8.10/9.05 sec. Using the last valid frame instead.\n",
      "  warnings.warn(\n",
      "C:\\Users\\ronen\\AppData\\Local\\Packages\\PythonSoftwareFoundation.Python.3.11_qbz5n2kfra8p0\\LocalCache\\local-packages\\Python311\\site-packages\\moviepy\\video\\io\\ffmpeg_reader.py:190: UserWarning: In file https://videos.nba.com/nba/pbp/media/2025/01/31/0022400684/593/f9b1f71a-f9b8-2e9c-8164-3dc536498395_1280x720.mp4, 2764800 bytes wanted but 0 bytes read at frame index 488 (out of a total 543 frames), at time 8.13/9.05 sec. Using the last valid frame instead.\n",
      "  warnings.warn(\n",
      "C:\\Users\\ronen\\AppData\\Local\\Packages\\PythonSoftwareFoundation.Python.3.11_qbz5n2kfra8p0\\LocalCache\\local-packages\\Python311\\site-packages\\moviepy\\video\\io\\ffmpeg_reader.py:190: UserWarning: In file https://videos.nba.com/nba/pbp/media/2025/01/31/0022400684/593/f9b1f71a-f9b8-2e9c-8164-3dc536498395_1280x720.mp4, 2764800 bytes wanted but 0 bytes read at frame index 490 (out of a total 543 frames), at time 8.17/9.05 sec. Using the last valid frame instead.\n",
      "  warnings.warn(\n",
      "frame_index:  17%|█▋        | 247/1424 [00:07<00:38, 30.62it/s, now=None]C:\\Users\\ronen\\AppData\\Local\\Packages\\PythonSoftwareFoundation.Python.3.11_qbz5n2kfra8p0\\LocalCache\\local-packages\\Python311\\site-packages\\moviepy\\video\\io\\ffmpeg_reader.py:190: UserWarning: In file https://videos.nba.com/nba/pbp/media/2025/01/31/0022400684/593/f9b1f71a-f9b8-2e9c-8164-3dc536498395_1280x720.mp4, 2764800 bytes wanted but 0 bytes read at frame index 492 (out of a total 543 frames), at time 8.20/9.05 sec. Using the last valid frame instead.\n",
      "  warnings.warn(\n",
      "C:\\Users\\ronen\\AppData\\Local\\Packages\\PythonSoftwareFoundation.Python.3.11_qbz5n2kfra8p0\\LocalCache\\local-packages\\Python311\\site-packages\\moviepy\\video\\io\\ffmpeg_reader.py:190: UserWarning: In file https://videos.nba.com/nba/pbp/media/2025/01/31/0022400684/593/f9b1f71a-f9b8-2e9c-8164-3dc536498395_1280x720.mp4, 2764800 bytes wanted but 0 bytes read at frame index 494 (out of a total 543 frames), at time 8.23/9.05 sec. Using the last valid frame instead.\n",
      "  warnings.warn(\n",
      "C:\\Users\\ronen\\AppData\\Local\\Packages\\PythonSoftwareFoundation.Python.3.11_qbz5n2kfra8p0\\LocalCache\\local-packages\\Python311\\site-packages\\moviepy\\video\\io\\ffmpeg_reader.py:190: UserWarning: In file https://videos.nba.com/nba/pbp/media/2025/01/31/0022400684/593/f9b1f71a-f9b8-2e9c-8164-3dc536498395_1280x720.mp4, 2764800 bytes wanted but 0 bytes read at frame index 496 (out of a total 543 frames), at time 8.27/9.05 sec. Using the last valid frame instead.\n",
      "  warnings.warn(\n",
      "C:\\Users\\ronen\\AppData\\Local\\Packages\\PythonSoftwareFoundation.Python.3.11_qbz5n2kfra8p0\\LocalCache\\local-packages\\Python311\\site-packages\\moviepy\\video\\io\\ffmpeg_reader.py:190: UserWarning: In file https://videos.nba.com/nba/pbp/media/2025/01/31/0022400684/593/f9b1f71a-f9b8-2e9c-8164-3dc536498395_1280x720.mp4, 2764800 bytes wanted but 0 bytes read at frame index 498 (out of a total 543 frames), at time 8.30/9.05 sec. Using the last valid frame instead.\n",
      "  warnings.warn(\n",
      "frame_index:  18%|█▊        | 251/1424 [00:07<00:37, 31.39it/s, now=None]C:\\Users\\ronen\\AppData\\Local\\Packages\\PythonSoftwareFoundation.Python.3.11_qbz5n2kfra8p0\\LocalCache\\local-packages\\Python311\\site-packages\\moviepy\\video\\io\\ffmpeg_reader.py:190: UserWarning: In file https://videos.nba.com/nba/pbp/media/2025/01/31/0022400684/593/f9b1f71a-f9b8-2e9c-8164-3dc536498395_1280x720.mp4, 2764800 bytes wanted but 0 bytes read at frame index 500 (out of a total 543 frames), at time 8.33/9.05 sec. Using the last valid frame instead.\n",
      "  warnings.warn(\n",
      "C:\\Users\\ronen\\AppData\\Local\\Packages\\PythonSoftwareFoundation.Python.3.11_qbz5n2kfra8p0\\LocalCache\\local-packages\\Python311\\site-packages\\moviepy\\video\\io\\ffmpeg_reader.py:190: UserWarning: In file https://videos.nba.com/nba/pbp/media/2025/01/31/0022400684/593/f9b1f71a-f9b8-2e9c-8164-3dc536498395_1280x720.mp4, 2764800 bytes wanted but 0 bytes read at frame index 502 (out of a total 543 frames), at time 8.37/9.05 sec. Using the last valid frame instead.\n",
      "  warnings.warn(\n",
      "C:\\Users\\ronen\\AppData\\Local\\Packages\\PythonSoftwareFoundation.Python.3.11_qbz5n2kfra8p0\\LocalCache\\local-packages\\Python311\\site-packages\\moviepy\\video\\io\\ffmpeg_reader.py:190: UserWarning: In file https://videos.nba.com/nba/pbp/media/2025/01/31/0022400684/593/f9b1f71a-f9b8-2e9c-8164-3dc536498395_1280x720.mp4, 2764800 bytes wanted but 0 bytes read at frame index 504 (out of a total 543 frames), at time 8.40/9.05 sec. Using the last valid frame instead.\n",
      "  warnings.warn(\n",
      "C:\\Users\\ronen\\AppData\\Local\\Packages\\PythonSoftwareFoundation.Python.3.11_qbz5n2kfra8p0\\LocalCache\\local-packages\\Python311\\site-packages\\moviepy\\video\\io\\ffmpeg_reader.py:190: UserWarning: In file https://videos.nba.com/nba/pbp/media/2025/01/31/0022400684/593/f9b1f71a-f9b8-2e9c-8164-3dc536498395_1280x720.mp4, 2764800 bytes wanted but 0 bytes read at frame index 506 (out of a total 543 frames), at time 8.43/9.05 sec. Using the last valid frame instead.\n",
      "  warnings.warn(\n",
      "frame_index:  18%|█▊        | 255/1424 [00:07<00:37, 31.35it/s, now=None]C:\\Users\\ronen\\AppData\\Local\\Packages\\PythonSoftwareFoundation.Python.3.11_qbz5n2kfra8p0\\LocalCache\\local-packages\\Python311\\site-packages\\moviepy\\video\\io\\ffmpeg_reader.py:190: UserWarning: In file https://videos.nba.com/nba/pbp/media/2025/01/31/0022400684/593/f9b1f71a-f9b8-2e9c-8164-3dc536498395_1280x720.mp4, 2764800 bytes wanted but 0 bytes read at frame index 508 (out of a total 543 frames), at time 8.47/9.05 sec. Using the last valid frame instead.\n",
      "  warnings.warn(\n",
      "C:\\Users\\ronen\\AppData\\Local\\Packages\\PythonSoftwareFoundation.Python.3.11_qbz5n2kfra8p0\\LocalCache\\local-packages\\Python311\\site-packages\\moviepy\\video\\io\\ffmpeg_reader.py:190: UserWarning: In file https://videos.nba.com/nba/pbp/media/2025/01/31/0022400684/593/f9b1f71a-f9b8-2e9c-8164-3dc536498395_1280x720.mp4, 2764800 bytes wanted but 0 bytes read at frame index 510 (out of a total 543 frames), at time 8.50/9.05 sec. Using the last valid frame instead.\n",
      "  warnings.warn(\n",
      "C:\\Users\\ronen\\AppData\\Local\\Packages\\PythonSoftwareFoundation.Python.3.11_qbz5n2kfra8p0\\LocalCache\\local-packages\\Python311\\site-packages\\moviepy\\video\\io\\ffmpeg_reader.py:190: UserWarning: In file https://videos.nba.com/nba/pbp/media/2025/01/31/0022400684/593/f9b1f71a-f9b8-2e9c-8164-3dc536498395_1280x720.mp4, 2764800 bytes wanted but 0 bytes read at frame index 512 (out of a total 543 frames), at time 8.53/9.05 sec. Using the last valid frame instead.\n",
      "  warnings.warn(\n",
      "C:\\Users\\ronen\\AppData\\Local\\Packages\\PythonSoftwareFoundation.Python.3.11_qbz5n2kfra8p0\\LocalCache\\local-packages\\Python311\\site-packages\\moviepy\\video\\io\\ffmpeg_reader.py:190: UserWarning: In file https://videos.nba.com/nba/pbp/media/2025/01/31/0022400684/593/f9b1f71a-f9b8-2e9c-8164-3dc536498395_1280x720.mp4, 2764800 bytes wanted but 0 bytes read at frame index 514 (out of a total 543 frames), at time 8.57/9.05 sec. Using the last valid frame instead.\n",
      "  warnings.warn(\n",
      "frame_index:  18%|█▊        | 259/1424 [00:07<00:36, 32.35it/s, now=None]C:\\Users\\ronen\\AppData\\Local\\Packages\\PythonSoftwareFoundation.Python.3.11_qbz5n2kfra8p0\\LocalCache\\local-packages\\Python311\\site-packages\\moviepy\\video\\io\\ffmpeg_reader.py:190: UserWarning: In file https://videos.nba.com/nba/pbp/media/2025/01/31/0022400684/593/f9b1f71a-f9b8-2e9c-8164-3dc536498395_1280x720.mp4, 2764800 bytes wanted but 0 bytes read at frame index 516 (out of a total 543 frames), at time 8.60/9.05 sec. Using the last valid frame instead.\n",
      "  warnings.warn(\n",
      "C:\\Users\\ronen\\AppData\\Local\\Packages\\PythonSoftwareFoundation.Python.3.11_qbz5n2kfra8p0\\LocalCache\\local-packages\\Python311\\site-packages\\moviepy\\video\\io\\ffmpeg_reader.py:190: UserWarning: In file https://videos.nba.com/nba/pbp/media/2025/01/31/0022400684/593/f9b1f71a-f9b8-2e9c-8164-3dc536498395_1280x720.mp4, 2764800 bytes wanted but 0 bytes read at frame index 518 (out of a total 543 frames), at time 8.63/9.05 sec. Using the last valid frame instead.\n",
      "  warnings.warn(\n",
      "C:\\Users\\ronen\\AppData\\Local\\Packages\\PythonSoftwareFoundation.Python.3.11_qbz5n2kfra8p0\\LocalCache\\local-packages\\Python311\\site-packages\\moviepy\\video\\io\\ffmpeg_reader.py:190: UserWarning: In file https://videos.nba.com/nba/pbp/media/2025/01/31/0022400684/593/f9b1f71a-f9b8-2e9c-8164-3dc536498395_1280x720.mp4, 2764800 bytes wanted but 0 bytes read at frame index 520 (out of a total 543 frames), at time 8.67/9.05 sec. Using the last valid frame instead.\n",
      "  warnings.warn(\n",
      "C:\\Users\\ronen\\AppData\\Local\\Packages\\PythonSoftwareFoundation.Python.3.11_qbz5n2kfra8p0\\LocalCache\\local-packages\\Python311\\site-packages\\moviepy\\video\\io\\ffmpeg_reader.py:190: UserWarning: In file https://videos.nba.com/nba/pbp/media/2025/01/31/0022400684/593/f9b1f71a-f9b8-2e9c-8164-3dc536498395_1280x720.mp4, 2764800 bytes wanted but 0 bytes read at frame index 522 (out of a total 543 frames), at time 8.70/9.05 sec. Using the last valid frame instead.\n",
      "  warnings.warn(\n",
      "frame_index:  18%|█▊        | 263/1424 [00:08<00:37, 30.69it/s, now=None]C:\\Users\\ronen\\AppData\\Local\\Packages\\PythonSoftwareFoundation.Python.3.11_qbz5n2kfra8p0\\LocalCache\\local-packages\\Python311\\site-packages\\moviepy\\video\\io\\ffmpeg_reader.py:190: UserWarning: In file https://videos.nba.com/nba/pbp/media/2025/01/31/0022400684/593/f9b1f71a-f9b8-2e9c-8164-3dc536498395_1280x720.mp4, 2764800 bytes wanted but 0 bytes read at frame index 524 (out of a total 543 frames), at time 8.73/9.05 sec. Using the last valid frame instead.\n",
      "  warnings.warn(\n",
      "C:\\Users\\ronen\\AppData\\Local\\Packages\\PythonSoftwareFoundation.Python.3.11_qbz5n2kfra8p0\\LocalCache\\local-packages\\Python311\\site-packages\\moviepy\\video\\io\\ffmpeg_reader.py:190: UserWarning: In file https://videos.nba.com/nba/pbp/media/2025/01/31/0022400684/593/f9b1f71a-f9b8-2e9c-8164-3dc536498395_1280x720.mp4, 2764800 bytes wanted but 0 bytes read at frame index 526 (out of a total 543 frames), at time 8.77/9.05 sec. Using the last valid frame instead.\n",
      "  warnings.warn(\n",
      "C:\\Users\\ronen\\AppData\\Local\\Packages\\PythonSoftwareFoundation.Python.3.11_qbz5n2kfra8p0\\LocalCache\\local-packages\\Python311\\site-packages\\moviepy\\video\\io\\ffmpeg_reader.py:190: UserWarning: In file https://videos.nba.com/nba/pbp/media/2025/01/31/0022400684/593/f9b1f71a-f9b8-2e9c-8164-3dc536498395_1280x720.mp4, 2764800 bytes wanted but 0 bytes read at frame index 528 (out of a total 543 frames), at time 8.80/9.05 sec. Using the last valid frame instead.\n",
      "  warnings.warn(\n",
      "C:\\Users\\ronen\\AppData\\Local\\Packages\\PythonSoftwareFoundation.Python.3.11_qbz5n2kfra8p0\\LocalCache\\local-packages\\Python311\\site-packages\\moviepy\\video\\io\\ffmpeg_reader.py:190: UserWarning: In file https://videos.nba.com/nba/pbp/media/2025/01/31/0022400684/593/f9b1f71a-f9b8-2e9c-8164-3dc536498395_1280x720.mp4, 2764800 bytes wanted but 0 bytes read at frame index 530 (out of a total 543 frames), at time 8.83/9.05 sec. Using the last valid frame instead.\n",
      "  warnings.warn(\n",
      "frame_index:  19%|█▉        | 267/1424 [00:08<00:36, 31.37it/s, now=None]C:\\Users\\ronen\\AppData\\Local\\Packages\\PythonSoftwareFoundation.Python.3.11_qbz5n2kfra8p0\\LocalCache\\local-packages\\Python311\\site-packages\\moviepy\\video\\io\\ffmpeg_reader.py:190: UserWarning: In file https://videos.nba.com/nba/pbp/media/2025/01/31/0022400684/593/f9b1f71a-f9b8-2e9c-8164-3dc536498395_1280x720.mp4, 2764800 bytes wanted but 0 bytes read at frame index 532 (out of a total 543 frames), at time 8.87/9.05 sec. Using the last valid frame instead.\n",
      "  warnings.warn(\n",
      "C:\\Users\\ronen\\AppData\\Local\\Packages\\PythonSoftwareFoundation.Python.3.11_qbz5n2kfra8p0\\LocalCache\\local-packages\\Python311\\site-packages\\moviepy\\video\\io\\ffmpeg_reader.py:190: UserWarning: In file https://videos.nba.com/nba/pbp/media/2025/01/31/0022400684/593/f9b1f71a-f9b8-2e9c-8164-3dc536498395_1280x720.mp4, 2764800 bytes wanted but 0 bytes read at frame index 534 (out of a total 543 frames), at time 8.90/9.05 sec. Using the last valid frame instead.\n",
      "  warnings.warn(\n",
      "C:\\Users\\ronen\\AppData\\Local\\Packages\\PythonSoftwareFoundation.Python.3.11_qbz5n2kfra8p0\\LocalCache\\local-packages\\Python311\\site-packages\\moviepy\\video\\io\\ffmpeg_reader.py:190: UserWarning: In file https://videos.nba.com/nba/pbp/media/2025/01/31/0022400684/593/f9b1f71a-f9b8-2e9c-8164-3dc536498395_1280x720.mp4, 2764800 bytes wanted but 0 bytes read at frame index 536 (out of a total 543 frames), at time 8.93/9.05 sec. Using the last valid frame instead.\n",
      "  warnings.warn(\n",
      "C:\\Users\\ronen\\AppData\\Local\\Packages\\PythonSoftwareFoundation.Python.3.11_qbz5n2kfra8p0\\LocalCache\\local-packages\\Python311\\site-packages\\moviepy\\video\\io\\ffmpeg_reader.py:190: UserWarning: In file https://videos.nba.com/nba/pbp/media/2025/01/31/0022400684/593/f9b1f71a-f9b8-2e9c-8164-3dc536498395_1280x720.mp4, 2764800 bytes wanted but 0 bytes read at frame index 538 (out of a total 543 frames), at time 8.97/9.05 sec. Using the last valid frame instead.\n",
      "  warnings.warn(\n",
      "frame_index:  19%|█▉        | 271/1424 [00:08<00:39, 29.53it/s, now=None]C:\\Users\\ronen\\AppData\\Local\\Packages\\PythonSoftwareFoundation.Python.3.11_qbz5n2kfra8p0\\LocalCache\\local-packages\\Python311\\site-packages\\moviepy\\video\\io\\ffmpeg_reader.py:190: UserWarning: In file https://videos.nba.com/nba/pbp/media/2025/01/31/0022400684/593/f9b1f71a-f9b8-2e9c-8164-3dc536498395_1280x720.mp4, 2764800 bytes wanted but 0 bytes read at frame index 540 (out of a total 543 frames), at time 9.00/9.05 sec. Using the last valid frame instead.\n",
      "  warnings.warn(\n",
      "C:\\Users\\ronen\\AppData\\Local\\Packages\\PythonSoftwareFoundation.Python.3.11_qbz5n2kfra8p0\\LocalCache\\local-packages\\Python311\\site-packages\\moviepy\\video\\io\\ffmpeg_reader.py:190: UserWarning: In file https://videos.nba.com/nba/pbp/media/2025/01/31/0022400684/593/f9b1f71a-f9b8-2e9c-8164-3dc536498395_1280x720.mp4, 2764800 bytes wanted but 0 bytes read at frame index 542 (out of a total 543 frames), at time 9.03/9.05 sec. Using the last valid frame instead.\n",
      "  warnings.warn(\n",
      "frame_index:  81%|████████  | 1151/1424 [00:36<00:08, 31.54it/s, now=None]C:\\Users\\ronen\\AppData\\Local\\Packages\\PythonSoftwareFoundation.Python.3.11_qbz5n2kfra8p0\\LocalCache\\local-packages\\Python311\\site-packages\\moviepy\\video\\io\\ffmpeg_reader.py:190: UserWarning: In file https://videos.nba.com/nba/pbp/media/2025/01/31/0022400684/623/4db9d5c9-6e0c-e703-34a7-ce124a281ed8_1280x720.mp4, 2764800 bytes wanted but 0 bytes read at frame index 457 (out of a total 457 frames), at time 7.62/7.62 sec. Using the last valid frame instead.\n",
      "  warnings.warn(\n",
      "                                                                          "
     ]
    },
    {
     "name": "stdout",
     "output_type": "stream",
     "text": [
      "MoviePy - Done !\n",
      "MoviePy - video ready example2_20250131q4.mp4\n"
     ]
    },
    {
     "name": "stderr",
     "output_type": "stream",
     "text": [
      "\r"
     ]
    }
   ],
   "source": [
    "make_video(wemby_stocks_urls, \"example2\", 30, \"ultrafast\", \"Quarter\")"
   ]
  },
  {
   "cell_type": "code",
   "execution_count": 28,
   "id": "4d410814",
   "metadata": {},
   "outputs": [
    {
     "data": {
      "text/html": [
       "<video src=\"example2_20250123q1.mp4\" controls  >\n",
       "      Your browser does not support the <code>video</code> element.\n",
       "    </video>"
      ],
      "text/plain": [
       "<IPython.core.display.Video object>"
      ]
     },
     "execution_count": 28,
     "metadata": {},
     "output_type": "execute_result"
    }
   ],
   "source": [
    "Video(\"example2_20250123q1.mp4\")"
   ]
  },
  {
   "cell_type": "code",
   "execution_count": 29,
   "id": "28bfcc35",
   "metadata": {},
   "outputs": [
    {
     "data": {
      "text/html": [
       "<video src=\"example2_20250123q2.mp4\" controls  >\n",
       "      Your browser does not support the <code>video</code> element.\n",
       "    </video>"
      ],
      "text/plain": [
       "<IPython.core.display.Video object>"
      ]
     },
     "execution_count": 29,
     "metadata": {},
     "output_type": "execute_result"
    }
   ],
   "source": [
    "Video(\"example2_20250123q2.mp4\")"
   ]
  },
  {
   "cell_type": "code",
   "execution_count": 30,
   "id": "d8f1bb05",
   "metadata": {},
   "outputs": [
    {
     "data": {
      "text/html": [
       "<video src=\"example2_20250123q3.mp4\" controls  >\n",
       "      Your browser does not support the <code>video</code> element.\n",
       "    </video>"
      ],
      "text/plain": [
       "<IPython.core.display.Video object>"
      ]
     },
     "execution_count": 30,
     "metadata": {},
     "output_type": "execute_result"
    }
   ],
   "source": [
    "Video(\"example2_20250123q3.mp4\")"
   ]
  },
  {
   "cell_type": "code",
   "execution_count": 31,
   "id": "373e14e2",
   "metadata": {},
   "outputs": [
    {
     "data": {
      "text/html": [
       "<video src=\"example2_20250123q4.mp4\" controls  >\n",
       "      Your browser does not support the <code>video</code> element.\n",
       "    </video>"
      ],
      "text/plain": [
       "<IPython.core.display.Video object>"
      ]
     },
     "execution_count": 31,
     "metadata": {},
     "output_type": "execute_result"
    }
   ],
   "source": [
    "Video(\"example2_20250123q4.mp4\")"
   ]
  },
  {
   "cell_type": "code",
   "execution_count": 32,
   "id": "40693e4e",
   "metadata": {},
   "outputs": [
    {
     "data": {
      "text/html": [
       "<video src=\"example2_20250125q2.mp4\" controls  >\n",
       "      Your browser does not support the <code>video</code> element.\n",
       "    </video>"
      ],
      "text/plain": [
       "<IPython.core.display.Video object>"
      ]
     },
     "execution_count": 32,
     "metadata": {},
     "output_type": "execute_result"
    }
   ],
   "source": [
    "Video(\"example2_20250125q2.mp4\")"
   ]
  },
  {
   "cell_type": "code",
   "execution_count": 33,
   "id": "50181e04",
   "metadata": {},
   "outputs": [
    {
     "data": {
      "text/html": [
       "<video src=\"example2_20250125q3.mp4\" controls  >\n",
       "      Your browser does not support the <code>video</code> element.\n",
       "    </video>"
      ],
      "text/plain": [
       "<IPython.core.display.Video object>"
      ]
     },
     "execution_count": 33,
     "metadata": {},
     "output_type": "execute_result"
    }
   ],
   "source": [
    "Video(\"example2_20250125q3.mp4\")"
   ]
  },
  {
   "cell_type": "code",
   "execution_count": 34,
   "id": "e21e88c8",
   "metadata": {},
   "outputs": [
    {
     "data": {
      "text/html": [
       "<video src=\"example2_20250125q4.mp4\" controls  >\n",
       "      Your browser does not support the <code>video</code> element.\n",
       "    </video>"
      ],
      "text/plain": [
       "<IPython.core.display.Video object>"
      ]
     },
     "execution_count": 34,
     "metadata": {},
     "output_type": "execute_result"
    }
   ],
   "source": [
    "Video(\"example2_20250125q4.mp4\")"
   ]
  },
  {
   "cell_type": "code",
   "execution_count": 35,
   "id": "290996a2",
   "metadata": {},
   "outputs": [
    {
     "data": {
      "text/html": [
       "<video src=\"example2_20250129q1.mp4\" controls  >\n",
       "      Your browser does not support the <code>video</code> element.\n",
       "    </video>"
      ],
      "text/plain": [
       "<IPython.core.display.Video object>"
      ]
     },
     "execution_count": 35,
     "metadata": {},
     "output_type": "execute_result"
    }
   ],
   "source": [
    "Video(\"example2_20250129q1.mp4\")"
   ]
  },
  {
   "cell_type": "code",
   "execution_count": 36,
   "id": "580fbbfd",
   "metadata": {},
   "outputs": [
    {
     "data": {
      "text/html": [
       "<video src=\"example2_20250129q2.mp4\" controls  >\n",
       "      Your browser does not support the <code>video</code> element.\n",
       "    </video>"
      ],
      "text/plain": [
       "<IPython.core.display.Video object>"
      ]
     },
     "execution_count": 36,
     "metadata": {},
     "output_type": "execute_result"
    }
   ],
   "source": [
    "Video(\"example2_20250129q2.mp4\")"
   ]
  },
  {
   "cell_type": "code",
   "execution_count": 37,
   "id": "37676480",
   "metadata": {},
   "outputs": [
    {
     "data": {
      "text/html": [
       "<video src=\"example2_20250129q3.mp4\" controls  >\n",
       "      Your browser does not support the <code>video</code> element.\n",
       "    </video>"
      ],
      "text/plain": [
       "<IPython.core.display.Video object>"
      ]
     },
     "execution_count": 37,
     "metadata": {},
     "output_type": "execute_result"
    }
   ],
   "source": [
    "Video(\"example2_20250129q3.mp4\")"
   ]
  },
  {
   "cell_type": "code",
   "execution_count": 38,
   "id": "3091216e",
   "metadata": {},
   "outputs": [
    {
     "data": {
      "text/html": [
       "<video src=\"example2_20250129q4.mp4\" controls  >\n",
       "      Your browser does not support the <code>video</code> element.\n",
       "    </video>"
      ],
      "text/plain": [
       "<IPython.core.display.Video object>"
      ]
     },
     "execution_count": 38,
     "metadata": {},
     "output_type": "execute_result"
    }
   ],
   "source": [
    "Video(\"example2_20250129q4.mp4\")"
   ]
  },
  {
   "cell_type": "code",
   "execution_count": 39,
   "id": "e9933ac6",
   "metadata": {},
   "outputs": [
    {
     "data": {
      "text/html": [
       "<video src=\"example2_20250131q1.mp4\" controls  >\n",
       "      Your browser does not support the <code>video</code> element.\n",
       "    </video>"
      ],
      "text/plain": [
       "<IPython.core.display.Video object>"
      ]
     },
     "execution_count": 39,
     "metadata": {},
     "output_type": "execute_result"
    }
   ],
   "source": [
    "Video(\"example2_20250131q1.mp4\")"
   ]
  },
  {
   "cell_type": "code",
   "execution_count": 40,
   "id": "f7d4aef4",
   "metadata": {},
   "outputs": [
    {
     "data": {
      "text/html": [
       "<video src=\"example2_20250131q2.mp4\" controls  >\n",
       "      Your browser does not support the <code>video</code> element.\n",
       "    </video>"
      ],
      "text/plain": [
       "<IPython.core.display.Video object>"
      ]
     },
     "execution_count": 40,
     "metadata": {},
     "output_type": "execute_result"
    }
   ],
   "source": [
    "Video(\"example2_20250131q2.mp4\")"
   ]
  },
  {
   "cell_type": "code",
   "execution_count": 41,
   "id": "5592f1f5",
   "metadata": {},
   "outputs": [
    {
     "data": {
      "text/html": [
       "<video src=\"example2_20250131q3.mp4\" controls  >\n",
       "      Your browser does not support the <code>video</code> element.\n",
       "    </video>"
      ],
      "text/plain": [
       "<IPython.core.display.Video object>"
      ]
     },
     "execution_count": 41,
     "metadata": {},
     "output_type": "execute_result"
    }
   ],
   "source": [
    "Video(\"example2_20250131q3.mp4\")"
   ]
  },
  {
   "cell_type": "code",
   "execution_count": 42,
   "id": "64f75d88",
   "metadata": {},
   "outputs": [
    {
     "data": {
      "text/html": [
       "<video src=\"example2_20250131q4.mp4\" controls  >\n",
       "      Your browser does not support the <code>video</code> element.\n",
       "    </video>"
      ],
      "text/plain": [
       "<IPython.core.display.Video object>"
      ]
     },
     "execution_count": 42,
     "metadata": {},
     "output_type": "execute_result"
    }
   ],
   "source": [
    "Video(\"example2_20250131q4.mp4\")"
   ]
  }
 ],
 "metadata": {
  "kernelspec": {
   "display_name": "Python 3",
   "language": "python",
   "name": "python3"
  },
  "language_info": {
   "codemirror_mode": {
    "name": "ipython",
    "version": 3
   },
   "file_extension": ".py",
   "mimetype": "text/x-python",
   "name": "python",
   "nbconvert_exporter": "python",
   "pygments_lexer": "ipython3",
   "version": "3.11.9"
  }
 },
 "nbformat": 4,
 "nbformat_minor": 5
}
